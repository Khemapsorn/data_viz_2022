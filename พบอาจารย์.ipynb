{
  "nbformat": 4,
  "nbformat_minor": 0,
  "metadata": {
    "colab": {
      "name": "Untitled2.ipynb",
      "provenance": [],
      "authorship_tag": "ABX9TyOP210n2eN8HRSHbWExlSw1",
      "include_colab_link": true
    },
    "kernelspec": {
      "name": "python3",
      "display_name": "Python 3"
    },
    "language_info": {
      "name": "python"
    }
  },
  "cells": [
    {
      "cell_type": "markdown",
      "metadata": {
        "id": "view-in-github",
        "colab_type": "text"
      },
      "source": [
        "<a href=\"https://colab.research.google.com/github/Khemapsorn/data_viz_2022/blob/main/%E0%B8%9E%E0%B8%9A%E0%B8%AD%E0%B8%B2%E0%B8%88%E0%B8%B2%E0%B8%A3%E0%B8%A2%E0%B9%8C.ipynb\" target=\"_parent\"><img src=\"https://colab.research.google.com/assets/colab-badge.svg\" alt=\"Open In Colab\"/></a>"
      ]
    },
    {
      "cell_type": "code",
      "execution_count": 1,
      "metadata": {
        "id": "H0QeN-GMdT8j"
      },
      "outputs": [],
      "source": [
        "#import libralies\n",
        "import pandas as pd # ใช้จัดการข้อมูลต่าง ๆ ที่เป็นตาราง พวกexcel ,CSV\n",
        "import numpy as np\n",
        "import seaborn as sns\n",
        "import matplotlib.pyplot as plt # พล็อตกราฟต่างๆ \n",
        "\n",
        "from scipy.integrate import odeint #Integrate a system of ordinary differential equations.\n",
        "                                                # func(y, t0, ...) \n",
        "\n",
        "%config InlineBackend.figure_format = 'retina'"
      ]
    },
    {
      "cell_type": "markdown",
      "source": [
        "# SIR model"
      ],
      "metadata": {
        "id": "8OEWybs_de8Z"
      }
    },
    {
      "cell_type": "code",
      "source": [
        "# SIR model\n",
        "# Differential equation สมการเชิงอนุพันธ์\n",
        "def deriv(y, t, N, beta, gamma): # ตัวแปร\n",
        "    S, I, R = y\n",
        "    dSdt =(-beta*S*I) / N\n",
        "    dIdt = ((beta*S*I) / N) - gamma*I\n",
        "    dRdt = gamma*I\n",
        "    return dSdt, dIdt, dRdt"
      ],
      "metadata": {
        "id": "kTd3ndUhdVJw"
      },
      "execution_count": 2,
      "outputs": []
    },
    {
      "cell_type": "markdown",
      "source": [
        "# กำหนดค่าต่าง ๆ (เตรียมข้อมูลแบบจำลอง)"
      ],
      "metadata": {
        "id": "hsSJMPWWdqQE"
      }
    },
    {
      "cell_type": "code",
      "source": [
        "# Number of population\n",
        "N = 1000\n",
        "\n",
        "# Time period (100 days)\n",
        "t = np.arange(0,100,1)\n",
        "\n",
        "# Initial number of infected and recoverd\n",
        "I0 = 1\n",
        "R0 = 0\n",
        "\n",
        "#Initial susceptible to infection (Start with 1)\n",
        "S0 = N - I0 - R0\n",
        "\n",
        "# Set Beta and Gamma\n",
        "beta = 1/7  \n",
        "gamma = 1/14\n",
        "# โดยเฉลี่ย 7 วัน จะมีผู้ป่วยใหม่ 1 คน\n",
        "# โดยเฉลี่ย 14 วัน จะมีผู้หำยป่วยจำกโรค 1 คน \n",
        "# Constant rate beta and gamma rates\n",
        "#b = 1 / beta\n",
        "#g = 1 / gamma\n",
        "\n",
        "#Integration SIR model\n",
        "simulationresult = odeint(deriv, (S0, I0, R0), t, args = (N,beta,gamma))\n",
        "\n",
        "#Summary\n",
        "simulationResult = pd.DataFrame(simulationresult, columns = ['Susceptible', 'Infectious','Recovery'])\n",
        "simulationResult = simulationResult.astype(np.int32)"
      ],
      "metadata": {
        "id": "vhhqWa-VdpLd"
      },
      "execution_count": 17,
      "outputs": []
    },
    {
      "cell_type": "code",
      "source": [
        "t = np.arange(0,100,1)\n",
        "t"
      ],
      "metadata": {
        "colab": {
          "base_uri": "https://localhost:8080/"
        },
        "id": "EWFJf5vDdVGU",
        "outputId": "36db56f6-0014-4feb-e7ea-45449ee87dc6"
      },
      "execution_count": 18,
      "outputs": [
        {
          "output_type": "execute_result",
          "data": {
            "text/plain": [
              "array([ 0,  1,  2,  3,  4,  5,  6,  7,  8,  9, 10, 11, 12, 13, 14, 15, 16,\n",
              "       17, 18, 19, 20, 21, 22, 23, 24, 25, 26, 27, 28, 29, 30, 31, 32, 33,\n",
              "       34, 35, 36, 37, 38, 39, 40, 41, 42, 43, 44, 45, 46, 47, 48, 49, 50,\n",
              "       51, 52, 53, 54, 55, 56, 57, 58, 59, 60, 61, 62, 63, 64, 65, 66, 67,\n",
              "       68, 69, 70, 71, 72, 73, 74, 75, 76, 77, 78, 79, 80, 81, 82, 83, 84,\n",
              "       85, 86, 87, 88, 89, 90, 91, 92, 93, 94, 95, 96, 97, 98, 99])"
            ]
          },
          "metadata": {},
          "execution_count": 18
        }
      ]
    },
    {
      "cell_type": "code",
      "source": [
        "S0 = N - I0 - R0 # 1000-1-0\n",
        "S0"
      ],
      "metadata": {
        "colab": {
          "base_uri": "https://localhost:8080/"
        },
        "id": "C0Plq663dVDS",
        "outputId": "b15abb4a-431b-466c-86eb-9349d88b43f0"
      },
      "execution_count": 19,
      "outputs": [
        {
          "output_type": "execute_result",
          "data": {
            "text/plain": [
              "999"
            ]
          },
          "metadata": {},
          "execution_count": 19
        }
      ]
    },
    {
      "cell_type": "code",
      "source": [
        "simulationresult = odeint(deriv, (S0, I0, R0), t, args = (N,beta,gamma)) # คำสั่งใช้หา Differential equation\n",
        "simulationresult"
      ],
      "metadata": {
        "colab": {
          "base_uri": "https://localhost:8080/"
        },
        "id": "rvCVCedKdVAc",
        "outputId": "07f6157e-ea3a-4110-d6bd-8892dc1bf832"
      },
      "execution_count": 20,
      "outputs": [
        {
          "output_type": "execute_result",
          "data": {
            "text/plain": [
              "array([[9.99000000e+02, 1.00000000e+00, 0.00000000e+00],\n",
              "       [9.98852087e+02, 1.07387679e+00, 7.40358126e-02],\n",
              "       [9.98693274e+02, 1.15318611e+00, 1.53540287e-01],\n",
              "       [9.98522761e+02, 1.23832357e+00, 2.38915429e-01],\n",
              "       [9.98339695e+02, 1.32971299e+00, 3.30592494e-01],\n",
              "       [9.98143158e+02, 1.42780833e+00, 4.29034067e-01],\n",
              "       [9.97932168e+02, 1.53309574e+00, 5.34736322e-01],\n",
              "       [9.97705673e+02, 1.64609568e+00, 6.48231350e-01],\n",
              "       [9.97462545e+02, 1.76736525e+00, 7.70089716e-01],\n",
              "       [9.97201576e+02, 1.89750060e+00, 9.00923177e-01],\n",
              "       [9.96921473e+02, 2.03713941e+00, 1.04138750e+00],\n",
              "       [9.96620851e+02, 2.18696367e+00, 1.19218557e+00],\n",
              "       [9.96298227e+02, 2.34770250e+00, 1.35407070e+00],\n",
              "       [9.95952015e+02, 2.52013506e+00, 1.52785001e+00],\n",
              "       [9.95580518e+02, 2.70509373e+00, 1.71438818e+00],\n",
              "       [9.95181921e+02, 2.90346729e+00, 1.91461133e+00],\n",
              "       [9.94754284e+02, 3.11620441e+00, 2.12951117e+00],\n",
              "       [9.94295533e+02, 3.34431713e+00, 2.36014943e+00],\n",
              "       [9.93803453e+02, 3.58888452e+00, 2.60766249e+00],\n",
              "       [9.93275677e+02, 3.85105650e+00, 2.87326632e+00],\n",
              "       [9.92709681e+02, 4.13205772e+00, 3.15826167e+00],\n",
              "       [9.92102769e+02, 4.43319157e+00, 3.46403957e+00],\n",
              "       [9.91452069e+02, 4.75584422e+00, 3.79208705e+00],\n",
              "       [9.90754518e+02, 5.10148877e+00, 4.14399324e+00],\n",
              "       [9.90006855e+02, 5.47168938e+00, 4.52145574e+00],\n",
              "       [9.89205607e+02, 5.86810538e+00, 4.92628724e+00],\n",
              "       [9.88347082e+02, 6.29249539e+00, 5.36042246e+00],\n",
              "       [9.87427353e+02, 6.74672121e+00, 5.82592543e+00],\n",
              "       [9.86442251e+02, 7.23275169e+00, 6.32499694e+00],\n",
              "       [9.85387351e+02, 7.75266623e+00, 6.85998233e+00],\n",
              "       [9.84257962e+02, 8.30865803e+00, 7.43337956e+00],\n",
              "       [9.83049116e+02, 8.90303691e+00, 8.04784735e+00],\n",
              "       [9.81755555e+02, 9.53823162e+00, 8.70621368e+00],\n",
              "       [9.80371724e+02, 1.02167914e+01, 9.41148426e+00],\n",
              "       [9.78891762e+02, 1.09413872e+01, 1.01668513e+01],\n",
              "       [9.77309487e+02, 1.17148109e+01, 1.09757020e+01],\n",
              "       [9.75618398e+02, 1.25399750e+01, 1.18416275e+01],\n",
              "       [9.73811660e+02, 1.34199095e+01, 1.27684310e+01],\n",
              "       [9.71882105e+02, 1.43577584e+01, 1.37601362e+01],\n",
              "       [9.69822231e+02, 1.53567734e+01, 1.48209955e+01],\n",
              "       [9.67624196e+02, 1.64203068e+01, 1.59554970e+01],\n",
              "       [9.65279827e+02, 1.75518013e+01, 1.71683717e+01],\n",
              "       [9.62780624e+02, 1.87547773e+01, 1.84645991e+01],\n",
              "       [9.60117769e+02, 2.00328179e+01, 1.98494127e+01],\n",
              "       [9.57282146e+02, 2.13895503e+01, 2.13283038e+01],\n",
              "       [9.54264353e+02, 2.28286241e+01, 2.29070232e+01],\n",
              "       [9.51054732e+02, 2.43536852e+01, 2.45915831e+01],\n",
              "       [9.47643399e+02, 2.59683468e+01, 2.63882545e+01],\n",
              "       [9.44020280e+02, 2.76761550e+01, 2.83035647e+01],\n",
              "       [9.40175159e+02, 2.94805503e+01, 3.03442906e+01],\n",
              "       [9.36097725e+02, 3.13848246e+01, 3.25174500e+01],\n",
              "       [9.31777638e+02, 3.33920729e+01, 3.48302889e+01],\n",
              "       [9.27204594e+02, 3.55051402e+01, 3.72902658e+01],\n",
              "       [9.22368404e+02, 3.77265640e+01, 3.99050320e+01],\n",
              "       [9.17259082e+02, 4.00585113e+01, 4.26824068e+01],\n",
              "       [9.11866939e+02, 4.25027119e+01, 4.56303495e+01],\n",
              "       [9.06182687e+02, 4.50603875e+01, 4.87569251e+01],\n",
              "       [9.00197557e+02, 4.77321779e+01, 5.20702653e+01],\n",
              "       [8.93903411e+02, 5.05180646e+01, 5.55785248e+01],\n",
              "       [8.87292876e+02, 5.34172931e+01, 5.92898311e+01],\n",
              "       [8.80359475e+02, 5.64282957e+01, 6.32122288e+01],\n",
              "       [8.73097765e+02, 5.95486155e+01, 6.73536199e+01],\n",
              "       [8.65503470e+02, 6.27748341e+01, 7.17216964e+01],\n",
              "       [8.57573625e+02, 6.61025047e+01, 7.63238700e+01],\n",
              "       [8.49306711e+02, 6.95260923e+01, 8.11671963e+01],\n",
              "       [8.40702780e+02, 7.30389245e+01, 8.62582951e+01],\n",
              "       [8.31763579e+02, 7.66331538e+01, 9.16032677e+01],\n",
              "       [8.22492653e+02, 8.02997341e+01, 9.72076125e+01],\n",
              "       [8.12895446e+02, 8.40284153e+01, 1.03076138e+02],\n",
              "       [8.02979366e+02, 8.78077547e+01, 1.09212879e+02],\n",
              "       [7.92753838e+02, 9.16251511e+01, 1.15621011e+02],\n",
              "       [7.82230334e+02, 9.54668983e+01, 1.22302768e+02],\n",
              "       [7.71422366e+02, 9.93182646e+01, 1.29259369e+02],\n",
              "       [7.60345460e+02, 1.03163592e+02, 1.36490948e+02],\n",
              "       [7.49017090e+02, 1.06986420e+02, 1.43996490e+02],\n",
              "       [7.37456586e+02, 1.10769634e+02, 1.51773780e+02],\n",
              "       [7.25685015e+02, 1.14495623e+02, 1.59819361e+02],\n",
              "       [7.13725022e+02, 1.18146470e+02, 1.68128508e+02],\n",
              "       [7.01600646e+02, 1.21704144e+02, 1.76695210e+02],\n",
              "       [6.89337122e+02, 1.25150709e+02, 1.85512169e+02],\n",
              "       [6.76960651e+02, 1.28468532e+02, 1.94570817e+02],\n",
              "       [6.64498151e+02, 1.31640506e+02, 2.03861343e+02],\n",
              "       [6.51977012e+02, 1.34650249e+02, 2.13372740e+02],\n",
              "       [6.39424824e+02, 1.37482315e+02, 2.23092861e+02],\n",
              "       [6.26869125e+02, 1.40122377e+02, 2.33008498e+02],\n",
              "       [6.14337137e+02, 1.42557402e+02, 2.43105460e+02],\n",
              "       [6.01855521e+02, 1.44775797e+02, 2.53368681e+02],\n",
              "       [5.89450144e+02, 1.46767537e+02, 2.63782319e+02],\n",
              "       [5.77145863e+02, 1.48524262e+02, 2.74329875e+02],\n",
              "       [5.64966336e+02, 1.50039348e+02, 2.84994316e+02],\n",
              "       [5.52933855e+02, 1.51307947e+02, 2.95758197e+02],\n",
              "       [5.41069205e+02, 1.52327001e+02, 3.06603794e+02],\n",
              "       [5.29391551e+02, 1.53095225e+02, 3.17513224e+02],\n",
              "       [5.17918359e+02, 1.53613063e+02, 3.28468578e+02],\n",
              "       [5.06665339e+02, 1.53882626e+02, 3.39452035e+02],\n",
              "       [4.95646418e+02, 1.53907597e+02, 3.50445985e+02],\n",
              "       [4.84873733e+02, 1.53693134e+02, 3.61433133e+02],\n",
              "       [4.74357652e+02, 1.53245747e+02, 3.72396601e+02],\n",
              "       [4.64106819e+02, 1.52573161e+02, 3.83320020e+02],\n",
              "       [4.54128208e+02, 1.51684179e+02, 3.94187614e+02]])"
            ]
          },
          "metadata": {},
          "execution_count": 20
        }
      ]
    },
    {
      "cell_type": "code",
      "source": [
        "simulationResult = pd.DataFrame(simulationresult, columns = ['Susceptible', 'Infectious','Recovery'])\n",
        "simulationResult"
      ],
      "metadata": {
        "colab": {
          "base_uri": "https://localhost:8080/",
          "height": 424
        },
        "id": "0CVeqltvdU9h",
        "outputId": "6194cc17-1d76-40b7-e54e-bd3f2834863d"
      },
      "execution_count": 21,
      "outputs": [
        {
          "output_type": "execute_result",
          "data": {
            "text/plain": [
              "    Susceptible  Infectious    Recovery\n",
              "0    999.000000    1.000000    0.000000\n",
              "1    998.852087    1.073877    0.074036\n",
              "2    998.693274    1.153186    0.153540\n",
              "3    998.522761    1.238324    0.238915\n",
              "4    998.339695    1.329713    0.330592\n",
              "..          ...         ...         ...\n",
              "95   495.646418  153.907597  350.445985\n",
              "96   484.873733  153.693134  361.433133\n",
              "97   474.357652  153.245747  372.396601\n",
              "98   464.106819  152.573161  383.320020\n",
              "99   454.128208  151.684179  394.187614\n",
              "\n",
              "[100 rows x 3 columns]"
            ],
            "text/html": [
              "\n",
              "  <div id=\"df-086e7a5b-8005-46e5-91e9-c82bdeeaadc1\">\n",
              "    <div class=\"colab-df-container\">\n",
              "      <div>\n",
              "<style scoped>\n",
              "    .dataframe tbody tr th:only-of-type {\n",
              "        vertical-align: middle;\n",
              "    }\n",
              "\n",
              "    .dataframe tbody tr th {\n",
              "        vertical-align: top;\n",
              "    }\n",
              "\n",
              "    .dataframe thead th {\n",
              "        text-align: right;\n",
              "    }\n",
              "</style>\n",
              "<table border=\"1\" class=\"dataframe\">\n",
              "  <thead>\n",
              "    <tr style=\"text-align: right;\">\n",
              "      <th></th>\n",
              "      <th>Susceptible</th>\n",
              "      <th>Infectious</th>\n",
              "      <th>Recovery</th>\n",
              "    </tr>\n",
              "  </thead>\n",
              "  <tbody>\n",
              "    <tr>\n",
              "      <th>0</th>\n",
              "      <td>999.000000</td>\n",
              "      <td>1.000000</td>\n",
              "      <td>0.000000</td>\n",
              "    </tr>\n",
              "    <tr>\n",
              "      <th>1</th>\n",
              "      <td>998.852087</td>\n",
              "      <td>1.073877</td>\n",
              "      <td>0.074036</td>\n",
              "    </tr>\n",
              "    <tr>\n",
              "      <th>2</th>\n",
              "      <td>998.693274</td>\n",
              "      <td>1.153186</td>\n",
              "      <td>0.153540</td>\n",
              "    </tr>\n",
              "    <tr>\n",
              "      <th>3</th>\n",
              "      <td>998.522761</td>\n",
              "      <td>1.238324</td>\n",
              "      <td>0.238915</td>\n",
              "    </tr>\n",
              "    <tr>\n",
              "      <th>4</th>\n",
              "      <td>998.339695</td>\n",
              "      <td>1.329713</td>\n",
              "      <td>0.330592</td>\n",
              "    </tr>\n",
              "    <tr>\n",
              "      <th>...</th>\n",
              "      <td>...</td>\n",
              "      <td>...</td>\n",
              "      <td>...</td>\n",
              "    </tr>\n",
              "    <tr>\n",
              "      <th>95</th>\n",
              "      <td>495.646418</td>\n",
              "      <td>153.907597</td>\n",
              "      <td>350.445985</td>\n",
              "    </tr>\n",
              "    <tr>\n",
              "      <th>96</th>\n",
              "      <td>484.873733</td>\n",
              "      <td>153.693134</td>\n",
              "      <td>361.433133</td>\n",
              "    </tr>\n",
              "    <tr>\n",
              "      <th>97</th>\n",
              "      <td>474.357652</td>\n",
              "      <td>153.245747</td>\n",
              "      <td>372.396601</td>\n",
              "    </tr>\n",
              "    <tr>\n",
              "      <th>98</th>\n",
              "      <td>464.106819</td>\n",
              "      <td>152.573161</td>\n",
              "      <td>383.320020</td>\n",
              "    </tr>\n",
              "    <tr>\n",
              "      <th>99</th>\n",
              "      <td>454.128208</td>\n",
              "      <td>151.684179</td>\n",
              "      <td>394.187614</td>\n",
              "    </tr>\n",
              "  </tbody>\n",
              "</table>\n",
              "<p>100 rows × 3 columns</p>\n",
              "</div>\n",
              "      <button class=\"colab-df-convert\" onclick=\"convertToInteractive('df-086e7a5b-8005-46e5-91e9-c82bdeeaadc1')\"\n",
              "              title=\"Convert this dataframe to an interactive table.\"\n",
              "              style=\"display:none;\">\n",
              "        \n",
              "  <svg xmlns=\"http://www.w3.org/2000/svg\" height=\"24px\"viewBox=\"0 0 24 24\"\n",
              "       width=\"24px\">\n",
              "    <path d=\"M0 0h24v24H0V0z\" fill=\"none\"/>\n",
              "    <path d=\"M18.56 5.44l.94 2.06.94-2.06 2.06-.94-2.06-.94-.94-2.06-.94 2.06-2.06.94zm-11 1L8.5 8.5l.94-2.06 2.06-.94-2.06-.94L8.5 2.5l-.94 2.06-2.06.94zm10 10l.94 2.06.94-2.06 2.06-.94-2.06-.94-.94-2.06-.94 2.06-2.06.94z\"/><path d=\"M17.41 7.96l-1.37-1.37c-.4-.4-.92-.59-1.43-.59-.52 0-1.04.2-1.43.59L10.3 9.45l-7.72 7.72c-.78.78-.78 2.05 0 2.83L4 21.41c.39.39.9.59 1.41.59.51 0 1.02-.2 1.41-.59l7.78-7.78 2.81-2.81c.8-.78.8-2.07 0-2.86zM5.41 20L4 18.59l7.72-7.72 1.47 1.35L5.41 20z\"/>\n",
              "  </svg>\n",
              "      </button>\n",
              "      \n",
              "  <style>\n",
              "    .colab-df-container {\n",
              "      display:flex;\n",
              "      flex-wrap:wrap;\n",
              "      gap: 12px;\n",
              "    }\n",
              "\n",
              "    .colab-df-convert {\n",
              "      background-color: #E8F0FE;\n",
              "      border: none;\n",
              "      border-radius: 50%;\n",
              "      cursor: pointer;\n",
              "      display: none;\n",
              "      fill: #1967D2;\n",
              "      height: 32px;\n",
              "      padding: 0 0 0 0;\n",
              "      width: 32px;\n",
              "    }\n",
              "\n",
              "    .colab-df-convert:hover {\n",
              "      background-color: #E2EBFA;\n",
              "      box-shadow: 0px 1px 2px rgba(60, 64, 67, 0.3), 0px 1px 3px 1px rgba(60, 64, 67, 0.15);\n",
              "      fill: #174EA6;\n",
              "    }\n",
              "\n",
              "    [theme=dark] .colab-df-convert {\n",
              "      background-color: #3B4455;\n",
              "      fill: #D2E3FC;\n",
              "    }\n",
              "\n",
              "    [theme=dark] .colab-df-convert:hover {\n",
              "      background-color: #434B5C;\n",
              "      box-shadow: 0px 1px 3px 1px rgba(0, 0, 0, 0.15);\n",
              "      filter: drop-shadow(0px 1px 2px rgba(0, 0, 0, 0.3));\n",
              "      fill: #FFFFFF;\n",
              "    }\n",
              "  </style>\n",
              "\n",
              "      <script>\n",
              "        const buttonEl =\n",
              "          document.querySelector('#df-086e7a5b-8005-46e5-91e9-c82bdeeaadc1 button.colab-df-convert');\n",
              "        buttonEl.style.display =\n",
              "          google.colab.kernel.accessAllowed ? 'block' : 'none';\n",
              "\n",
              "        async function convertToInteractive(key) {\n",
              "          const element = document.querySelector('#df-086e7a5b-8005-46e5-91e9-c82bdeeaadc1');\n",
              "          const dataTable =\n",
              "            await google.colab.kernel.invokeFunction('convertToInteractive',\n",
              "                                                     [key], {});\n",
              "          if (!dataTable) return;\n",
              "\n",
              "          const docLinkHtml = 'Like what you see? Visit the ' +\n",
              "            '<a target=\"_blank\" href=https://colab.research.google.com/notebooks/data_table.ipynb>data table notebook</a>'\n",
              "            + ' to learn more about interactive tables.';\n",
              "          element.innerHTML = '';\n",
              "          dataTable['output_type'] = 'display_data';\n",
              "          await google.colab.output.renderOutput(dataTable, element);\n",
              "          const docLink = document.createElement('div');\n",
              "          docLink.innerHTML = docLinkHtml;\n",
              "          element.appendChild(docLink);\n",
              "        }\n",
              "      </script>\n",
              "    </div>\n",
              "  </div>\n",
              "  "
            ]
          },
          "metadata": {},
          "execution_count": 21
        }
      ]
    },
    {
      "cell_type": "code",
      "source": [
        "simulationResult = simulationResult.astype(np.int32) # ปรับตัวเลขเป็นจำนวนเต็มของตารางข้างบน\n",
        "simulationResult"
      ],
      "metadata": {
        "colab": {
          "base_uri": "https://localhost:8080/",
          "height": 424
        },
        "id": "jC5H-3K0dU5k",
        "outputId": "191f317a-6601-49c4-eef6-90a16db5480a"
      },
      "execution_count": 22,
      "outputs": [
        {
          "output_type": "execute_result",
          "data": {
            "text/plain": [
              "    Susceptible  Infectious  Recovery\n",
              "0           999           1         0\n",
              "1           998           1         0\n",
              "2           998           1         0\n",
              "3           998           1         0\n",
              "4           998           1         0\n",
              "..          ...         ...       ...\n",
              "95          495         153       350\n",
              "96          484         153       361\n",
              "97          474         153       372\n",
              "98          464         152       383\n",
              "99          454         151       394\n",
              "\n",
              "[100 rows x 3 columns]"
            ],
            "text/html": [
              "\n",
              "  <div id=\"df-01f7d1b6-ce25-4467-aca0-2ef7f34f07e4\">\n",
              "    <div class=\"colab-df-container\">\n",
              "      <div>\n",
              "<style scoped>\n",
              "    .dataframe tbody tr th:only-of-type {\n",
              "        vertical-align: middle;\n",
              "    }\n",
              "\n",
              "    .dataframe tbody tr th {\n",
              "        vertical-align: top;\n",
              "    }\n",
              "\n",
              "    .dataframe thead th {\n",
              "        text-align: right;\n",
              "    }\n",
              "</style>\n",
              "<table border=\"1\" class=\"dataframe\">\n",
              "  <thead>\n",
              "    <tr style=\"text-align: right;\">\n",
              "      <th></th>\n",
              "      <th>Susceptible</th>\n",
              "      <th>Infectious</th>\n",
              "      <th>Recovery</th>\n",
              "    </tr>\n",
              "  </thead>\n",
              "  <tbody>\n",
              "    <tr>\n",
              "      <th>0</th>\n",
              "      <td>999</td>\n",
              "      <td>1</td>\n",
              "      <td>0</td>\n",
              "    </tr>\n",
              "    <tr>\n",
              "      <th>1</th>\n",
              "      <td>998</td>\n",
              "      <td>1</td>\n",
              "      <td>0</td>\n",
              "    </tr>\n",
              "    <tr>\n",
              "      <th>2</th>\n",
              "      <td>998</td>\n",
              "      <td>1</td>\n",
              "      <td>0</td>\n",
              "    </tr>\n",
              "    <tr>\n",
              "      <th>3</th>\n",
              "      <td>998</td>\n",
              "      <td>1</td>\n",
              "      <td>0</td>\n",
              "    </tr>\n",
              "    <tr>\n",
              "      <th>4</th>\n",
              "      <td>998</td>\n",
              "      <td>1</td>\n",
              "      <td>0</td>\n",
              "    </tr>\n",
              "    <tr>\n",
              "      <th>...</th>\n",
              "      <td>...</td>\n",
              "      <td>...</td>\n",
              "      <td>...</td>\n",
              "    </tr>\n",
              "    <tr>\n",
              "      <th>95</th>\n",
              "      <td>495</td>\n",
              "      <td>153</td>\n",
              "      <td>350</td>\n",
              "    </tr>\n",
              "    <tr>\n",
              "      <th>96</th>\n",
              "      <td>484</td>\n",
              "      <td>153</td>\n",
              "      <td>361</td>\n",
              "    </tr>\n",
              "    <tr>\n",
              "      <th>97</th>\n",
              "      <td>474</td>\n",
              "      <td>153</td>\n",
              "      <td>372</td>\n",
              "    </tr>\n",
              "    <tr>\n",
              "      <th>98</th>\n",
              "      <td>464</td>\n",
              "      <td>152</td>\n",
              "      <td>383</td>\n",
              "    </tr>\n",
              "    <tr>\n",
              "      <th>99</th>\n",
              "      <td>454</td>\n",
              "      <td>151</td>\n",
              "      <td>394</td>\n",
              "    </tr>\n",
              "  </tbody>\n",
              "</table>\n",
              "<p>100 rows × 3 columns</p>\n",
              "</div>\n",
              "      <button class=\"colab-df-convert\" onclick=\"convertToInteractive('df-01f7d1b6-ce25-4467-aca0-2ef7f34f07e4')\"\n",
              "              title=\"Convert this dataframe to an interactive table.\"\n",
              "              style=\"display:none;\">\n",
              "        \n",
              "  <svg xmlns=\"http://www.w3.org/2000/svg\" height=\"24px\"viewBox=\"0 0 24 24\"\n",
              "       width=\"24px\">\n",
              "    <path d=\"M0 0h24v24H0V0z\" fill=\"none\"/>\n",
              "    <path d=\"M18.56 5.44l.94 2.06.94-2.06 2.06-.94-2.06-.94-.94-2.06-.94 2.06-2.06.94zm-11 1L8.5 8.5l.94-2.06 2.06-.94-2.06-.94L8.5 2.5l-.94 2.06-2.06.94zm10 10l.94 2.06.94-2.06 2.06-.94-2.06-.94-.94-2.06-.94 2.06-2.06.94z\"/><path d=\"M17.41 7.96l-1.37-1.37c-.4-.4-.92-.59-1.43-.59-.52 0-1.04.2-1.43.59L10.3 9.45l-7.72 7.72c-.78.78-.78 2.05 0 2.83L4 21.41c.39.39.9.59 1.41.59.51 0 1.02-.2 1.41-.59l7.78-7.78 2.81-2.81c.8-.78.8-2.07 0-2.86zM5.41 20L4 18.59l7.72-7.72 1.47 1.35L5.41 20z\"/>\n",
              "  </svg>\n",
              "      </button>\n",
              "      \n",
              "  <style>\n",
              "    .colab-df-container {\n",
              "      display:flex;\n",
              "      flex-wrap:wrap;\n",
              "      gap: 12px;\n",
              "    }\n",
              "\n",
              "    .colab-df-convert {\n",
              "      background-color: #E8F0FE;\n",
              "      border: none;\n",
              "      border-radius: 50%;\n",
              "      cursor: pointer;\n",
              "      display: none;\n",
              "      fill: #1967D2;\n",
              "      height: 32px;\n",
              "      padding: 0 0 0 0;\n",
              "      width: 32px;\n",
              "    }\n",
              "\n",
              "    .colab-df-convert:hover {\n",
              "      background-color: #E2EBFA;\n",
              "      box-shadow: 0px 1px 2px rgba(60, 64, 67, 0.3), 0px 1px 3px 1px rgba(60, 64, 67, 0.15);\n",
              "      fill: #174EA6;\n",
              "    }\n",
              "\n",
              "    [theme=dark] .colab-df-convert {\n",
              "      background-color: #3B4455;\n",
              "      fill: #D2E3FC;\n",
              "    }\n",
              "\n",
              "    [theme=dark] .colab-df-convert:hover {\n",
              "      background-color: #434B5C;\n",
              "      box-shadow: 0px 1px 3px 1px rgba(0, 0, 0, 0.15);\n",
              "      filter: drop-shadow(0px 1px 2px rgba(0, 0, 0, 0.3));\n",
              "      fill: #FFFFFF;\n",
              "    }\n",
              "  </style>\n",
              "\n",
              "      <script>\n",
              "        const buttonEl =\n",
              "          document.querySelector('#df-01f7d1b6-ce25-4467-aca0-2ef7f34f07e4 button.colab-df-convert');\n",
              "        buttonEl.style.display =\n",
              "          google.colab.kernel.accessAllowed ? 'block' : 'none';\n",
              "\n",
              "        async function convertToInteractive(key) {\n",
              "          const element = document.querySelector('#df-01f7d1b6-ce25-4467-aca0-2ef7f34f07e4');\n",
              "          const dataTable =\n",
              "            await google.colab.kernel.invokeFunction('convertToInteractive',\n",
              "                                                     [key], {});\n",
              "          if (!dataTable) return;\n",
              "\n",
              "          const docLinkHtml = 'Like what you see? Visit the ' +\n",
              "            '<a target=\"_blank\" href=https://colab.research.google.com/notebooks/data_table.ipynb>data table notebook</a>'\n",
              "            + ' to learn more about interactive tables.';\n",
              "          element.innerHTML = '';\n",
              "          dataTable['output_type'] = 'display_data';\n",
              "          await google.colab.output.renderOutput(dataTable, element);\n",
              "          const docLink = document.createElement('div');\n",
              "          docLink.innerHTML = docLinkHtml;\n",
              "          element.appendChild(docLink);\n",
              "        }\n",
              "      </script>\n",
              "    </div>\n",
              "  </div>\n",
              "  "
            ]
          },
          "metadata": {},
          "execution_count": 22
        }
      ]
    },
    {
      "cell_type": "code",
      "source": [
        "# plot the simulation\n",
        "plt.figure (figsize = (14, 7)) #กำหนดขนาด\n",
        "with plt.style.context('seaborn'): # พล็อตเนื้อหา สไตล์ต่าง ๆ\n",
        "    plt.title('COVID-19 SIR simulation') # ชื่อกราฟ\n",
        "    plt.xlabel('Time') # แกน X\n",
        "    plt.ylabel('Number of population') # แกน Y\n",
        "    plt.plot(simulationResult['Susceptible'], c = 'royalblue', linestyle = '--',label = 'Susceptible') # S\n",
        "    plt.plot(simulationResult['Infectious'], c = 'firebrick', linewidth = 2.5,label = 'Infectious') #I\n",
        "    plt.plot(simulationResult['Recovery'], c = 'forestgreen', linestyle = '--' ,label = 'Recovery') # R\n",
        "    plt.annotate(simulationResult['Infectious'].max(),\n",
        "                    (simulationResult['Infectious'].idxmax(), simulationResult['Infectious'].max()),\n",
        "                    textcoords = 'offset points', xytext = (5,5),ha = 'center')\n",
        "    plt.legend(frameon = True, facecolor = 'white') # โชว์เส้นกริด ทำเป็นสีขาว\n",
        "    plt.show()"
      ],
      "metadata": {
        "colab": {
          "base_uri": "https://localhost:8080/",
          "height": 457
        },
        "id": "tUKX5MEteOTi",
        "outputId": "4f1b488c-6bf8-4b61-df9d-e8d211bd3f38"
      },
      "execution_count": 24,
      "outputs": [
        {
          "output_type": "display_data",
          "data": {
            "text/plain": [
              "<Figure size 1008x504 with 1 Axes>"
            ],
            "image/png": "[encoded data removed]"
          },
          "metadata": {
            "image/png": {
              "width": 839,
              "height": 440
            },
            "needs_background": "light"
          }
        }
      ]
    },
    {
      "cell_type": "code",
      "source": [
        ""
      ],
      "metadata": {
        "id": "t9_aWIDWeOPt"
      },
      "execution_count": null,
      "outputs": []
    }
  ]
}