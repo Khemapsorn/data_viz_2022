{
  "nbformat": 4,
  "nbformat_minor": 0,
  "metadata": {
    "colab": {
      "provenance": [],
      "authorship_tag": "ABX9TyMTpgWJ6h6rrlbFMlMyNG6f",
      "include_colab_link": true
    },
    "kernelspec": {
      "name": "python3",
      "display_name": "Python 3"
    },
    "language_info": {
      "name": "python"
    }
  },
  "cells": [
    {
      "cell_type": "markdown",
      "metadata": {
        "id": "view-in-github",
        "colab_type": "text"
      },
      "source": [
        "<a href=\"https://colab.research.google.com/github/Khemapsorn/data_viz_2022/blob/main/SVEIQCR.ipynb\" target=\"_parent\"><img src=\"https://colab.research.google.com/assets/colab-badge.svg\" alt=\"Open In Colab\"/></a>"
      ]
    },
    {
      "cell_type": "markdown",
      "source": [
        "# เตรียมโค้ดคำนวณ"
      ],
      "metadata": {
        "id": "J41aDLijsJMN"
      }
    },
    {
      "cell_type": "code",
      "execution_count": 28,
      "metadata": {
        "id": "GKlxnplvrW0f"
      },
      "outputs": [],
      "source": [
        "#import libralies\n",
        "import pandas as pd # ใช้จัดการข้อมูลต่าง ๆ ที่เป็นตาราง พวกexcel ,CSV\n",
        "import numpy as np\n",
        "import seaborn as sns\n",
        "import matplotlib.pyplot as plt # พล็อตกราฟต่างๆ \n",
        "\n",
        "from scipy.integrate import odeint #Integrate a system of ordinary differential equations.\n",
        "                                                # func(y, t0, ...) \n",
        "\n",
        "%config InlineBackend.figure_format = 'retina'"
      ]
    },
    {
      "cell_type": "markdown",
      "source": [
        "# พารามิเตอร์ของตัวแบบ และสมการเชิงอนุพันธ์"
      ],
      "metadata": {
        "id": "DlyRf201sQAK"
      }
    },
    {
      "cell_type": "code",
      "source": [
        " #SVEIQCR model ในประชากรมนุษย์\n",
        " #Differential equations\n",
        "#def deriv(y, t, Lambda, Phi, Mu, Lamda, Nu, theta, Beta, delta, alpha Tau, Rho, (\\gamma)): # paramerter ในตัวแบบ โดย t คือ เวลา N จำนวนประชากรมนุษย์ทั้งหมด\n",
        "    #S, V, E, I, Q, C, R = y\n",
        "    #dSdt = Lambda+Phi*Q-Mu*S-Lamda*S-Nu*S\n",
        "    #dVdt = Nu*S+Mu*V\n",
        "    #dEdt = Lamda*S-Mu*E-theta*E-Beta*E\n",
        "    #dIdt = theta*E-delta*I-Mu*I-Rho*I-(\\gamma)*I\n",
        "    #dQdt = Beta*E-delta*Q-Mu*Q-Phi*Q-Tau*Q\n",
        "    #dCdt = (\\gamma)*I-delta*C-Mu*C-alpha*C\n",
        "    #dRdt =Rho*I+Tau*Q+alpha*C-Mu*R\n",
        "   # return dSdt, dVdt, dEdt, dIdt, dQdt, dCdt, dRdt"
      ],
      "metadata": {
        "colab": {
          "base_uri": "https://localhost:8080/",
          "height": 131
        },
        "id": "k0AUkYVGserf",
        "outputId": "30c07847-ecd2-4a9d-c3ff-8c50c80fe40b"
      },
      "execution_count": 14,
      "outputs": [
        {
          "output_type": "error",
          "ename": "SyntaxError",
          "evalue": "ignored",
          "traceback": [
            "\u001b[0;36m  File \u001b[0;32m\"<ipython-input-14-3e22713613ca>\"\u001b[0;36m, line \u001b[0;32m3\u001b[0m\n\u001b[0;31m    def deriv(y, t, Lambda, Phi, Mu, Lamda, Nu, theta, Beta, delta, alpha Tau, Rho, (\\gamma)): # paramerter ในตัวแบบ โดย t คือ เวลา N จำนวนประชากรมนุษย์ทั้งหมด\u001b[0m\n\u001b[0m                                                                          ^\u001b[0m\n\u001b[0;31mSyntaxError\u001b[0m\u001b[0;31m:\u001b[0m invalid syntax\n"
          ]
        }
      ]
    },
    {
      "cell_type": "code",
      "source": [
        "# SEI model ในประชากรสัตว์ฟันแทะ\n",
        "# Differential equations\n",
        "def deriv(y, t,N, Lambda, Mu, Lamda, theta, delta): # \n",
        "    S, E, I = y\n",
        "    dSdt = Lambda-Mu*S-Lamda*S\n",
        "    dEdt = Lamda*S-Mu*E-theta*E\n",
        "    dIdt = theta*E -delta*I-Mu*I\n",
        "    return dSdt, dEdt, dIdt"
      ],
      "metadata": {
        "id": "FtjJsZQI06wv"
      },
      "execution_count": 29,
      "outputs": []
    },
    {
      "cell_type": "code",
      "source": [
        "Lambda = 0.2\n",
        "Mu = 0.1\n",
        "Lamda = 0\n",
        "theta = 0.032\n",
        "delta = 0.5\n",
        "N=100\n",
        "# Constant rate beta, gamma rates and sigma rates\n",
        "L = 0.2  #b = 1 / beta\n",
        "M = 0.1 #g = 1 / gamma\n",
        "l= 0\n",
        "T = 0.032  \n",
        "d = 0.5\n",
        "#Initial number of exposed, infected and recovered\n",
        "E0 = 0\n",
        "I0 = 0\n",
        "S0 = 100\n",
        "\n",
        "#Integration SEI model\n",
        "simulationresult = odeint(deriv, (S0, E0, I0), t, args = (N,L, M, l, T, d))\n",
        "\n",
        "#Summary\n",
        "simulationResult = pd.DataFrame(simulationresult, columns = ['Susceptible', 'Exposed', 'Infectious', ])\n",
        "simulationResult = simulationResult.astype(np.int32)"
      ],
      "metadata": {
        "colab": {
          "base_uri": "https://localhost:8080/",
          "height": 236
        },
        "id": "mB1DzFQM2smM",
        "outputId": "0349bd96-cbb7-43e0-e671-1ff8a1233aad"
      },
      "execution_count": 30,
      "outputs": [
        {
          "output_type": "error",
          "ename": "NameError",
          "evalue": "ignored",
          "traceback": [
            "\u001b[0;31m---------------------------------------------------------------------------\u001b[0m",
            "\u001b[0;31mNameError\u001b[0m                                 Traceback (most recent call last)",
            "\u001b[0;32m<ipython-input-30-5a99f7c42fff>\u001b[0m in \u001b[0;36m<module>\u001b[0;34m\u001b[0m\n\u001b[1;32m     18\u001b[0m \u001b[0;34m\u001b[0m\u001b[0m\n\u001b[1;32m     19\u001b[0m \u001b[0;31m#Integration SEI model\u001b[0m\u001b[0;34m\u001b[0m\u001b[0;34m\u001b[0m\u001b[0;34m\u001b[0m\u001b[0m\n\u001b[0;32m---> 20\u001b[0;31m \u001b[0msimulationresult\u001b[0m \u001b[0;34m=\u001b[0m \u001b[0modeint\u001b[0m\u001b[0;34m(\u001b[0m\u001b[0mderiv\u001b[0m\u001b[0;34m,\u001b[0m \u001b[0;34m(\u001b[0m\u001b[0mS0\u001b[0m\u001b[0;34m,\u001b[0m \u001b[0mE0\u001b[0m\u001b[0;34m,\u001b[0m \u001b[0mI0\u001b[0m\u001b[0;34m)\u001b[0m\u001b[0;34m,\u001b[0m \u001b[0mt\u001b[0m\u001b[0;34m,\u001b[0m \u001b[0margs\u001b[0m \u001b[0;34m=\u001b[0m \u001b[0;34m(\u001b[0m\u001b[0mN\u001b[0m\u001b[0;34m,\u001b[0m\u001b[0mL\u001b[0m\u001b[0;34m,\u001b[0m \u001b[0mM\u001b[0m\u001b[0;34m,\u001b[0m \u001b[0ml\u001b[0m\u001b[0;34m,\u001b[0m \u001b[0mT\u001b[0m\u001b[0;34m,\u001b[0m \u001b[0md\u001b[0m\u001b[0;34m)\u001b[0m\u001b[0;34m)\u001b[0m\u001b[0;34m\u001b[0m\u001b[0;34m\u001b[0m\u001b[0m\n\u001b[0m\u001b[1;32m     21\u001b[0m \u001b[0;34m\u001b[0m\u001b[0m\n\u001b[1;32m     22\u001b[0m \u001b[0;31m#Summary\u001b[0m\u001b[0;34m\u001b[0m\u001b[0;34m\u001b[0m\u001b[0;34m\u001b[0m\u001b[0m\n",
            "\u001b[0;31mNameError\u001b[0m: name 't' is not defined"
          ]
        }
      ]
    }
  ]
}