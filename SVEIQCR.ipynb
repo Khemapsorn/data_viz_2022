{
  "nbformat": 4,
  "nbformat_minor": 0,
  "metadata": {
    "colab": {
      "provenance": [],
      "authorship_tag": "ABX9TyPz/jqVE9AbAmRgQCP1Uu9L",
      "include_colab_link": true
    },
    "kernelspec": {
      "name": "python3",
      "display_name": "Python 3"
    },
    "language_info": {
      "name": "python"
    }
  },
  "cells": [
    {
      "cell_type": "markdown",
      "metadata": {
        "id": "view-in-github",
        "colab_type": "text"
      },
      "source": [
        "<a href=\"https://colab.research.google.com/github/Khemapsorn/data_viz_2022/blob/main/SVEIQCR.ipynb\" target=\"_parent\"><img src=\"https://colab.research.google.com/assets/colab-badge.svg\" alt=\"Open In Colab\"/></a>"
      ]
    },
    {
      "cell_type": "markdown",
      "source": [
        "# เตรียมโค้ดคำนวณ"
      ],
      "metadata": {
        "id": "J41aDLijsJMN"
      }
    },
    {
      "cell_type": "code",
      "execution_count": 1,
      "metadata": {
        "id": "GKlxnplvrW0f"
      },
      "outputs": [],
      "source": [
        "#import libralies\n",
        "import pandas as pd # ใช้จัดการข้อมูลต่าง ๆ ที่เป็นตาราง พวกexcel ,CSV\n",
        "import numpy as np\n",
        "import seaborn as sns\n",
        "import matplotlib.pyplot as plt # พล็อตกราฟต่างๆ \n",
        "\n",
        "from scipy.integrate import odeint #Integrate a system of ordinary differential equations.\n",
        "                                                # func(y, t0, ...) \n",
        "\n",
        "%config InlineBackend.figure_format = 'retina'"
      ]
    },
    {
      "cell_type": "markdown",
      "source": [
        "# SVEIQCR simulation of Monkeypox in human"
      ],
      "metadata": {
        "id": "2EfHmNfCfcYZ"
      }
    },
    {
      "cell_type": "markdown",
      "source": [
        "## พารามิเตอร์ของตัวแบบ และสมการเชิงอนุพันธ์"
      ],
      "metadata": {
        "id": "DlyRf201sQAK"
      }
    },
    {
      "cell_type": "code",
      "source": [
        " #SVEIQCR model ในประชากรมนุษย์\n",
        " #Differential equations\n",
        "def deriv (y, t, Lambda, Phi, Mu, Lamda, Nu, theta, Beta, delta, alpha, Tau, Rho,gamma): # paramerter ในตัวแบบ โดย t คือ เวลา N จำนวนประชากรมนุษย์ทั้งหมด\n",
        "    S, V, E, I, Q, C, R = y\n",
        "    dSdt = Lambda+Phi*Q-Mu*S-Lamda*S-Nu*S\n",
        "    dVdt = Nu*S+Mu*V\n",
        "    dEdt = Lamda*S-Mu*E-theta*E-Beta*E\n",
        "    dIdt = theta*E-delta*I-Mu*I-Rho*I-gamma*I\n",
        "    dQdt = Beta*E-delta*Q-Mu*Q-Phi*Q-Tau*Q\n",
        "    dCdt = gamma*I-delta*C-Mu*C-alpha*C\n",
        "    dRdt =Rho*I+Tau*Q+alpha*C-Mu*R\n",
        "    return dSdt, dVdt, dEdt, dIdt, dQdt, dCdt, dRdt"
      ],
      "metadata": {
        "id": "k0AUkYVGserf"
      },
      "execution_count": 9,
      "outputs": []
    },
    {
      "cell_type": "code",
      "source": [
        "# parameter value\n",
        "Lambda =0.029\n",
        "Phi = 0.5\n",
        "Mu = 0.0003\n",
        "Lamda = 0.00000189\n",
        "Nu =0.01 #1%\n",
        "theta = 0.032\n",
        "Beta = 0.333 # กักตัว 3 วัน\n",
        "delta = 0.2\n",
        "alpha = 0.036\n",
        "Tau = 0.52\n",
        "Rho = 0.088\n",
        "gamma = 0.5\n",
        "\n",
        "# Time period (100 days)\n",
        "t = np.arange(0,100,1)\n",
        "\n",
        "#Initial number \n",
        "S0 = 332900000\n",
        "V0 = 717362\n",
        "E0 =0\n",
        "I0 = 28615\n",
        "Q0 = 0\n",
        "C0 = 0\n",
        "R0 = 0\n",
        "N = 332,928,615\n",
        "\n",
        "# Constant rate \n",
        "L = 0.029\n",
        "P = 0.5\n",
        "M= 0.0003\n",
        "l = 0.00000189\n",
        "N = 0.01\n",
        "T =0.032\n",
        "B =0.333\n",
        "D =0.2\n",
        "A =0.036\n",
        "TT = 0.52\n",
        "R = 0.088\n",
        "G = 0.5\n",
        "#Integration SVEIQCR model\n",
        "simulationresult = odeint(deriv, (S0, V0, E0, I0, Q0, C0,R0), t, args = (N,L,P, M,l,N,T,B,D,A,TT,R,G))\n",
        "\n",
        "#Summary\n",
        "simulationResult = pd.DataFrame(simulationresult, columns = ['Susceptible','Vaccine','Exposed', 'Infectious','Quarantine','Clinically','Recovered' ])\n",
        "simulationResult = simulationResult.astype(np.int32)"
      ],
      "metadata": {
        "id": "KYK2vGE0f9gt",
        "outputId": "e623d6a2-9f1f-4a7c-e9bd-b541c2adda3f",
        "colab": {
          "base_uri": "https://localhost:8080/",
          "height": 374
        }
      },
      "execution_count": 14,
      "outputs": [
        {
          "output_type": "error",
          "ename": "TypeError",
          "evalue": "ignored",
          "traceback": [
            "\u001b[0;31m---------------------------------------------------------------------------\u001b[0m",
            "\u001b[0;31mTypeError\u001b[0m                                 Traceback (most recent call last)",
            "\u001b[0;32m<ipython-input-14-ed74a518f103>\u001b[0m in \u001b[0;36m<module>\u001b[0;34m\u001b[0m\n\u001b[1;32m     40\u001b[0m \u001b[0mG\u001b[0m \u001b[0;34m=\u001b[0m \u001b[0;36m0.5\u001b[0m\u001b[0;34m\u001b[0m\u001b[0;34m\u001b[0m\u001b[0m\n\u001b[1;32m     41\u001b[0m \u001b[0;31m#Integration SVEIQCR model\u001b[0m\u001b[0;34m\u001b[0m\u001b[0;34m\u001b[0m\u001b[0;34m\u001b[0m\u001b[0m\n\u001b[0;32m---> 42\u001b[0;31m \u001b[0msimulationresult\u001b[0m \u001b[0;34m=\u001b[0m \u001b[0modeint\u001b[0m\u001b[0;34m(\u001b[0m\u001b[0mderiv\u001b[0m\u001b[0;34m,\u001b[0m \u001b[0;34m(\u001b[0m\u001b[0mS0\u001b[0m\u001b[0;34m,\u001b[0m \u001b[0mV0\u001b[0m\u001b[0;34m,\u001b[0m \u001b[0mE0\u001b[0m\u001b[0;34m,\u001b[0m \u001b[0mI0\u001b[0m\u001b[0;34m,\u001b[0m \u001b[0mQ0\u001b[0m\u001b[0;34m,\u001b[0m \u001b[0mC0\u001b[0m\u001b[0;34m,\u001b[0m\u001b[0mR0\u001b[0m\u001b[0;34m)\u001b[0m\u001b[0;34m,\u001b[0m \u001b[0mt\u001b[0m\u001b[0;34m,\u001b[0m \u001b[0margs\u001b[0m \u001b[0;34m=\u001b[0m \u001b[0;34m(\u001b[0m\u001b[0mN\u001b[0m\u001b[0;34m,\u001b[0m\u001b[0mL\u001b[0m\u001b[0;34m,\u001b[0m\u001b[0mP\u001b[0m\u001b[0;34m,\u001b[0m \u001b[0mM\u001b[0m\u001b[0;34m,\u001b[0m\u001b[0ml\u001b[0m\u001b[0;34m,\u001b[0m\u001b[0mN\u001b[0m\u001b[0;34m,\u001b[0m\u001b[0mT\u001b[0m\u001b[0;34m,\u001b[0m\u001b[0mB\u001b[0m\u001b[0;34m,\u001b[0m\u001b[0mD\u001b[0m\u001b[0;34m,\u001b[0m\u001b[0mA\u001b[0m\u001b[0;34m,\u001b[0m\u001b[0mTT\u001b[0m\u001b[0;34m,\u001b[0m\u001b[0mR\u001b[0m\u001b[0;34m,\u001b[0m\u001b[0mG\u001b[0m\u001b[0;34m)\u001b[0m\u001b[0;34m)\u001b[0m\u001b[0;34m\u001b[0m\u001b[0;34m\u001b[0m\u001b[0m\n\u001b[0m\u001b[1;32m     43\u001b[0m \u001b[0;34m\u001b[0m\u001b[0m\n\u001b[1;32m     44\u001b[0m \u001b[0;31m#Summary\u001b[0m\u001b[0;34m\u001b[0m\u001b[0;34m\u001b[0m\u001b[0;34m\u001b[0m\u001b[0m\n",
            "\u001b[0;32m/usr/local/lib/python3.8/dist-packages/scipy/integrate/odepack.py\u001b[0m in \u001b[0;36modeint\u001b[0;34m(func, y0, t, args, Dfun, col_deriv, full_output, ml, mu, rtol, atol, tcrit, h0, hmax, hmin, ixpr, mxstep, mxhnil, mxordn, mxords, printmessg, tfirst)\u001b[0m\n\u001b[1;32m    239\u001b[0m     \u001b[0mt\u001b[0m \u001b[0;34m=\u001b[0m \u001b[0mcopy\u001b[0m\u001b[0;34m(\u001b[0m\u001b[0mt\u001b[0m\u001b[0;34m)\u001b[0m\u001b[0;34m\u001b[0m\u001b[0;34m\u001b[0m\u001b[0m\n\u001b[1;32m    240\u001b[0m     \u001b[0my0\u001b[0m \u001b[0;34m=\u001b[0m \u001b[0mcopy\u001b[0m\u001b[0;34m(\u001b[0m\u001b[0my0\u001b[0m\u001b[0;34m)\u001b[0m\u001b[0;34m\u001b[0m\u001b[0;34m\u001b[0m\u001b[0m\n\u001b[0;32m--> 241\u001b[0;31m     output = _odepack.odeint(func, y0, t, args, Dfun, col_deriv, ml, mu,\n\u001b[0m\u001b[1;32m    242\u001b[0m                              \u001b[0mfull_output\u001b[0m\u001b[0;34m,\u001b[0m \u001b[0mrtol\u001b[0m\u001b[0;34m,\u001b[0m \u001b[0matol\u001b[0m\u001b[0;34m,\u001b[0m \u001b[0mtcrit\u001b[0m\u001b[0;34m,\u001b[0m \u001b[0mh0\u001b[0m\u001b[0;34m,\u001b[0m \u001b[0mhmax\u001b[0m\u001b[0;34m,\u001b[0m \u001b[0mhmin\u001b[0m\u001b[0;34m,\u001b[0m\u001b[0;34m\u001b[0m\u001b[0;34m\u001b[0m\u001b[0m\n\u001b[1;32m    243\u001b[0m                              \u001b[0mixpr\u001b[0m\u001b[0;34m,\u001b[0m \u001b[0mmxstep\u001b[0m\u001b[0;34m,\u001b[0m \u001b[0mmxhnil\u001b[0m\u001b[0;34m,\u001b[0m \u001b[0mmxordn\u001b[0m\u001b[0;34m,\u001b[0m \u001b[0mmxords\u001b[0m\u001b[0;34m,\u001b[0m\u001b[0;34m\u001b[0m\u001b[0;34m\u001b[0m\u001b[0m\n",
            "\u001b[0;31mTypeError\u001b[0m: deriv() takes 14 positional arguments but 15 were given"
          ]
        }
      ]
    },
    {
      "cell_type": "markdown",
      "source": [
        "# SEI simulation of Monkeypox in rodent"
      ],
      "metadata": {
        "id": "pXr9Oy70fHiV"
      }
    },
    {
      "cell_type": "markdown",
      "source": [
        "## พารามิเตอร์ของตัวแบบ และสมการเชิงอนุพันธ์"
      ],
      "metadata": {
        "id": "3JXdnJmrfYoN"
      }
    },
    {
      "cell_type": "code",
      "source": [
        "# SEI model ในประชากรสัตว์ฟันแทะ\n",
        "# Differential equations\n",
        "def deriv(y, t,N, Lambda, Mu, Lamda, theta, delta): # \n",
        "    S, E, I = y\n",
        "    dSdt = Lambda-Mu*S-Lamda*S\n",
        "    dEdt = Lamda*S-Mu*E-theta*E\n",
        "    dIdt = theta*E -delta*I-Mu*I\n",
        "    return dSdt, dEdt, dIdt"
      ],
      "metadata": {
        "id": "FtjJsZQI06wv"
      },
      "execution_count": 2,
      "outputs": []
    },
    {
      "cell_type": "code",
      "source": [
        "# parameter value\n",
        "Lambda = 0.2\n",
        "Mu = 0.1\n",
        "Lamda = 0\n",
        "theta = 0.032\n",
        "delta = 0.5\n",
        "\n",
        "# Time period (100 days)\n",
        "t = np.arange(0,100,1)\n",
        "\n",
        "#Initial number of exposed, infected and recovered\n",
        "S0 = 100\n",
        "E0 = 0\n",
        "I0 = 0\n",
        "N=100\n",
        "\n",
        "# Constant rate \n",
        "L = 0.2  \n",
        "M = 0.1 \n",
        "l= 0\n",
        "T = 0.032  \n",
        "d = 0.5\n",
        "\n",
        "#Integration SEI model\n",
        "simulationresult = odeint(deriv, (S0, E0, I0), t, args = (N,L, M, l, T, d))\n",
        "\n",
        "#Summary\n",
        "simulationResult = pd.DataFrame(simulationresult, columns = ['Susceptible', 'Exposed', 'Infectious', ])\n",
        "simulationResult = simulationResult.astype(np.int32)"
      ],
      "metadata": {
        "id": "mB1DzFQM2smM"
      },
      "execution_count": 3,
      "outputs": []
    },
    {
      "cell_type": "code",
      "source": [
        "t = np.arange(0,100,1)\n",
        "t"
      ],
      "metadata": {
        "id": "-fbjA4L6cx0c",
        "outputId": "7beb48f5-ed4e-4b9e-992e-99f55b551cd4",
        "colab": {
          "base_uri": "https://localhost:8080/"
        }
      },
      "execution_count": 4,
      "outputs": [
        {
          "output_type": "execute_result",
          "data": {
            "text/plain": [
              "array([ 0,  1,  2,  3,  4,  5,  6,  7,  8,  9, 10, 11, 12, 13, 14, 15, 16,\n",
              "       17, 18, 19, 20, 21, 22, 23, 24, 25, 26, 27, 28, 29, 30, 31, 32, 33,\n",
              "       34, 35, 36, 37, 38, 39, 40, 41, 42, 43, 44, 45, 46, 47, 48, 49, 50,\n",
              "       51, 52, 53, 54, 55, 56, 57, 58, 59, 60, 61, 62, 63, 64, 65, 66, 67,\n",
              "       68, 69, 70, 71, 72, 73, 74, 75, 76, 77, 78, 79, 80, 81, 82, 83, 84,\n",
              "       85, 86, 87, 88, 89, 90, 91, 92, 93, 94, 95, 96, 97, 98, 99])"
            ]
          },
          "metadata": {},
          "execution_count": 4
        }
      ]
    },
    {
      "cell_type": "code",
      "source": [
        "simulationResult"
      ],
      "metadata": {
        "id": "UbFEpncOcxtf",
        "outputId": "99f4652d-806c-42ae-eabb-80d29b4ccfdf",
        "colab": {
          "base_uri": "https://localhost:8080/",
          "height": 424
        }
      },
      "execution_count": 5,
      "outputs": [
        {
          "output_type": "execute_result",
          "data": {
            "text/plain": [
              "    Susceptible  Exposed  Infectious\n",
              "0           100        0           0\n",
              "1            90        0           0\n",
              "2            82        0           0\n",
              "3            74        0           0\n",
              "4            67        0           0\n",
              "..          ...      ...         ...\n",
              "95            2        0           0\n",
              "96            2        0           0\n",
              "97            2        0           0\n",
              "98            2        0           0\n",
              "99            2        0           0\n",
              "\n",
              "[100 rows x 3 columns]"
            ],
            "text/html": [
              "\n",
              "  <div id=\"df-31f365f4-cd95-482c-82a8-d92c3c8fc5cb\">\n",
              "    <div class=\"colab-df-container\">\n",
              "      <div>\n",
              "<style scoped>\n",
              "    .dataframe tbody tr th:only-of-type {\n",
              "        vertical-align: middle;\n",
              "    }\n",
              "\n",
              "    .dataframe tbody tr th {\n",
              "        vertical-align: top;\n",
              "    }\n",
              "\n",
              "    .dataframe thead th {\n",
              "        text-align: right;\n",
              "    }\n",
              "</style>\n",
              "<table border=\"1\" class=\"dataframe\">\n",
              "  <thead>\n",
              "    <tr style=\"text-align: right;\">\n",
              "      <th></th>\n",
              "      <th>Susceptible</th>\n",
              "      <th>Exposed</th>\n",
              "      <th>Infectious</th>\n",
              "    </tr>\n",
              "  </thead>\n",
              "  <tbody>\n",
              "    <tr>\n",
              "      <th>0</th>\n",
              "      <td>100</td>\n",
              "      <td>0</td>\n",
              "      <td>0</td>\n",
              "    </tr>\n",
              "    <tr>\n",
              "      <th>1</th>\n",
              "      <td>90</td>\n",
              "      <td>0</td>\n",
              "      <td>0</td>\n",
              "    </tr>\n",
              "    <tr>\n",
              "      <th>2</th>\n",
              "      <td>82</td>\n",
              "      <td>0</td>\n",
              "      <td>0</td>\n",
              "    </tr>\n",
              "    <tr>\n",
              "      <th>3</th>\n",
              "      <td>74</td>\n",
              "      <td>0</td>\n",
              "      <td>0</td>\n",
              "    </tr>\n",
              "    <tr>\n",
              "      <th>4</th>\n",
              "      <td>67</td>\n",
              "      <td>0</td>\n",
              "      <td>0</td>\n",
              "    </tr>\n",
              "    <tr>\n",
              "      <th>...</th>\n",
              "      <td>...</td>\n",
              "      <td>...</td>\n",
              "      <td>...</td>\n",
              "    </tr>\n",
              "    <tr>\n",
              "      <th>95</th>\n",
              "      <td>2</td>\n",
              "      <td>0</td>\n",
              "      <td>0</td>\n",
              "    </tr>\n",
              "    <tr>\n",
              "      <th>96</th>\n",
              "      <td>2</td>\n",
              "      <td>0</td>\n",
              "      <td>0</td>\n",
              "    </tr>\n",
              "    <tr>\n",
              "      <th>97</th>\n",
              "      <td>2</td>\n",
              "      <td>0</td>\n",
              "      <td>0</td>\n",
              "    </tr>\n",
              "    <tr>\n",
              "      <th>98</th>\n",
              "      <td>2</td>\n",
              "      <td>0</td>\n",
              "      <td>0</td>\n",
              "    </tr>\n",
              "    <tr>\n",
              "      <th>99</th>\n",
              "      <td>2</td>\n",
              "      <td>0</td>\n",
              "      <td>0</td>\n",
              "    </tr>\n",
              "  </tbody>\n",
              "</table>\n",
              "<p>100 rows × 3 columns</p>\n",
              "</div>\n",
              "      <button class=\"colab-df-convert\" onclick=\"convertToInteractive('df-31f365f4-cd95-482c-82a8-d92c3c8fc5cb')\"\n",
              "              title=\"Convert this dataframe to an interactive table.\"\n",
              "              style=\"display:none;\">\n",
              "        \n",
              "  <svg xmlns=\"http://www.w3.org/2000/svg\" height=\"24px\"viewBox=\"0 0 24 24\"\n",
              "       width=\"24px\">\n",
              "    <path d=\"M0 0h24v24H0V0z\" fill=\"none\"/>\n",
              "    <path d=\"M18.56 5.44l.94 2.06.94-2.06 2.06-.94-2.06-.94-.94-2.06-.94 2.06-2.06.94zm-11 1L8.5 8.5l.94-2.06 2.06-.94-2.06-.94L8.5 2.5l-.94 2.06-2.06.94zm10 10l.94 2.06.94-2.06 2.06-.94-2.06-.94-.94-2.06-.94 2.06-2.06.94z\"/><path d=\"M17.41 7.96l-1.37-1.37c-.4-.4-.92-.59-1.43-.59-.52 0-1.04.2-1.43.59L10.3 9.45l-7.72 7.72c-.78.78-.78 2.05 0 2.83L4 21.41c.39.39.9.59 1.41.59.51 0 1.02-.2 1.41-.59l7.78-7.78 2.81-2.81c.8-.78.8-2.07 0-2.86zM5.41 20L4 18.59l7.72-7.72 1.47 1.35L5.41 20z\"/>\n",
              "  </svg>\n",
              "      </button>\n",
              "      \n",
              "  <style>\n",
              "    .colab-df-container {\n",
              "      display:flex;\n",
              "      flex-wrap:wrap;\n",
              "      gap: 12px;\n",
              "    }\n",
              "\n",
              "    .colab-df-convert {\n",
              "      background-color: #E8F0FE;\n",
              "      border: none;\n",
              "      border-radius: 50%;\n",
              "      cursor: pointer;\n",
              "      display: none;\n",
              "      fill: #1967D2;\n",
              "      height: 32px;\n",
              "      padding: 0 0 0 0;\n",
              "      width: 32px;\n",
              "    }\n",
              "\n",
              "    .colab-df-convert:hover {\n",
              "      background-color: #E2EBFA;\n",
              "      box-shadow: 0px 1px 2px rgba(60, 64, 67, 0.3), 0px 1px 3px 1px rgba(60, 64, 67, 0.15);\n",
              "      fill: #174EA6;\n",
              "    }\n",
              "\n",
              "    [theme=dark] .colab-df-convert {\n",
              "      background-color: #3B4455;\n",
              "      fill: #D2E3FC;\n",
              "    }\n",
              "\n",
              "    [theme=dark] .colab-df-convert:hover {\n",
              "      background-color: #434B5C;\n",
              "      box-shadow: 0px 1px 3px 1px rgba(0, 0, 0, 0.15);\n",
              "      filter: drop-shadow(0px 1px 2px rgba(0, 0, 0, 0.3));\n",
              "      fill: #FFFFFF;\n",
              "    }\n",
              "  </style>\n",
              "\n",
              "      <script>\n",
              "        const buttonEl =\n",
              "          document.querySelector('#df-31f365f4-cd95-482c-82a8-d92c3c8fc5cb button.colab-df-convert');\n",
              "        buttonEl.style.display =\n",
              "          google.colab.kernel.accessAllowed ? 'block' : 'none';\n",
              "\n",
              "        async function convertToInteractive(key) {\n",
              "          const element = document.querySelector('#df-31f365f4-cd95-482c-82a8-d92c3c8fc5cb');\n",
              "          const dataTable =\n",
              "            await google.colab.kernel.invokeFunction('convertToInteractive',\n",
              "                                                     [key], {});\n",
              "          if (!dataTable) return;\n",
              "\n",
              "          const docLinkHtml = 'Like what you see? Visit the ' +\n",
              "            '<a target=\"_blank\" href=https://colab.research.google.com/notebooks/data_table.ipynb>data table notebook</a>'\n",
              "            + ' to learn more about interactive tables.';\n",
              "          element.innerHTML = '';\n",
              "          dataTable['output_type'] = 'display_data';\n",
              "          await google.colab.output.renderOutput(dataTable, element);\n",
              "          const docLink = document.createElement('div');\n",
              "          docLink.innerHTML = docLinkHtml;\n",
              "          element.appendChild(docLink);\n",
              "        }\n",
              "      </script>\n",
              "    </div>\n",
              "  </div>\n",
              "  "
            ]
          },
          "metadata": {},
          "execution_count": 5
        }
      ]
    },
    {
      "cell_type": "code",
      "source": [
        "# plot the simulation\n",
        "plt.figure (figsize = (14, 7)) #กำหนดขนาด\n",
        "with plt.style.context('seaborn'): # พล็อตเนื้อหา สไตล์ต่าง ๆ\n",
        "    plt.title('SEI simulation of monkeypox in rodent.') # ชื่อกราฟ\n",
        "    plt.xlabel('Time') # แกน X\n",
        "    plt.ylabel('Number of population') # แกน Y\n",
        "    plt.plot(simulationResult['Susceptible'], c = 'royalblue', linestyle = '--',label = 'Susceptible') # S\n",
        "    plt.plot(simulationResult['Exposed'], c = 'forestgreen', linestyle = '--' ,label = 'Exposed') # E\n",
        "    plt.plot(simulationResult['Infectious'], c = 'firebrick', linewidth = 2.5,label = 'Infectious') #I\n",
        "    plt.annotate(simulationResult['Infectious'].max(),\n",
        "                    (simulationResult['Infectious'].idxmax(), simulationResult['Infectious'].max()),\n",
        "                    textcoords = 'offset points', xytext = (5,5),ha = 'center')\n",
        "    plt.legend(frameon = True, facecolor = 'white') # โชว์เส้นกริด ทำเป็นสีขาว\n",
        "    plt.show()"
      ],
      "metadata": {
        "id": "C_LdXHbtcxjT",
        "outputId": "fc4c64b2-ee06-4399-ff5f-a1631b6caffd",
        "colab": {
          "base_uri": "https://localhost:8080/",
          "height": 457
        }
      },
      "execution_count": 8,
      "outputs": [
        {
          "output_type": "display_data",
          "data": {
            "text/plain": [
              "<Figure size 1008x504 with 1 Axes>"
            ],
            "image/png": "[encoded data removed]"
          },
          "metadata": {
            "image/png": {
              "width": 833,
              "height": 440
            },
            "needs_background": "light"
          }
        }
      ]
    }
  ]
}