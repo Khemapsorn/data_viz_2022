{
  "nbformat": 4,
  "nbformat_minor": 0,
  "metadata": {
    "colab": {
      "name": "Dataviz04 Data Comparison.ipynb",
      "provenance": [],
      "authorship_tag": "ABX9TyPxa0UcDF4dmd3WdUGNWQSt",
      "include_colab_link": true
    },
    "kernelspec": {
      "name": "python3",
      "display_name": "Python 3"
    },
    "language_info": {
      "name": "python"
    }
  },
  "cells": [
    {
      "cell_type": "markdown",
      "metadata": {
        "id": "view-in-github",
        "colab_type": "text"
      },
      "source": [
        "<a href=\"https://colab.research.google.com/github/Khemapsorn/data_viz_2022/blob/main/Dataviz04_Data_Comparison.ipynb\" target=\"_parent\"><img src=\"https://colab.research.google.com/assets/colab-badge.svg\" alt=\"Open In Colab\"/></a>"
      ]
    },
    {
      "cell_type": "markdown",
      "source": [
        "# เปรียบเทียบ ข้อมูล ด้วย codinate plot"
      ],
      "metadata": {
        "id": "0k122kpC6QKu"
      }
    },
    {
      "cell_type": "code",
      "execution_count": 1,
      "metadata": {
        "id": "nrfXJKkM56kU"
      },
      "outputs": [],
      "source": [
        "import pandas as pd"
      ]
    },
    {
      "cell_type": "code",
      "source": [
        "example_df = pd.read_csv('https://raw.github.com/pandas-dev/pandas/master/pandas/tests/io/data/csv/iris.csv')\n",
        "example_df"
      ],
      "metadata": {
        "colab": {
          "base_uri": "https://localhost:8080/",
          "height": 423
        },
        "id": "l33vj5oV6iBY",
        "outputId": "74fe99fb-a9cf-49b7-94df-0dc371fd95c5"
      },
      "execution_count": 2,
      "outputs": [
        {
          "output_type": "execute_result",
          "data": {
            "text/html": [
              "\n",
              "  <div id=\"df-1401ad4e-f3b2-49d8-9589-c1b5aefdddcf\">\n",
              "    <div class=\"colab-df-container\">\n",
              "      <div>\n",
              "<style scoped>\n",
              "    .dataframe tbody tr th:only-of-type {\n",
              "        vertical-align: middle;\n",
              "    }\n",
              "\n",
              "    .dataframe tbody tr th {\n",
              "        vertical-align: top;\n",
              "    }\n",
              "\n",
              "    .dataframe thead th {\n",
              "        text-align: right;\n",
              "    }\n",
              "</style>\n",
              "<table border=\"1\" class=\"dataframe\">\n",
              "  <thead>\n",
              "    <tr style=\"text-align: right;\">\n",
              "      <th></th>\n",
              "      <th>SepalLength</th>\n",
              "      <th>SepalWidth</th>\n",
              "      <th>PetalLength</th>\n",
              "      <th>PetalWidth</th>\n",
              "      <th>Name</th>\n",
              "    </tr>\n",
              "  </thead>\n",
              "  <tbody>\n",
              "    <tr>\n",
              "      <th>0</th>\n",
              "      <td>5.1</td>\n",
              "      <td>3.5</td>\n",
              "      <td>1.4</td>\n",
              "      <td>0.2</td>\n",
              "      <td>Iris-setosa</td>\n",
              "    </tr>\n",
              "    <tr>\n",
              "      <th>1</th>\n",
              "      <td>4.9</td>\n",
              "      <td>3.0</td>\n",
              "      <td>1.4</td>\n",
              "      <td>0.2</td>\n",
              "      <td>Iris-setosa</td>\n",
              "    </tr>\n",
              "    <tr>\n",
              "      <th>2</th>\n",
              "      <td>4.7</td>\n",
              "      <td>3.2</td>\n",
              "      <td>1.3</td>\n",
              "      <td>0.2</td>\n",
              "      <td>Iris-setosa</td>\n",
              "    </tr>\n",
              "    <tr>\n",
              "      <th>3</th>\n",
              "      <td>4.6</td>\n",
              "      <td>3.1</td>\n",
              "      <td>1.5</td>\n",
              "      <td>0.2</td>\n",
              "      <td>Iris-setosa</td>\n",
              "    </tr>\n",
              "    <tr>\n",
              "      <th>4</th>\n",
              "      <td>5.0</td>\n",
              "      <td>3.6</td>\n",
              "      <td>1.4</td>\n",
              "      <td>0.2</td>\n",
              "      <td>Iris-setosa</td>\n",
              "    </tr>\n",
              "    <tr>\n",
              "      <th>...</th>\n",
              "      <td>...</td>\n",
              "      <td>...</td>\n",
              "      <td>...</td>\n",
              "      <td>...</td>\n",
              "      <td>...</td>\n",
              "    </tr>\n",
              "    <tr>\n",
              "      <th>145</th>\n",
              "      <td>6.7</td>\n",
              "      <td>3.0</td>\n",
              "      <td>5.2</td>\n",
              "      <td>2.3</td>\n",
              "      <td>Iris-virginica</td>\n",
              "    </tr>\n",
              "    <tr>\n",
              "      <th>146</th>\n",
              "      <td>6.3</td>\n",
              "      <td>2.5</td>\n",
              "      <td>5.0</td>\n",
              "      <td>1.9</td>\n",
              "      <td>Iris-virginica</td>\n",
              "    </tr>\n",
              "    <tr>\n",
              "      <th>147</th>\n",
              "      <td>6.5</td>\n",
              "      <td>3.0</td>\n",
              "      <td>5.2</td>\n",
              "      <td>2.0</td>\n",
              "      <td>Iris-virginica</td>\n",
              "    </tr>\n",
              "    <tr>\n",
              "      <th>148</th>\n",
              "      <td>6.2</td>\n",
              "      <td>3.4</td>\n",
              "      <td>5.4</td>\n",
              "      <td>2.3</td>\n",
              "      <td>Iris-virginica</td>\n",
              "    </tr>\n",
              "    <tr>\n",
              "      <th>149</th>\n",
              "      <td>5.9</td>\n",
              "      <td>3.0</td>\n",
              "      <td>5.1</td>\n",
              "      <td>1.8</td>\n",
              "      <td>Iris-virginica</td>\n",
              "    </tr>\n",
              "  </tbody>\n",
              "</table>\n",
              "<p>150 rows × 5 columns</p>\n",
              "</div>\n",
              "      <button class=\"colab-df-convert\" onclick=\"convertToInteractive('df-1401ad4e-f3b2-49d8-9589-c1b5aefdddcf')\"\n",
              "              title=\"Convert this dataframe to an interactive table.\"\n",
              "              style=\"display:none;\">\n",
              "        \n",
              "  <svg xmlns=\"http://www.w3.org/2000/svg\" height=\"24px\"viewBox=\"0 0 24 24\"\n",
              "       width=\"24px\">\n",
              "    <path d=\"M0 0h24v24H0V0z\" fill=\"none\"/>\n",
              "    <path d=\"M18.56 5.44l.94 2.06.94-2.06 2.06-.94-2.06-.94-.94-2.06-.94 2.06-2.06.94zm-11 1L8.5 8.5l.94-2.06 2.06-.94-2.06-.94L8.5 2.5l-.94 2.06-2.06.94zm10 10l.94 2.06.94-2.06 2.06-.94-2.06-.94-.94-2.06-.94 2.06-2.06.94z\"/><path d=\"M17.41 7.96l-1.37-1.37c-.4-.4-.92-.59-1.43-.59-.52 0-1.04.2-1.43.59L10.3 9.45l-7.72 7.72c-.78.78-.78 2.05 0 2.83L4 21.41c.39.39.9.59 1.41.59.51 0 1.02-.2 1.41-.59l7.78-7.78 2.81-2.81c.8-.78.8-2.07 0-2.86zM5.41 20L4 18.59l7.72-7.72 1.47 1.35L5.41 20z\"/>\n",
              "  </svg>\n",
              "      </button>\n",
              "      \n",
              "  <style>\n",
              "    .colab-df-container {\n",
              "      display:flex;\n",
              "      flex-wrap:wrap;\n",
              "      gap: 12px;\n",
              "    }\n",
              "\n",
              "    .colab-df-convert {\n",
              "      background-color: #E8F0FE;\n",
              "      border: none;\n",
              "      border-radius: 50%;\n",
              "      cursor: pointer;\n",
              "      display: none;\n",
              "      fill: #1967D2;\n",
              "      height: 32px;\n",
              "      padding: 0 0 0 0;\n",
              "      width: 32px;\n",
              "    }\n",
              "\n",
              "    .colab-df-convert:hover {\n",
              "      background-color: #E2EBFA;\n",
              "      box-shadow: 0px 1px 2px rgba(60, 64, 67, 0.3), 0px 1px 3px 1px rgba(60, 64, 67, 0.15);\n",
              "      fill: #174EA6;\n",
              "    }\n",
              "\n",
              "    [theme=dark] .colab-df-convert {\n",
              "      background-color: #3B4455;\n",
              "      fill: #D2E3FC;\n",
              "    }\n",
              "\n",
              "    [theme=dark] .colab-df-convert:hover {\n",
              "      background-color: #434B5C;\n",
              "      box-shadow: 0px 1px 3px 1px rgba(0, 0, 0, 0.15);\n",
              "      filter: drop-shadow(0px 1px 2px rgba(0, 0, 0, 0.3));\n",
              "      fill: #FFFFFF;\n",
              "    }\n",
              "  </style>\n",
              "\n",
              "      <script>\n",
              "        const buttonEl =\n",
              "          document.querySelector('#df-1401ad4e-f3b2-49d8-9589-c1b5aefdddcf button.colab-df-convert');\n",
              "        buttonEl.style.display =\n",
              "          google.colab.kernel.accessAllowed ? 'block' : 'none';\n",
              "\n",
              "        async function convertToInteractive(key) {\n",
              "          const element = document.querySelector('#df-1401ad4e-f3b2-49d8-9589-c1b5aefdddcf');\n",
              "          const dataTable =\n",
              "            await google.colab.kernel.invokeFunction('convertToInteractive',\n",
              "                                                     [key], {});\n",
              "          if (!dataTable) return;\n",
              "\n",
              "          const docLinkHtml = 'Like what you see? Visit the ' +\n",
              "            '<a target=\"_blank\" href=https://colab.research.google.com/notebooks/data_table.ipynb>data table notebook</a>'\n",
              "            + ' to learn more about interactive tables.';\n",
              "          element.innerHTML = '';\n",
              "          dataTable['output_type'] = 'display_data';\n",
              "          await google.colab.output.renderOutput(dataTable, element);\n",
              "          const docLink = document.createElement('div');\n",
              "          docLink.innerHTML = docLinkHtml;\n",
              "          element.appendChild(docLink);\n",
              "        }\n",
              "      </script>\n",
              "    </div>\n",
              "  </div>\n",
              "  "
            ],
            "text/plain": [
              "     SepalLength  SepalWidth  PetalLength  PetalWidth            Name\n",
              "0            5.1         3.5          1.4         0.2     Iris-setosa\n",
              "1            4.9         3.0          1.4         0.2     Iris-setosa\n",
              "2            4.7         3.2          1.3         0.2     Iris-setosa\n",
              "3            4.6         3.1          1.5         0.2     Iris-setosa\n",
              "4            5.0         3.6          1.4         0.2     Iris-setosa\n",
              "..           ...         ...          ...         ...             ...\n",
              "145          6.7         3.0          5.2         2.3  Iris-virginica\n",
              "146          6.3         2.5          5.0         1.9  Iris-virginica\n",
              "147          6.5         3.0          5.2         2.0  Iris-virginica\n",
              "148          6.2         3.4          5.4         2.3  Iris-virginica\n",
              "149          5.9         3.0          5.1         1.8  Iris-virginica\n",
              "\n",
              "[150 rows x 5 columns]"
            ]
          },
          "metadata": {},
          "execution_count": 2
        }
      ]
    },
    {
      "cell_type": "code",
      "source": [
        "sample_data = example_df.groupby('Name').mean()"
      ],
      "metadata": {
        "id": "DjA1a5y66oCi"
      },
      "execution_count": 3,
      "outputs": []
    },
    {
      "cell_type": "code",
      "source": [
        "sample_data"
      ],
      "metadata": {
        "colab": {
          "base_uri": "https://localhost:8080/",
          "height": 174
        },
        "id": "_m803NFz6nkI",
        "outputId": "64c82ab0-39d4-4fa7-8fc8-7768525866dc"
      },
      "execution_count": 4,
      "outputs": [
        {
          "output_type": "execute_result",
          "data": {
            "text/html": [
              "\n",
              "  <div id=\"df-418c3cd7-df27-4cf1-83d0-c38787b428b4\">\n",
              "    <div class=\"colab-df-container\">\n",
              "      <div>\n",
              "<style scoped>\n",
              "    .dataframe tbody tr th:only-of-type {\n",
              "        vertical-align: middle;\n",
              "    }\n",
              "\n",
              "    .dataframe tbody tr th {\n",
              "        vertical-align: top;\n",
              "    }\n",
              "\n",
              "    .dataframe thead th {\n",
              "        text-align: right;\n",
              "    }\n",
              "</style>\n",
              "<table border=\"1\" class=\"dataframe\">\n",
              "  <thead>\n",
              "    <tr style=\"text-align: right;\">\n",
              "      <th></th>\n",
              "      <th>SepalLength</th>\n",
              "      <th>SepalWidth</th>\n",
              "      <th>PetalLength</th>\n",
              "      <th>PetalWidth</th>\n",
              "    </tr>\n",
              "    <tr>\n",
              "      <th>Name</th>\n",
              "      <th></th>\n",
              "      <th></th>\n",
              "      <th></th>\n",
              "      <th></th>\n",
              "    </tr>\n",
              "  </thead>\n",
              "  <tbody>\n",
              "    <tr>\n",
              "      <th>Iris-setosa</th>\n",
              "      <td>5.006</td>\n",
              "      <td>3.418</td>\n",
              "      <td>1.464</td>\n",
              "      <td>0.244</td>\n",
              "    </tr>\n",
              "    <tr>\n",
              "      <th>Iris-versicolor</th>\n",
              "      <td>5.936</td>\n",
              "      <td>2.770</td>\n",
              "      <td>4.260</td>\n",
              "      <td>1.326</td>\n",
              "    </tr>\n",
              "    <tr>\n",
              "      <th>Iris-virginica</th>\n",
              "      <td>6.588</td>\n",
              "      <td>2.974</td>\n",
              "      <td>5.552</td>\n",
              "      <td>2.026</td>\n",
              "    </tr>\n",
              "  </tbody>\n",
              "</table>\n",
              "</div>\n",
              "      <button class=\"colab-df-convert\" onclick=\"convertToInteractive('df-418c3cd7-df27-4cf1-83d0-c38787b428b4')\"\n",
              "              title=\"Convert this dataframe to an interactive table.\"\n",
              "              style=\"display:none;\">\n",
              "        \n",
              "  <svg xmlns=\"http://www.w3.org/2000/svg\" height=\"24px\"viewBox=\"0 0 24 24\"\n",
              "       width=\"24px\">\n",
              "    <path d=\"M0 0h24v24H0V0z\" fill=\"none\"/>\n",
              "    <path d=\"M18.56 5.44l.94 2.06.94-2.06 2.06-.94-2.06-.94-.94-2.06-.94 2.06-2.06.94zm-11 1L8.5 8.5l.94-2.06 2.06-.94-2.06-.94L8.5 2.5l-.94 2.06-2.06.94zm10 10l.94 2.06.94-2.06 2.06-.94-2.06-.94-.94-2.06-.94 2.06-2.06.94z\"/><path d=\"M17.41 7.96l-1.37-1.37c-.4-.4-.92-.59-1.43-.59-.52 0-1.04.2-1.43.59L10.3 9.45l-7.72 7.72c-.78.78-.78 2.05 0 2.83L4 21.41c.39.39.9.59 1.41.59.51 0 1.02-.2 1.41-.59l7.78-7.78 2.81-2.81c.8-.78.8-2.07 0-2.86zM5.41 20L4 18.59l7.72-7.72 1.47 1.35L5.41 20z\"/>\n",
              "  </svg>\n",
              "      </button>\n",
              "      \n",
              "  <style>\n",
              "    .colab-df-container {\n",
              "      display:flex;\n",
              "      flex-wrap:wrap;\n",
              "      gap: 12px;\n",
              "    }\n",
              "\n",
              "    .colab-df-convert {\n",
              "      background-color: #E8F0FE;\n",
              "      border: none;\n",
              "      border-radius: 50%;\n",
              "      cursor: pointer;\n",
              "      display: none;\n",
              "      fill: #1967D2;\n",
              "      height: 32px;\n",
              "      padding: 0 0 0 0;\n",
              "      width: 32px;\n",
              "    }\n",
              "\n",
              "    .colab-df-convert:hover {\n",
              "      background-color: #E2EBFA;\n",
              "      box-shadow: 0px 1px 2px rgba(60, 64, 67, 0.3), 0px 1px 3px 1px rgba(60, 64, 67, 0.15);\n",
              "      fill: #174EA6;\n",
              "    }\n",
              "\n",
              "    [theme=dark] .colab-df-convert {\n",
              "      background-color: #3B4455;\n",
              "      fill: #D2E3FC;\n",
              "    }\n",
              "\n",
              "    [theme=dark] .colab-df-convert:hover {\n",
              "      background-color: #434B5C;\n",
              "      box-shadow: 0px 1px 3px 1px rgba(0, 0, 0, 0.15);\n",
              "      filter: drop-shadow(0px 1px 2px rgba(0, 0, 0, 0.3));\n",
              "      fill: #FFFFFF;\n",
              "    }\n",
              "  </style>\n",
              "\n",
              "      <script>\n",
              "        const buttonEl =\n",
              "          document.querySelector('#df-418c3cd7-df27-4cf1-83d0-c38787b428b4 button.colab-df-convert');\n",
              "        buttonEl.style.display =\n",
              "          google.colab.kernel.accessAllowed ? 'block' : 'none';\n",
              "\n",
              "        async function convertToInteractive(key) {\n",
              "          const element = document.querySelector('#df-418c3cd7-df27-4cf1-83d0-c38787b428b4');\n",
              "          const dataTable =\n",
              "            await google.colab.kernel.invokeFunction('convertToInteractive',\n",
              "                                                     [key], {});\n",
              "          if (!dataTable) return;\n",
              "\n",
              "          const docLinkHtml = 'Like what you see? Visit the ' +\n",
              "            '<a target=\"_blank\" href=https://colab.research.google.com/notebooks/data_table.ipynb>data table notebook</a>'\n",
              "            + ' to learn more about interactive tables.';\n",
              "          element.innerHTML = '';\n",
              "          dataTable['output_type'] = 'display_data';\n",
              "          await google.colab.output.renderOutput(dataTable, element);\n",
              "          const docLink = document.createElement('div');\n",
              "          docLink.innerHTML = docLinkHtml;\n",
              "          element.appendChild(docLink);\n",
              "        }\n",
              "      </script>\n",
              "    </div>\n",
              "  </div>\n",
              "  "
            ],
            "text/plain": [
              "                 SepalLength  SepalWidth  PetalLength  PetalWidth\n",
              "Name                                                             \n",
              "Iris-setosa            5.006       3.418        1.464       0.244\n",
              "Iris-versicolor        5.936       2.770        4.260       1.326\n",
              "Iris-virginica         6.588       2.974        5.552       2.026"
            ]
          },
          "metadata": {},
          "execution_count": 4
        }
      ]
    },
    {
      "cell_type": "code",
      "source": [
        "from matplotlib import pyplot as plt"
      ],
      "metadata": {
        "id": "jMi0-Mkp6pyn"
      },
      "execution_count": 5,
      "outputs": []
    },
    {
      "cell_type": "code",
      "source": [
        "plt.plot( [1,2,3,4],sample_data.iloc[0,:],'ro') # เรียง 4 ชนิดของส่วนประกอบดอกไม้  และเทียบดอกไม้ 3 ชนิด\n",
        "plt.plot( [1,2,3,4],sample_data.iloc[1,:],'g*')\n",
        "plt.plot( [1,2,3,4],sample_data.iloc[2,:],'b^')"
      ],
      "metadata": {
        "colab": {
          "base_uri": "https://localhost:8080/",
          "height": 282
        },
        "id": "Nd05Tecd6prt",
        "outputId": "b0c77ad3-5350-4dd3-cfcf-cd958186f993"
      },
      "execution_count": 6,
      "outputs": [
        {
          "output_type": "execute_result",
          "data": {
            "text/plain": [
              "[<matplotlib.lines.Line2D at 0x7fa54bd13bd0>]"
            ]
          },
          "metadata": {},
          "execution_count": 6
        },
        {
          "output_type": "display_data",
          "data": {
            "image/png": "[encoded data removed]",
            "text/plain": [
              "<Figure size 432x288 with 1 Axes>"
            ]
          },
          "metadata": {
            "needs_background": "light"
          }
        }
      ]
    },
    {
      "cell_type": "code",
      "source": [
        "plt.plot( [1,2,3,4],sample_data.iloc[0,:],'ro-') # เรียง 4 ชนิดของส่วนประกอบดอกไม้  และเทียบดอกไม้ 3 ชนิด\n",
        "plt.plot( [1,2,3,4],sample_data.iloc[1,:],'g*-') # -- เส้นไม่มีความหมาย\n",
        "plt.plot( [1,2,3,4],sample_data.iloc[2,:],'b^-')"
      ],
      "metadata": {
        "colab": {
          "base_uri": "https://localhost:8080/",
          "height": 282
        },
        "id": "tqky2Pbs6pnJ",
        "outputId": "f962f80a-8a61-4375-ffa5-83dc6fad6176"
      },
      "execution_count": 7,
      "outputs": [
        {
          "output_type": "execute_result",
          "data": {
            "text/plain": [
              "[<matplotlib.lines.Line2D at 0x7fa54b87dd90>]"
            ]
          },
          "metadata": {},
          "execution_count": 7
        },
        {
          "output_type": "display_data",
          "data": {
            "image/png": "[encoded data removed]",
            "text/plain": [
              "<Figure size 432x288 with 1 Axes>"
            ]
          },
          "metadata": {
            "needs_background": "light"
          }
        }
      ]
    },
    {
      "cell_type": "code",
      "source": [
        "plt.plot([1,1],[min(sample_data.iloc[:,0]),max(sample_data.iloc[:,0])],'c')\n",
        "plt.plot([2,2],[min(sample_data.iloc[:,1]),max(sample_data.iloc[:,1])],'c')\n",
        "plt.plot([3,3],[min(sample_data.iloc[:,2]),max(sample_data.iloc[:,2])],'c')\n",
        "plt.plot([4,4],[min(sample_data.iloc[:,3]),max(sample_data.iloc[:,3])],'c')\n",
        "\n",
        "plt.plot( [1,2,3,4],sample_data.iloc[0,:],'ro') # เรียง 4 ชนิดของส่วนประกอบดอกไม้  และเทียบดอกไม้ 3 ชนิด\n",
        "plt.plot( [1,2,3,4],sample_data.iloc[1,:],'g*')\n",
        "plt.plot( [1,2,3,4],sample_data.iloc[2,:],'b^')"
      ],
      "metadata": {
        "colab": {
          "base_uri": "https://localhost:8080/",
          "height": 282
        },
        "id": "Y2lchUFw6pj_",
        "outputId": "1e77b2f8-4770-4787-8646-125bbd5bff0e"
      },
      "execution_count": 8,
      "outputs": [
        {
          "output_type": "execute_result",
          "data": {
            "text/plain": [
              "[<matplotlib.lines.Line2D at 0x7fa54b791990>]"
            ]
          },
          "metadata": {},
          "execution_count": 8
        },
        {
          "output_type": "display_data",
          "data": {
            "image/png": "[encoded data removed]",
            "text/plain": [
              "<Figure size 432x288 with 1 Axes>"
            ]
          },
          "metadata": {
            "needs_background": "light"
          }
        }
      ]
    },
    {
      "cell_type": "markdown",
      "source": [
        "## "
      ],
      "metadata": {
        "id": "GHPPiKoEAWi4"
      }
    },
    {
      "cell_type": "code",
      "source": [
        "plt.plot([1],[2],'ro-.')"
      ],
      "metadata": {
        "colab": {
          "base_uri": "https://localhost:8080/",
          "height": 282
        },
        "id": "XTz_9y0UAeos",
        "outputId": "1654171d-ba5d-4baf-c25f-f046f778b0ef"
      },
      "execution_count": 9,
      "outputs": [
        {
          "output_type": "execute_result",
          "data": {
            "text/plain": [
              "[<matplotlib.lines.Line2D at 0x7fa54b70a050>]"
            ]
          },
          "metadata": {},
          "execution_count": 9
        },
        {
          "output_type": "display_data",
          "data": {
            "image/png": "[encoded data removed]",
            "text/plain": [
              "<Figure size 432x288 with 1 Axes>"
            ]
          },
          "metadata": {
            "needs_background": "light"
          }
        }
      ]
    },
    {
      "cell_type": "code",
      "source": [
        "plt.plot([1,2],[2,4],'ro-.')"
      ],
      "metadata": {
        "colab": {
          "base_uri": "https://localhost:8080/",
          "height": 282
        },
        "id": "t5KCX-v07qfz",
        "outputId": "7134242a-0629-4421-b5b7-c6c584383be3"
      },
      "execution_count": 10,
      "outputs": [
        {
          "output_type": "execute_result",
          "data": {
            "text/plain": [
              "[<matplotlib.lines.Line2D at 0x7fa54b6ef990>]"
            ]
          },
          "metadata": {},
          "execution_count": 10
        },
        {
          "output_type": "display_data",
          "data": {
            "image/png": "[encoded data removed]",
            "text/plain": [
              "<Figure size 432x288 with 1 Axes>"
            ]
          },
          "metadata": {
            "needs_background": "light"
          }
        }
      ]
    },
    {
      "cell_type": "code",
      "source": [
        "plt.plot([1,1],[min(sample_data.iloc[:,0]),max(sample_data.iloc[:,0])],'c')\n",
        "plt.plot([2,2],[min(sample_data.iloc[:,1]),max(sample_data.iloc[:,1])],'c')\n",
        "plt.plot([3,3],[min(sample_data.iloc[:,2]),max(sample_data.iloc[:,2])],'c')\n",
        "plt.plot([4,4],[min(sample_data.iloc[:,3]),max(sample_data.iloc[:,3])],'c')\n",
        "\n",
        "plt.plot( [1,2,3,4],sample_data.iloc[0,:],'ro',label='Setosa') \n",
        "plt.plot( [1,2,3,4],sample_data.iloc[1,:],'g*',label='Versicolor')\n",
        "plt.plot( [1,2,3,4],sample_data.iloc[2,:],'b^',label='Virginiciga')\n",
        "plt.legend()"
      ],
      "metadata": {
        "colab": {
          "base_uri": "https://localhost:8080/",
          "height": 282
        },
        "id": "pzF30JTaDWBu",
        "outputId": "028ca24a-28db-4686-d50f-d803f2b808e3"
      },
      "execution_count": 11,
      "outputs": [
        {
          "output_type": "execute_result",
          "data": {
            "text/plain": [
              "<matplotlib.legend.Legend at 0x7fa54b67ddd0>"
            ]
          },
          "metadata": {},
          "execution_count": 11
        },
        {
          "output_type": "display_data",
          "data": {
            "image/png": "[encoded data removed]",
            "text/plain": [
              "<Figure size 432x288 with 1 Axes>"
            ]
          },
          "metadata": {
            "needs_background": "light"
          }
        }
      ]
    },
    {
      "cell_type": "code",
      "source": [
        "plt.plot([1,1],[min(sample_data.iloc[:,0]),max(sample_data.iloc[:,0])],'c')\n",
        "plt.plot([2,2],[min(sample_data.iloc[:,1]),max(sample_data.iloc[:,1])],'c')\n",
        "plt.plot([3,3],[min(sample_data.iloc[:,2]),max(sample_data.iloc[:,2])],'c')\n",
        "plt.plot([4,4],[min(sample_data.iloc[:,3]),max(sample_data.iloc[:,3])],'c')\n",
        "\n",
        "plt.plot( [1,2,3,4],sample_data.iloc[0,:],'ro',label='Setosa') \n",
        "plt.plot( [1,2,3,4],sample_data.iloc[1,:],'g*',label='Versicolor')\n",
        "plt.plot( [1,2,3,4],sample_data.iloc[2,:],'b^',label='Virginiciga')\n",
        "plt.legend()\n",
        "plt.xticks([1,2,3,4], example_df.iloc[:,:-1].columns.tolist(), rotation='vertical')"
      ],
      "metadata": {
        "colab": {
          "base_uri": "https://localhost:8080/",
          "height": 455
        },
        "id": "KpjZOHD67qZC",
        "outputId": "58b85b29-7698-4ff9-bba9-8bf7c0391029"
      },
      "execution_count": 12,
      "outputs": [
        {
          "output_type": "execute_result",
          "data": {
            "text/plain": [
              "([<matplotlib.axis.XTick at 0x7fa54b82df10>,\n",
              "  <matplotlib.axis.XTick at 0x7fa54b82ddd0>,\n",
              "  <matplotlib.axis.XTick at 0x7fa54bcf0e10>,\n",
              "  <matplotlib.axis.XTick at 0x7fa54b6ae950>],\n",
              " [Text(0, 0, 'SepalLength'),\n",
              "  Text(0, 0, 'SepalWidth'),\n",
              "  Text(0, 0, 'PetalLength'),\n",
              "  Text(0, 0, 'PetalWidth')])"
            ]
          },
          "metadata": {},
          "execution_count": 12
        },
        {
          "output_type": "display_data",
          "data": {
            "image/png": "[encoded data removed]",
            "text/plain": [
              "<Figure size 432x288 with 1 Axes>"
            ]
          },
          "metadata": {
            "needs_background": "light"
          }
        }
      ]
    },
    {
      "cell_type": "code",
      "source": [
        "plt.plot([1,1],[min(sample_data.iloc[:,0]),max(sample_data.iloc[:,0])],'c')\n",
        "plt.plot([2,2],[min(sample_data.iloc[:,1]),max(sample_data.iloc[:,1])],'c')\n",
        "plt.plot([3,3],[min(sample_data.iloc[:,2]),max(sample_data.iloc[:,2])],'c')\n",
        "plt.plot([4,4],[min(sample_data.iloc[:,3]),max(sample_data.iloc[:,3])],'c')\n",
        "\n",
        "plt.plot( [1,2,3,4],sample_data.iloc[0,:],'ro',label='Setosa') \n",
        "plt.plot( [1,2,3,4],sample_data.iloc[1,:],'g*',label='Versicolor')\n",
        "plt.plot( [1,2,3,4],sample_data.iloc[2,:],'b^',label='Virginiciga')\n",
        "plt.legend()\n",
        "plt.xticks([1,2,3,4], example_df.iloc[:,:-1].columns.tolist(), rotation='vertical')\n",
        "plt.title('Features comparisoin between 3 different Iris flowers')\n",
        "plt.ylabel('size (cm)');"
      ],
      "metadata": {
        "colab": {
          "base_uri": "https://localhost:8080/",
          "height": 333
        },
        "id": "VVDL7tyG7qV9",
        "outputId": "7eb7917d-4c76-487d-9c27-125ea00d457d"
      },
      "execution_count": 13,
      "outputs": [
        {
          "output_type": "display_data",
          "data": {
            "image/png": "[encoded data removed]",
            "text/plain": [
              "<Figure size 432x288 with 1 Axes>"
            ]
          },
          "metadata": {
            "needs_background": "light"
          }
        }
      ]
    },
    {
      "cell_type": "markdown",
      "source": [
        "#HW วาดรูปก้อนเมฆ และ ฝน ด้วย plt.plot"
      ],
      "metadata": {
        "id": "HVLsw7zCDxZ1"
      }
    },
    {
      "cell_type": "code",
      "source": [
        "plt.plot( [0.3],[6], 'm<' ) # plot แต่ละจุดเรียงกันเป็นก้อนเมฆโดยใช้คำสั่ง plt.plot\n",
        "plt.plot( [0.5],[6], 'mP' )\n",
        "plt.plot( [0.9],[6.1], 'mP' )\n",
        "plt.plot( [1.5],[6.5], 'bP' )\n",
        "plt.plot( [1.7],[6.7], 'bP' )\n",
        "plt.plot( [2],[7], 'bP' )\n",
        "plt.plot( [2.5],[7.1], 'bP' )\n",
        "plt.plot( [2.6],[6.7], 'bP' )\n",
        "plt.plot( [3],[6.5], 'bP' )\n",
        "plt.plot( [2.5],[7.5], 'bP' )\n",
        "plt.plot( [2.6],[7.9], 'bP' )\n",
        "plt.plot( [2.7],[8.1], 'bP' )\n",
        "plt.plot( [3],[8.5], 'bP' )\n",
        "plt.plot( [3.5],[8.4], 'bP' )\n",
        "plt.plot( [3.5],[8.1], 'bP' )\n",
        "plt.plot( [3.6],[7.5], 'bP' )\n",
        "plt.plot( [4.1],[7.4], 'bP' )\n",
        "plt.plot( [4.5],[7.37], 'bP' )\n",
        "plt.plot( [3.5],[9], 'bP' )\n",
        "plt.plot( [3.8],[9.5], 'bP' )\n",
        "plt.plot( [4.4],[9.9], 'bP' )\n",
        "plt.plot( [4.9],[10.2], 'bP' )\n",
        "plt.plot( [5.5],[10.4], 'bP' )\n",
        "plt.plot( [6.2],[10.37], 'bP' )\n",
        "plt.plot( [6.9],[10.4], 'bP' )\n",
        "plt.plot( [7.4],[9.8], 'bP' )\n",
        "plt.plot( [7.6],[9.1], 'bP' )\n",
        "plt.plot( [7.58],[8.5], 'bP' )\n",
        "plt.plot( [7.5],[8.1], 'bP' )\n",
        "plt.plot( [7.4],[7.8], 'bP' )\n",
        "plt.plot( [7.9],[7.9], 'w|' )\n",
        "plt.plot( [8.5],[7.7], 'k|' )\n",
        "plt.plot( [8.3],[7.55], 'w|' )\n",
        "plt.plot( [8.7],[7.5], 'k|' )\n",
        "plt.plot( [8.6],[7.3], 'w|' )\n",
        "plt.plot( [8.5],[7.2], 'k|' )\n",
        "plt.plot( [8.1],[6.6], 'k|' )\n",
        "plt.plot( [9],[7], 'bP' )\n",
        "plt.plot( [9.3],[6.65], 'mP' )\n",
        "plt.plot( [9.9],[6.7], 'm>' )\n",
        "plt.plot( [9.4],[6.45], 'mP' )\n",
        "plt.plot( [8.9],[6.1], 'mP' )\n",
        "plt.plot( [8],[6.05], 'mP' )\n",
        "plt.plot( [7.6],[6.8], 'mP' )\n",
        "plt.plot( [6.9],[5.8], 'mP' )\n",
        "plt.plot( [6.6],[6.3], 'mP' )\n",
        "plt.plot( [6.4],[5.55], 'mP' )\n",
        "plt.plot( [5.9],[5.5], 'mP' )\n",
        "plt.plot( [5.3],[5.4], 'mP' )\n",
        "plt.plot( [4.75],[5.5], 'mP' )\n",
        "plt.plot( [4.25],[5.7], 'mP' )\n",
        "plt.plot( [3.9],[5.9], 'mP' )\n",
        "plt.plot( [3.75],[5.65], 'mP' )\n",
        "plt.plot( [3.2],[5.52], 'mP' )\n",
        "plt.plot( [2.6],[5.5], 'mP' )\n",
        "plt.plot( [2.2],[5.6], 'mP' )\n",
        "plt.plot( [1.7],[6.7], 'mP' )\n",
        "plt.plot( [1.5],[6.5], 'mP' )\n",
        "plt.plot( [0.9],[5.8], 'mP' )\n",
        "plt.plot( [8],[7.1], 'mP' )\n",
        "plt.plot( [1.3],[5.5], 'mP' )\n",
        "plt.plot( [8.5],[6.3], 'mP' )\n",
        "plt.plot( [7.7],[5.7], 'mP' )\n",
        "plt.plot( [6.9],[5.6], 'mP' )\n",
        "plt.plot( [7.7],[7.3], 'bP' )\n",
        "# สร้างสายฝน \n",
        "plt.plot([3,3],[1,1.5],'c-.')\n",
        "plt.plot([3.5,3.6],[0.5,2],'c-.')\n",
        "plt.plot([3.2,3.2],[2.2,3.5],'c-.')\n",
        "plt.plot([2.9,2.9],[4,5],'c-.')\n",
        "plt.plot([3.5,3.5],[4.1,5.4],'c-.')\n",
        "plt.plot([4,4],[3.5,4.6],'c-.')\n",
        "plt.plot([6],[2],'ch')\n",
        "plt.plot([6],[2.5],'c|')\n",
        "plt.plot([4.6,4.7],[4.4,4.6],'c-.')\n",
        "plt.plot([4.7,4.7],[2.9,3.5],'c-.')\n",
        "plt.plot([5,5.2],[1,2.3],'c-.')\n",
        "plt.plot([5.5,5.5],[2,3],'c-.')\n",
        "plt.plot([6.2,6.3],[4,5.5],'c-.')\n",
        "plt.plot([7,7],[2,5],'c-.')\n",
        "plt.plot([7.5,7.5],[2,4],'c-.')\n",
        "plt.plot([8,8.1],[2,4],'c-.')\n",
        "plt.plot([9,9.2],[2.5,6],'c-.')"
      ],
      "metadata": {
        "id": "ZnZ0ToGTG8Ub",
        "outputId": "e4459c7c-0c8a-46a4-d7bb-60f9755b7a19",
        "colab": {
          "base_uri": "https://localhost:8080/",
          "height": 282
        }
      },
      "execution_count": 14,
      "outputs": [
        {
          "output_type": "execute_result",
          "data": {
            "text/plain": [
              "[<matplotlib.lines.Line2D at 0x7fa54b39bed0>]"
            ]
          },
          "metadata": {},
          "execution_count": 14
        },
        {
          "output_type": "display_data",
          "data": {
            "image/png": "[encoded data removed]",
            "text/plain": [
              "<Figure size 432x288 with 1 Axes>"
            ]
          },
          "metadata": {
            "needs_background": "light"
          }
        }
      ]
    },
    {
      "cell_type": "markdown",
      "source": [
        "# Bar chart"
      ],
      "metadata": {
        "id": "C5qWMZuCsI6q"
      }
    },
    {
      "cell_type": "code",
      "source": [
        "sample_data"
      ],
      "metadata": {
        "id": "66RpcnhmsJnq",
        "outputId": "2f5f9e3e-67ac-4e4c-c85c-f2dee34697f6",
        "colab": {
          "base_uri": "https://localhost:8080/",
          "height": 174
        }
      },
      "execution_count": 15,
      "outputs": [
        {
          "output_type": "execute_result",
          "data": {
            "text/html": [
              "\n",
              "  <div id=\"df-f3add5af-8be3-4340-b5b6-9c484577761a\">\n",
              "    <div class=\"colab-df-container\">\n",
              "      <div>\n",
              "<style scoped>\n",
              "    .dataframe tbody tr th:only-of-type {\n",
              "        vertical-align: middle;\n",
              "    }\n",
              "\n",
              "    .dataframe tbody tr th {\n",
              "        vertical-align: top;\n",
              "    }\n",
              "\n",
              "    .dataframe thead th {\n",
              "        text-align: right;\n",
              "    }\n",
              "</style>\n",
              "<table border=\"1\" class=\"dataframe\">\n",
              "  <thead>\n",
              "    <tr style=\"text-align: right;\">\n",
              "      <th></th>\n",
              "      <th>SepalLength</th>\n",
              "      <th>SepalWidth</th>\n",
              "      <th>PetalLength</th>\n",
              "      <th>PetalWidth</th>\n",
              "    </tr>\n",
              "    <tr>\n",
              "      <th>Name</th>\n",
              "      <th></th>\n",
              "      <th></th>\n",
              "      <th></th>\n",
              "      <th></th>\n",
              "    </tr>\n",
              "  </thead>\n",
              "  <tbody>\n",
              "    <tr>\n",
              "      <th>Iris-setosa</th>\n",
              "      <td>5.006</td>\n",
              "      <td>3.418</td>\n",
              "      <td>1.464</td>\n",
              "      <td>0.244</td>\n",
              "    </tr>\n",
              "    <tr>\n",
              "      <th>Iris-versicolor</th>\n",
              "      <td>5.936</td>\n",
              "      <td>2.770</td>\n",
              "      <td>4.260</td>\n",
              "      <td>1.326</td>\n",
              "    </tr>\n",
              "    <tr>\n",
              "      <th>Iris-virginica</th>\n",
              "      <td>6.588</td>\n",
              "      <td>2.974</td>\n",
              "      <td>5.552</td>\n",
              "      <td>2.026</td>\n",
              "    </tr>\n",
              "  </tbody>\n",
              "</table>\n",
              "</div>\n",
              "      <button class=\"colab-df-convert\" onclick=\"convertToInteractive('df-f3add5af-8be3-4340-b5b6-9c484577761a')\"\n",
              "              title=\"Convert this dataframe to an interactive table.\"\n",
              "              style=\"display:none;\">\n",
              "        \n",
              "  <svg xmlns=\"http://www.w3.org/2000/svg\" height=\"24px\"viewBox=\"0 0 24 24\"\n",
              "       width=\"24px\">\n",
              "    <path d=\"M0 0h24v24H0V0z\" fill=\"none\"/>\n",
              "    <path d=\"M18.56 5.44l.94 2.06.94-2.06 2.06-.94-2.06-.94-.94-2.06-.94 2.06-2.06.94zm-11 1L8.5 8.5l.94-2.06 2.06-.94-2.06-.94L8.5 2.5l-.94 2.06-2.06.94zm10 10l.94 2.06.94-2.06 2.06-.94-2.06-.94-.94-2.06-.94 2.06-2.06.94z\"/><path d=\"M17.41 7.96l-1.37-1.37c-.4-.4-.92-.59-1.43-.59-.52 0-1.04.2-1.43.59L10.3 9.45l-7.72 7.72c-.78.78-.78 2.05 0 2.83L4 21.41c.39.39.9.59 1.41.59.51 0 1.02-.2 1.41-.59l7.78-7.78 2.81-2.81c.8-.78.8-2.07 0-2.86zM5.41 20L4 18.59l7.72-7.72 1.47 1.35L5.41 20z\"/>\n",
              "  </svg>\n",
              "      </button>\n",
              "      \n",
              "  <style>\n",
              "    .colab-df-container {\n",
              "      display:flex;\n",
              "      flex-wrap:wrap;\n",
              "      gap: 12px;\n",
              "    }\n",
              "\n",
              "    .colab-df-convert {\n",
              "      background-color: #E8F0FE;\n",
              "      border: none;\n",
              "      border-radius: 50%;\n",
              "      cursor: pointer;\n",
              "      display: none;\n",
              "      fill: #1967D2;\n",
              "      height: 32px;\n",
              "      padding: 0 0 0 0;\n",
              "      width: 32px;\n",
              "    }\n",
              "\n",
              "    .colab-df-convert:hover {\n",
              "      background-color: #E2EBFA;\n",
              "      box-shadow: 0px 1px 2px rgba(60, 64, 67, 0.3), 0px 1px 3px 1px rgba(60, 64, 67, 0.15);\n",
              "      fill: #174EA6;\n",
              "    }\n",
              "\n",
              "    [theme=dark] .colab-df-convert {\n",
              "      background-color: #3B4455;\n",
              "      fill: #D2E3FC;\n",
              "    }\n",
              "\n",
              "    [theme=dark] .colab-df-convert:hover {\n",
              "      background-color: #434B5C;\n",
              "      box-shadow: 0px 1px 3px 1px rgba(0, 0, 0, 0.15);\n",
              "      filter: drop-shadow(0px 1px 2px rgba(0, 0, 0, 0.3));\n",
              "      fill: #FFFFFF;\n",
              "    }\n",
              "  </style>\n",
              "\n",
              "      <script>\n",
              "        const buttonEl =\n",
              "          document.querySelector('#df-f3add5af-8be3-4340-b5b6-9c484577761a button.colab-df-convert');\n",
              "        buttonEl.style.display =\n",
              "          google.colab.kernel.accessAllowed ? 'block' : 'none';\n",
              "\n",
              "        async function convertToInteractive(key) {\n",
              "          const element = document.querySelector('#df-f3add5af-8be3-4340-b5b6-9c484577761a');\n",
              "          const dataTable =\n",
              "            await google.colab.kernel.invokeFunction('convertToInteractive',\n",
              "                                                     [key], {});\n",
              "          if (!dataTable) return;\n",
              "\n",
              "          const docLinkHtml = 'Like what you see? Visit the ' +\n",
              "            '<a target=\"_blank\" href=https://colab.research.google.com/notebooks/data_table.ipynb>data table notebook</a>'\n",
              "            + ' to learn more about interactive tables.';\n",
              "          element.innerHTML = '';\n",
              "          dataTable['output_type'] = 'display_data';\n",
              "          await google.colab.output.renderOutput(dataTable, element);\n",
              "          const docLink = document.createElement('div');\n",
              "          docLink.innerHTML = docLinkHtml;\n",
              "          element.appendChild(docLink);\n",
              "        }\n",
              "      </script>\n",
              "    </div>\n",
              "  </div>\n",
              "  "
            ],
            "text/plain": [
              "                 SepalLength  SepalWidth  PetalLength  PetalWidth\n",
              "Name                                                             \n",
              "Iris-setosa            5.006       3.418        1.464       0.244\n",
              "Iris-versicolor        5.936       2.770        4.260       1.326\n",
              "Iris-virginica         6.588       2.974        5.552       2.026"
            ]
          },
          "metadata": {},
          "execution_count": 15
        }
      ]
    },
    {
      "cell_type": "code",
      "source": [
        "sample_data['PetalLength']"
      ],
      "metadata": {
        "id": "XLzY_EAcsKZB",
        "outputId": "010d72fa-884f-4fdb-bc2d-102b6e49ddc0",
        "colab": {
          "base_uri": "https://localhost:8080/"
        }
      },
      "execution_count": 16,
      "outputs": [
        {
          "output_type": "execute_result",
          "data": {
            "text/plain": [
              "Name\n",
              "Iris-setosa        1.464\n",
              "Iris-versicolor    4.260\n",
              "Iris-virginica     5.552\n",
              "Name: PetalLength, dtype: float64"
            ]
          },
          "metadata": {},
          "execution_count": 16
        }
      ]
    },
    {
      "cell_type": "code",
      "source": [
        "sample_data['PetalLength'][0]"
      ],
      "metadata": {
        "id": "li-VsCmnsKWM",
        "outputId": "6c5657fc-58d2-4001-ad5b-92c36eb528bf",
        "colab": {
          "base_uri": "https://localhost:8080/"
        }
      },
      "execution_count": 17,
      "outputs": [
        {
          "output_type": "execute_result",
          "data": {
            "text/plain": [
              "1.464"
            ]
          },
          "metadata": {},
          "execution_count": 17
        }
      ]
    },
    {
      "cell_type": "markdown",
      "source": [
        "## เปรียบเทียบปริมาณ 1 ปริมาณของ object หลาย class"
      ],
      "metadata": {
        "id": "KrXYJF3js9N4"
      }
    },
    {
      "cell_type": "code",
      "source": [
        "plt.bar([1,2,3],sample_data['PetalLength'])"
      ],
      "metadata": {
        "id": "jBBy3909sKLO",
        "outputId": "7b69d0c7-c3d6-4855-ae3b-7f501e3e1d62",
        "colab": {
          "base_uri": "https://localhost:8080/",
          "height": 282
        }
      },
      "execution_count": 18,
      "outputs": [
        {
          "output_type": "execute_result",
          "data": {
            "text/plain": [
              "<BarContainer object of 3 artists>"
            ]
          },
          "metadata": {},
          "execution_count": 18
        },
        {
          "output_type": "display_data",
          "data": {
            "image/png": "[encoded data removed]",
            "text/plain": [
              "<Figure size 432x288 with 1 Axes>"
            ]
          },
          "metadata": {
            "needs_background": "light"
          }
        }
      ]
    },
    {
      "cell_type": "code",
      "source": [
        "sample_data.reset_index()"
      ],
      "metadata": {
        "id": "mwmTWXMIsKHQ",
        "outputId": "6ab27fe1-77b2-433e-80bd-6ada93b1c63d",
        "colab": {
          "base_uri": "https://localhost:8080/",
          "height": 143
        }
      },
      "execution_count": 19,
      "outputs": [
        {
          "output_type": "execute_result",
          "data": {
            "text/html": [
              "\n",
              "  <div id=\"df-cff6cd94-f0e7-47dd-8f14-688c29c0ebf9\">\n",
              "    <div class=\"colab-df-container\">\n",
              "      <div>\n",
              "<style scoped>\n",
              "    .dataframe tbody tr th:only-of-type {\n",
              "        vertical-align: middle;\n",
              "    }\n",
              "\n",
              "    .dataframe tbody tr th {\n",
              "        vertical-align: top;\n",
              "    }\n",
              "\n",
              "    .dataframe thead th {\n",
              "        text-align: right;\n",
              "    }\n",
              "</style>\n",
              "<table border=\"1\" class=\"dataframe\">\n",
              "  <thead>\n",
              "    <tr style=\"text-align: right;\">\n",
              "      <th></th>\n",
              "      <th>Name</th>\n",
              "      <th>SepalLength</th>\n",
              "      <th>SepalWidth</th>\n",
              "      <th>PetalLength</th>\n",
              "      <th>PetalWidth</th>\n",
              "    </tr>\n",
              "  </thead>\n",
              "  <tbody>\n",
              "    <tr>\n",
              "      <th>0</th>\n",
              "      <td>Iris-setosa</td>\n",
              "      <td>5.006</td>\n",
              "      <td>3.418</td>\n",
              "      <td>1.464</td>\n",
              "      <td>0.244</td>\n",
              "    </tr>\n",
              "    <tr>\n",
              "      <th>1</th>\n",
              "      <td>Iris-versicolor</td>\n",
              "      <td>5.936</td>\n",
              "      <td>2.770</td>\n",
              "      <td>4.260</td>\n",
              "      <td>1.326</td>\n",
              "    </tr>\n",
              "    <tr>\n",
              "      <th>2</th>\n",
              "      <td>Iris-virginica</td>\n",
              "      <td>6.588</td>\n",
              "      <td>2.974</td>\n",
              "      <td>5.552</td>\n",
              "      <td>2.026</td>\n",
              "    </tr>\n",
              "  </tbody>\n",
              "</table>\n",
              "</div>\n",
              "      <button class=\"colab-df-convert\" onclick=\"convertToInteractive('df-cff6cd94-f0e7-47dd-8f14-688c29c0ebf9')\"\n",
              "              title=\"Convert this dataframe to an interactive table.\"\n",
              "              style=\"display:none;\">\n",
              "        \n",
              "  <svg xmlns=\"http://www.w3.org/2000/svg\" height=\"24px\"viewBox=\"0 0 24 24\"\n",
              "       width=\"24px\">\n",
              "    <path d=\"M0 0h24v24H0V0z\" fill=\"none\"/>\n",
              "    <path d=\"M18.56 5.44l.94 2.06.94-2.06 2.06-.94-2.06-.94-.94-2.06-.94 2.06-2.06.94zm-11 1L8.5 8.5l.94-2.06 2.06-.94-2.06-.94L8.5 2.5l-.94 2.06-2.06.94zm10 10l.94 2.06.94-2.06 2.06-.94-2.06-.94-.94-2.06-.94 2.06-2.06.94z\"/><path d=\"M17.41 7.96l-1.37-1.37c-.4-.4-.92-.59-1.43-.59-.52 0-1.04.2-1.43.59L10.3 9.45l-7.72 7.72c-.78.78-.78 2.05 0 2.83L4 21.41c.39.39.9.59 1.41.59.51 0 1.02-.2 1.41-.59l7.78-7.78 2.81-2.81c.8-.78.8-2.07 0-2.86zM5.41 20L4 18.59l7.72-7.72 1.47 1.35L5.41 20z\"/>\n",
              "  </svg>\n",
              "      </button>\n",
              "      \n",
              "  <style>\n",
              "    .colab-df-container {\n",
              "      display:flex;\n",
              "      flex-wrap:wrap;\n",
              "      gap: 12px;\n",
              "    }\n",
              "\n",
              "    .colab-df-convert {\n",
              "      background-color: #E8F0FE;\n",
              "      border: none;\n",
              "      border-radius: 50%;\n",
              "      cursor: pointer;\n",
              "      display: none;\n",
              "      fill: #1967D2;\n",
              "      height: 32px;\n",
              "      padding: 0 0 0 0;\n",
              "      width: 32px;\n",
              "    }\n",
              "\n",
              "    .colab-df-convert:hover {\n",
              "      background-color: #E2EBFA;\n",
              "      box-shadow: 0px 1px 2px rgba(60, 64, 67, 0.3), 0px 1px 3px 1px rgba(60, 64, 67, 0.15);\n",
              "      fill: #174EA6;\n",
              "    }\n",
              "\n",
              "    [theme=dark] .colab-df-convert {\n",
              "      background-color: #3B4455;\n",
              "      fill: #D2E3FC;\n",
              "    }\n",
              "\n",
              "    [theme=dark] .colab-df-convert:hover {\n",
              "      background-color: #434B5C;\n",
              "      box-shadow: 0px 1px 3px 1px rgba(0, 0, 0, 0.15);\n",
              "      filter: drop-shadow(0px 1px 2px rgba(0, 0, 0, 0.3));\n",
              "      fill: #FFFFFF;\n",
              "    }\n",
              "  </style>\n",
              "\n",
              "      <script>\n",
              "        const buttonEl =\n",
              "          document.querySelector('#df-cff6cd94-f0e7-47dd-8f14-688c29c0ebf9 button.colab-df-convert');\n",
              "        buttonEl.style.display =\n",
              "          google.colab.kernel.accessAllowed ? 'block' : 'none';\n",
              "\n",
              "        async function convertToInteractive(key) {\n",
              "          const element = document.querySelector('#df-cff6cd94-f0e7-47dd-8f14-688c29c0ebf9');\n",
              "          const dataTable =\n",
              "            await google.colab.kernel.invokeFunction('convertToInteractive',\n",
              "                                                     [key], {});\n",
              "          if (!dataTable) return;\n",
              "\n",
              "          const docLinkHtml = 'Like what you see? Visit the ' +\n",
              "            '<a target=\"_blank\" href=https://colab.research.google.com/notebooks/data_table.ipynb>data table notebook</a>'\n",
              "            + ' to learn more about interactive tables.';\n",
              "          element.innerHTML = '';\n",
              "          dataTable['output_type'] = 'display_data';\n",
              "          await google.colab.output.renderOutput(dataTable, element);\n",
              "          const docLink = document.createElement('div');\n",
              "          docLink.innerHTML = docLinkHtml;\n",
              "          element.appendChild(docLink);\n",
              "        }\n",
              "      </script>\n",
              "    </div>\n",
              "  </div>\n",
              "  "
            ],
            "text/plain": [
              "              Name  SepalLength  SepalWidth  PetalLength  PetalWidth\n",
              "0      Iris-setosa        5.006       3.418        1.464       0.244\n",
              "1  Iris-versicolor        5.936       2.770        4.260       1.326\n",
              "2   Iris-virginica        6.588       2.974        5.552       2.026"
            ]
          },
          "metadata": {},
          "execution_count": 19
        }
      ]
    },
    {
      "cell_type": "code",
      "source": [
        "sample_data.reset_index()['Name']"
      ],
      "metadata": {
        "id": "wNb7fmD6tX3Z",
        "outputId": "c4199a36-d463-4fe3-da8a-9464f0304bf8",
        "colab": {
          "base_uri": "https://localhost:8080/"
        }
      },
      "execution_count": 20,
      "outputs": [
        {
          "output_type": "execute_result",
          "data": {
            "text/plain": [
              "0        Iris-setosa\n",
              "1    Iris-versicolor\n",
              "2     Iris-virginica\n",
              "Name: Name, dtype: object"
            ]
          },
          "metadata": {},
          "execution_count": 20
        }
      ]
    },
    {
      "cell_type": "code",
      "source": [
        "plt.bar([1,2,3],sample_data['PetalLength'])\n",
        "plt.xticks([1,2,3], sample_data.reset_index()['Name'], rotation='vertical')\n",
        "plt.title('Comparison between average petal length of 3 iris flowers')\n",
        "plt.ylabel('size (cm)');"
      ],
      "metadata": {
        "id": "Fp0y6Px7tXz4",
        "outputId": "7fa00370-98f0-4d4e-a7ad-71b6d8469654",
        "colab": {
          "base_uri": "https://localhost:8080/",
          "height": 338
        }
      },
      "execution_count": 21,
      "outputs": [
        {
          "output_type": "display_data",
          "data": {
            "image/png": "[encoded data removed]",
            "text/plain": [
              "<Figure size 432x288 with 1 Axes>"
            ]
          },
          "metadata": {
            "needs_background": "light"
          }
        }
      ]
    },
    {
      "cell_type": "code",
      "source": [
        "plt.bar([1,2,3],sample_data['PetalLength'])\n",
        "plt.xticks([1,2,3], sample_data.reset_index()['Name'], rotation='vertical')\n",
        "plt.title('Comparison between average petal length of 3 iris flowers')\n",
        "plt.grid(True,axis='y')\n",
        "plt.ylabel('size (cm)');"
      ],
      "metadata": {
        "id": "Hgr77FCjtloq",
        "outputId": "ac2e875a-e174-483a-d118-fc9c79fcf172",
        "colab": {
          "base_uri": "https://localhost:8080/",
          "height": 338
        }
      },
      "execution_count": 22,
      "outputs": [
        {
          "output_type": "display_data",
          "data": {
            "image/png": "[encoded data removed]",
            "text/plain": [
              "<Figure size 432x288 with 1 Axes>"
            ]
          },
          "metadata": {
            "needs_background": "light"
          }
        }
      ]
    },
    {
      "cell_type": "code",
      "source": [
        "plt.bar([1,2,3],sample_data['PetalLength'],color=['r','g','b'])\n",
        "plt.xticks([1,2,3], sample_data.reset_index()['Name'], rotation='vertical')\n",
        "plt.title('Comparison between average petal length of 3 iris flowers')\n",
        "plt.grid(True)\n",
        "plt.ylabel('size (cm)');"
      ],
      "metadata": {
        "id": "_Rh9gPYvtlli",
        "outputId": "499f3c6b-865c-41d3-c375-3f71c4e84a3a",
        "colab": {
          "base_uri": "https://localhost:8080/",
          "height": 338
        }
      },
      "execution_count": 23,
      "outputs": [
        {
          "output_type": "display_data",
          "data": {
            "image/png": "[encoded data removed]",
            "text/plain": [
              "<Figure size 432x288 with 1 Axes>"
            ]
          },
          "metadata": {
            "needs_background": "light"
          }
        }
      ]
    },
    {
      "cell_type": "markdown",
      "source": [
        "## เปรียบเทียบปริมาณ มากกว่า 1 ปริมาณของ object หลาย class"
      ],
      "metadata": {
        "id": "GV4rP5JauLvG"
      }
    },
    {
      "cell_type": "markdown",
      "source": [
        "![Screenshot (577).png](data:image/png;base64,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)"
      ],
      "metadata": {
        "id": "KGoXN0m7vMTF"
      }
    },
    {
      "cell_type": "code",
      "source": [
        "import numpy as np"
      ],
      "metadata": {
        "id": "OXr84sKauJA0"
      },
      "execution_count": 24,
      "outputs": []
    },
    {
      "cell_type": "code",
      "source": [
        "width = 0.2 #กำหนดเอง 0.2\n",
        "\n",
        "plt.bar([1, 2],[sample_data['PetalLength'][1],sample_data['PetalWidth'][1]],width,color='g',label='versicolor') #ดอกที่ 2 versicolor ตั้งตรงกลาง\n",
        "plt.bar([1-width, 2-width],[sample_data['PetalLength'][0],sample_data['PetalWidth'][0]],width,color='r',label='setosa') #ดอกที่ 1 setosa ขยับซ้าย\n",
        "plt.bar([1+width, 2+width],[sample_data['PetalLength'][2],sample_data['PetalWidth'][2]],width,color='b',label='virginica') #ดอกที่ 1 setosa ขยับขวา\n",
        "\n",
        "plt.xticks([1,2], ['Petal Length','Petal Width'])\n",
        "plt.legend();"
      ],
      "metadata": {
        "id": "8J64gKCGuI9-",
        "outputId": "500db0b3-ddc3-41e4-8d96-8e0d2ddab7e6",
        "colab": {
          "base_uri": "https://localhost:8080/",
          "height": 264
        }
      },
      "execution_count": 25,
      "outputs": [
        {
          "output_type": "display_data",
          "data": {
            "image/png": "[encoded data removed]",
            "text/plain": [
              "<Figure size 432x288 with 1 Axes>"
            ]
          },
          "metadata": {
            "needs_background": "light"
          }
        }
      ]
    },
    {
      "cell_type": "markdown",
      "source": [
        "### การนำปริมาณหลายปริมาณมาซ้อนกัน\n"
      ],
      "metadata": {
        "id": "eTUknDxXwjLc"
      }
    },
    {
      "cell_type": "markdown",
      "source": [
        "![Screenshot (576).png](data:image/png;base64,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)"
      ],
      "metadata": {
        "id": "P0xz_mdtwyCh"
      }
    },
    {
      "cell_type": "code",
      "source": [
        "plt.bar([1,2,3],sample_data['PetalLength'],color='b',label='Petal Length')\n",
        "plt.bar([1,2,3],sample_data['PetalWidth'],bottom=sample_data['PetalLength'],color='r',label='Petal Width')\n",
        "plt.xticks([1,2,3], sample_data.reset_index()['Name'])\n",
        "plt.grid(True,axis='y')\n",
        "plt.legend();"
      ],
      "metadata": {
        "id": "60sUPeW_uI6d",
        "outputId": "f7bae6c8-7dfb-4b35-9717-bcbe41fa64b8",
        "colab": {
          "base_uri": "https://localhost:8080/",
          "height": 264
        }
      },
      "execution_count": 26,
      "outputs": [
        {
          "output_type": "display_data",
          "data": {
            "image/png": "[encoded data removed]",
            "text/plain": [
              "<Figure size 432x288 with 1 Axes>"
            ]
          },
          "metadata": {
            "needs_background": "light"
          }
        }
      ]
    },
    {
      "cell_type": "markdown",
      "source": [
        "### Bar chart แบบ ตะแคงข้าง"
      ],
      "metadata": {
        "id": "OgpFHHKgyQrg"
      }
    },
    {
      "cell_type": "code",
      "source": [
        "plt.barh([1,2,3],sample_data['PetalLength'],color='b',label='Petal Length')\n",
        "plt.barh([1,2,3],sample_data['PetalWidth'],left=sample_data['PetalLength'],color='r',label='Petal Width')\n",
        "plt.yticks([1,2,3], sample_data.reset_index()['Name'])\n",
        "plt.grid(True,axis='x')\n",
        "plt.legend();"
      ],
      "metadata": {
        "id": "2yzcQ1cwwe1T",
        "outputId": "03eb3875-e161-4f8d-d548-bc31d440a1f0",
        "colab": {
          "base_uri": "https://localhost:8080/",
          "height": 264
        }
      },
      "execution_count": 27,
      "outputs": [
        {
          "output_type": "display_data",
          "data": {
            "image/png": "[encoded data removed]",
            "text/plain": [
              "<Figure size 432x288 with 1 Axes>"
            ]
          },
          "metadata": {
            "needs_background": "light"
          }
        }
      ]
    },
    {
      "cell_type": "markdown",
      "source": [
        "# HW7 \n",
        "1. plot bar chart เปรียบเทียบ sepal legth, sepal width, petal length, petal width ของ ดอก iris ทั้ง 3 ชนิด\n",
        "\n",
        "2. plot bar chart เพื่อเปรียบเทียบขนาดโดยรวมของ ดอก iris 3 ชนิด โดยดูจาก sepal legth, sepal width, petal length, และ petal width\n"
      ],
      "metadata": {
        "id": "3u4_UjeuyveR"
      }
    },
    {
      "cell_type": "markdown",
      "source": [
        "# 1. plot bar chart เปรียบเทียบ sepal legth, sepal width, petal length, petal width ของ ดอก iris ทั้ง 3 ชนิด"
      ],
      "metadata": {
        "id": "7VHKyNhxzrCr"
      }
    },
    {
      "cell_type": "code",
      "source": [
        "import numpy as np"
      ],
      "metadata": {
        "id": "gC5DyWFIzxcP"
      },
      "execution_count": 35,
      "outputs": []
    },
    {
      "cell_type": "code",
      "source": [
        "width = 0.2 #กำหนดเอง 0.2\n",
        "plt.bar([1, 2, 3, 4],[sample_data['SepalLength'][1],sample_data['SepalWidth'][1],sample_data['PetalLength'][1],sample_data['PetalWidth'][1]],width,color='c',label='versicolor') #ดอกที่ 2 versicolor ตั้งตรงกลาง ตำแหน่งที่1\n",
        "plt.bar([1-width, 2-width, 3-width, 4-width],[sample_data['SepalLength'][0],sample_data['SepalWidth'][0],sample_data['PetalLength'][0],sample_data['PetalWidth'][0]],width,color='m',label='setosa') #ดอกที่ 1 setosa ขยับซ้าย ตำแหน่งที่0\n",
        "plt.bar([1+width, 2+width, 3+width, 4+width],[sample_data['SepalLength'][2],sample_data['SepalWidth'][2],sample_data['PetalLength'][2],sample_data['PetalWidth'][2]],width,color='b',label='virginica') #ดอกที่ 1 setosa ขยับขวา ตำแหน่งที่2\n",
        "plt.xticks([1,2, 3, 4], ['Sepal Length','Sepal Width','Petal Length','Petal Width'])\n",
        "plt.legend(); # ใส่คำอธิบาย"
      ],
      "metadata": {
        "id": "yoAlT_Jfzx3N",
        "outputId": "ac9e2ca3-d3e8-48ae-a7ba-1576e085bdb6",
        "colab": {
          "base_uri": "https://localhost:8080/",
          "height": 264
        }
      },
      "execution_count": 54,
      "outputs": [
        {
          "output_type": "display_data",
          "data": {
            "image/png": "[encoded data removed]",
            "text/plain": [
              "<Figure size 432x288 with 1 Axes>"
            ]
          },
          "metadata": {
            "needs_background": "light"
          }
        }
      ]
    },
    {
      "cell_type": "markdown",
      "source": [
        "# 2. plot bar chart เพื่อเปรียบเทียบขนาดโดยรวมของ ดอก iris 3 ชนิด โดยดูจาก sepal legth, sepal width, petal length, และ petal width"
      ],
      "metadata": {
        "id": "UUxn28jF5F1I"
      }
    },
    {
      "cell_type": "code",
      "source": [
        "plt.bar([1,2,3],sample_data['SepalLength'],color='b',label='Sepal Length')\n",
        "plt.bar([1,2,3],sample_data['SepalWidth'],bottom=sample_data['SepalLength'],color='r',label='Sepal Width') #bottom คือ ข้างบน\n",
        "plt.bar([1,2,3],sample_data['PetalLength'],bottom=sample_data['SepalLength']+sample_data['SepalWidth'],color='c',label='Petal Length') #การบวกคือ ข้างบนขึ้นเรื่อยๆ\n",
        "plt.bar([1,2,3],sample_data['PetalWidth'],bottom=sample_data['SepalLength']+sample_data['SepalWidth']+sample_data['PetalLength'],color='m',label='Petal Width')\n",
        "plt.xticks([1,2,3], sample_data.reset_index()['Name']) # พล้อตชื่อของแกน x \n",
        "plt.grid(True,axis='y') #พล็อตเส้นกริต ที่แกน y\n",
        "plt.legend(); #คำอธิบายของข้อมูลในกราฟแท่งแต่ละสี"
      ],
      "metadata": {
        "id": "1gVzyFy76fUE",
        "outputId": "df5e0500-ea9f-4926-d253-b8e9e5cb546a",
        "colab": {
          "base_uri": "https://localhost:8080/",
          "height": 264
        }
      },
      "execution_count": 60,
      "outputs": [
        {
          "output_type": "display_data",
          "data": {
            "image/png": "[encoded data removed]",
            "text/plain": [
              "<Figure size 432x288 with 1 Axes>"
            ]
          },
          "metadata": {
            "needs_background": "light"
          }
        }
      ]
    },
    {
      "cell_type": "markdown",
      "source": [
        "# Histogram\n",
        "\n",
        "แสดงความถี่ของข้อมูล"
      ],
      "metadata": {
        "id": "5whLwC-Vyw74"
      }
    },
    {
      "cell_type": "code",
      "source": [
        "np.random.seed(2022)\n",
        "\n",
        "X=np.random.randint(1,101,10000)"
      ],
      "metadata": {
        "id": "hmyqENCfwexv"
      },
      "execution_count": 29,
      "outputs": []
    },
    {
      "cell_type": "code",
      "source": [
        "X"
      ],
      "metadata": {
        "id": "6gf3-whwweuz",
        "outputId": "83aa33c3-0daa-419b-8090-5a05a90f50c1",
        "colab": {
          "base_uri": "https://localhost:8080/"
        }
      },
      "execution_count": 30,
      "outputs": [
        {
          "output_type": "execute_result",
          "data": {
            "text/plain": [
              "array([93, 46, 50, ..., 64,  7, 46])"
            ]
          },
          "metadata": {},
          "execution_count": 30
        }
      ]
    },
    {
      "cell_type": "code",
      "source": [
        "histout = plt.hist(X)"
      ],
      "metadata": {
        "id": "mA_vUE8LzRmZ",
        "outputId": "b3e4a875-cb26-42cf-af4f-6b5934ac74e4",
        "colab": {
          "base_uri": "https://localhost:8080/",
          "height": 264
        }
      },
      "execution_count": 31,
      "outputs": [
        {
          "output_type": "display_data",
          "data": {
            "image/png": "[encoded data removed]",
            "text/plain": [
              "<Figure size 432x288 with 1 Axes>"
            ]
          },
          "metadata": {
            "needs_background": "light"
          }
        }
      ]
    },
    {
      "cell_type": "code",
      "source": [
        "histout"
      ],
      "metadata": {
        "id": "Vrmtc6LQzRjG",
        "outputId": "6ff26003-206d-4f51-da40-27a26e2918f4",
        "colab": {
          "base_uri": "https://localhost:8080/"
        }
      },
      "execution_count": 32,
      "outputs": [
        {
          "output_type": "execute_result",
          "data": {
            "text/plain": [
              "(array([1020., 1033.,  963.,  988., 1018.,  990., 1010., 1012.,  992.,\n",
              "         974.]),\n",
              " array([  1. ,  10.9,  20.8,  30.7,  40.6,  50.5,  60.4,  70.3,  80.2,\n",
              "         90.1, 100. ]),\n",
              " <a list of 10 Patch objects>)"
            ]
          },
          "metadata": {},
          "execution_count": 32
        }
      ]
    },
    {
      "cell_type": "code",
      "source": [
        "histout[0]"
      ],
      "metadata": {
        "id": "WBuvJm-YzZ67",
        "outputId": "958ef442-ecb5-4cbe-ce3e-3a409ce7599e",
        "colab": {
          "base_uri": "https://localhost:8080/"
        }
      },
      "execution_count": 33,
      "outputs": [
        {
          "output_type": "execute_result",
          "data": {
            "text/plain": [
              "array([1020., 1033.,  963.,  988., 1018.,  990., 1010., 1012.,  992.,\n",
              "        974.])"
            ]
          },
          "metadata": {},
          "execution_count": 33
        }
      ]
    },
    {
      "cell_type": "code",
      "source": [
        "histout[1]"
      ],
      "metadata": {
        "id": "llgMUzC6ze8s",
        "outputId": "ae07a750-5397-47b1-a83b-df6503120fb7",
        "colab": {
          "base_uri": "https://localhost:8080/"
        }
      },
      "execution_count": 34,
      "outputs": [
        {
          "output_type": "execute_result",
          "data": {
            "text/plain": [
              "array([  1. ,  10.9,  20.8,  30.7,  40.6,  50.5,  60.4,  70.3,  80.2,\n",
              "        90.1, 100. ])"
            ]
          },
          "metadata": {},
          "execution_count": 34
        }
      ]
    }
  ]
}