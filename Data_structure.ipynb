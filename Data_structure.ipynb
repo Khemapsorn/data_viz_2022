{
  "nbformat": 4,
  "nbformat_minor": 0,
  "metadata": {
    "colab": {
      "name": "Data structure.ipynb",
      "provenance": [],
      "collapsed_sections": [],
      "authorship_tag": "ABX9TyPkbLbZU9BDWeZ69sjZPKhq",
      "include_colab_link": true
    },
    "kernelspec": {
      "name": "python3",
      "display_name": "Python 3"
    },
    "language_info": {
      "name": "python"
    }
  },
  "cells": [
    {
      "cell_type": "markdown",
      "metadata": {
        "id": "view-in-github",
        "colab_type": "text"
      },
      "source": [
        "<a href=\"https://colab.research.google.com/github/Khemapsorn/data_viz_2022/blob/main/Data_structure.ipynb\" target=\"_parent\"><img src=\"https://colab.research.google.com/assets/colab-badge.svg\" alt=\"Open In Colab\"/></a>"
      ]
    },
    {
      "cell_type": "markdown",
      "source": [
        "# Data structure (โครงสร้างข้อมูล)\n",
        "การเก็บข้อมูลหลายๆตัวอย่างเป็นระเบียบ"
      ],
      "metadata": {
        "id": "fszyg-926GJX"
      }
    },
    {
      "cell_type": "markdown",
      "source": [
        "## `list()`\n",
        "\n",
        "- เก็บอะไรก็ได้\n",
        "- ลำดับในการเก็บ มีความสำคัญ\n"
      ],
      "metadata": {
        "id": "9BMpR7-g6Z3E"
      }
    },
    {
      "cell_type": "code",
      "execution_count": 1,
      "metadata": {
        "id": "i_40ulM94wD1"
      },
      "outputs": [],
      "source": [
        "list_a = [1,2,3,4,5,6] # [] square bracket"
      ]
    },
    {
      "cell_type": "code",
      "source": [
        "list_a"
      ],
      "metadata": {
        "colab": {
          "base_uri": "https://localhost:8080/"
        },
        "id": "BADMwyPa6-cI",
        "outputId": "e5f9d881-fa09-4dfb-a551-371ac56e92be"
      },
      "execution_count": 2,
      "outputs": [
        {
          "output_type": "execute_result",
          "data": {
            "text/plain": [
              "[1, 2, 3, 4, 5, 6]"
            ]
          },
          "metadata": {},
          "execution_count": 2
        }
      ]
    },
    {
      "cell_type": "code",
      "source": [
        "list_b = ['ab',2,3.14,list_a] # ลำดับของ output มันจะเป็นลำดับเดิม ไม่เปลี่ยนไปจาก code"
      ],
      "metadata": {
        "id": "V5y0DTyE7BeA"
      },
      "execution_count": 6,
      "outputs": []
    },
    {
      "cell_type": "code",
      "source": [
        "list_b"
      ],
      "metadata": {
        "colab": {
          "base_uri": "https://localhost:8080/"
        },
        "id": "W32VQ9AE7Kaq",
        "outputId": "710f1584-cf82-4031-d133-6700fa830620"
      },
      "execution_count": 7,
      "outputs": [
        {
          "output_type": "execute_result",
          "data": {
            "text/plain": [
              "['ab', 2, 3.14, [1, 2, 3, 4, 5, 6]]"
            ]
          },
          "metadata": {},
          "execution_count": 7
        }
      ]
    },
    {
      "cell_type": "markdown",
      "source": [
        "### indxing การชี้สมาชิกใน list ด้วย เลขลำดับของ list"
      ],
      "metadata": {
        "id": "IYR_8XV48dy2"
      }
    },
    {
      "cell_type": "code",
      "source": [
        "list_b[3] # มันเริ่มนับ 0 1 2 ... นับจากหน้าไปหลัง"
      ],
      "metadata": {
        "colab": {
          "base_uri": "https://localhost:8080/"
        },
        "id": "o9tocWoG7p7t",
        "outputId": "b396df1d-608d-40d8-88b1-1cab95583ad1"
      },
      "execution_count": 8,
      "outputs": [
        {
          "output_type": "execute_result",
          "data": {
            "text/plain": [
              "[1, 2, 3, 4, 5, 6]"
            ]
          },
          "metadata": {},
          "execution_count": 8
        }
      ]
    },
    {
      "cell_type": "code",
      "source": [
        "list_b[3] [4]  # มันเอาที่3มาก่อน ค่อยมาเอาตัวที่4ของoutput ที่3"
      ],
      "metadata": {
        "colab": {
          "base_uri": "https://localhost:8080/"
        },
        "id": "uKcqhE6g8E9Q",
        "outputId": "14538cb1-823d-4d1c-d59d-d4340c49332e"
      },
      "execution_count": 9,
      "outputs": [
        {
          "output_type": "execute_result",
          "data": {
            "text/plain": [
              "5"
            ]
          },
          "metadata": {},
          "execution_count": 9
        }
      ]
    },
    {
      "cell_type": "code",
      "source": [
        "list_a[6]"
      ],
      "metadata": {
        "colab": {
          "base_uri": "https://localhost:8080/",
          "height": 166
        },
        "id": "EYVkUhTE8t6Q",
        "outputId": "f624cecb-fb7e-42d1-bee1-c86ad2d844f4"
      },
      "execution_count": 10,
      "outputs": [
        {
          "output_type": "error",
          "ename": "IndexError",
          "evalue": "ignored",
          "traceback": [
            "\u001b[0;31m---------------------------------------------------------------------------\u001b[0m",
            "\u001b[0;31mIndexError\u001b[0m                                Traceback (most recent call last)",
            "\u001b[0;32m<ipython-input-10-d6b61775e813>\u001b[0m in \u001b[0;36m<module>\u001b[0;34m()\u001b[0m\n\u001b[0;32m----> 1\u001b[0;31m \u001b[0mlist_a\u001b[0m\u001b[0;34m[\u001b[0m\u001b[0;36m6\u001b[0m\u001b[0;34m]\u001b[0m\u001b[0;34m\u001b[0m\u001b[0;34m\u001b[0m\u001b[0m\n\u001b[0m",
            "\u001b[0;31mIndexError\u001b[0m: list index out of range"
          ]
        }
      ]
    },
    {
      "cell_type": "code",
      "source": [
        "list_a[-1] #index -1 คือตัวสุดท้ายของ list นับจากท้ายมาหน้า -1 -2 -3 ..."
      ],
      "metadata": {
        "colab": {
          "base_uri": "https://localhost:8080/"
        },
        "id": "vrb39Wke81Xl",
        "outputId": "3a0bd409-cf40-401c-8c1d-30c78e5d4ee1"
      },
      "execution_count": 11,
      "outputs": [
        {
          "output_type": "execute_result",
          "data": {
            "text/plain": [
              "6"
            ]
          },
          "metadata": {},
          "execution_count": 11
        }
      ]
    },
    {
      "cell_type": "code",
      "source": [
        "list_a[-4]"
      ],
      "metadata": {
        "colab": {
          "base_uri": "https://localhost:8080/"
        },
        "id": "5Hvo26X_9MYB",
        "outputId": "b99ab7a4-8fd9-4f05-8629-7bdd4fa0f6ea"
      },
      "execution_count": 12,
      "outputs": [
        {
          "output_type": "execute_result",
          "data": {
            "text/plain": [
              "3"
            ]
          },
          "metadata": {},
          "execution_count": 12
        }
      ]
    },
    {
      "cell_type": "markdown",
      "source": [
        "### การสร้าง `list()`\n",
        "\n"
      ],
      "metadata": {
        "id": "BHSsEOED9kvQ"
      }
    },
    {
      "cell_type": "code",
      "source": [
        "list_x1 = [] #แบบที่ 1\n",
        "list_x2 = list() #แบบที่2"
      ],
      "metadata": {
        "id": "3zNSR6bD9xP4"
      },
      "execution_count": 18,
      "outputs": []
    },
    {
      "cell_type": "code",
      "source": [
        "print(list_x1)\n",
        "print(list_x2)"
      ],
      "metadata": {
        "colab": {
          "base_uri": "https://localhost:8080/"
        },
        "id": "cDePU9JJ-A-W",
        "outputId": "2ac7607c-577a-41bb-cf44-5fddd30782f7"
      },
      "execution_count": 19,
      "outputs": [
        {
          "output_type": "stream",
          "name": "stdout",
          "text": [
            "[]\n",
            "[]\n"
          ]
        }
      ]
    },
    {
      "cell_type": "markdown",
      "source": [
        "### เพิ่มสมาชิกเข้าไปใน list ด้วย `append()`"
      ],
      "metadata": {
        "id": "vkL2UNZh-cVE"
      }
    },
    {
      "cell_type": "code",
      "source": [
        "list_x1.append(2)"
      ],
      "metadata": {
        "id": "7AStWPG_-rRA"
      },
      "execution_count": 20,
      "outputs": []
    },
    {
      "cell_type": "code",
      "source": [
        "list_x1"
      ],
      "metadata": {
        "colab": {
          "base_uri": "https://localhost:8080/"
        },
        "id": "-JQAbxoc_Kzg",
        "outputId": "5db4000d-6099-4fbd-8d07-674c69c07c6f"
      },
      "execution_count": 21,
      "outputs": [
        {
          "output_type": "execute_result",
          "data": {
            "text/plain": [
              "[2]"
            ]
          },
          "metadata": {},
          "execution_count": 21
        }
      ]
    },
    {
      "cell_type": "code",
      "source": [
        "list_x1.append(4)\n",
        "print(list_x1)"
      ],
      "metadata": {
        "colab": {
          "base_uri": "https://localhost:8080/"
        },
        "id": "NKPIYVct_TNR",
        "outputId": "00439306-eff6-4b4f-ce2f-93f1b135ba2c"
      },
      "execution_count": 22,
      "outputs": [
        {
          "output_type": "stream",
          "name": "stdout",
          "text": [
            "[2, 4]\n"
          ]
        }
      ]
    },
    {
      "cell_type": "code",
      "source": [
        "list_x1[0]"
      ],
      "metadata": {
        "colab": {
          "base_uri": "https://localhost:8080/"
        },
        "id": "2YHnmqbo_dOU",
        "outputId": "6b51dade-1d5a-4ffa-89cd-dc6bc75b1f80"
      },
      "execution_count": 23,
      "outputs": [
        {
          "output_type": "execute_result",
          "data": {
            "text/plain": [
              "2"
            ]
          },
          "metadata": {},
          "execution_count": 23
        }
      ]
    },
    {
      "cell_type": "code",
      "source": [
        "list_x1[-1]"
      ],
      "metadata": {
        "colab": {
          "base_uri": "https://localhost:8080/"
        },
        "id": "EO7Pd-Gi_i_c",
        "outputId": "aea7245d-f400-4491-e8bb-e66810f52342"
      },
      "execution_count": 24,
      "outputs": [
        {
          "output_type": "execute_result",
          "data": {
            "text/plain": [
              "4"
            ]
          },
          "metadata": {},
          "execution_count": 24
        }
      ]
    },
    {
      "cell_type": "code",
      "source": [
        "list_x2"
      ],
      "metadata": {
        "colab": {
          "base_uri": "https://localhost:8080/"
        },
        "id": "hGypa4hc_m8U",
        "outputId": "95040d98-9413-49bd-896d-cd450e61c027"
      },
      "execution_count": 25,
      "outputs": [
        {
          "output_type": "execute_result",
          "data": {
            "text/plain": [
              "[]"
            ]
          },
          "metadata": {},
          "execution_count": 25
        }
      ]
    },
    {
      "cell_type": "code",
      "source": [
        "list_x2.append('ha')"
      ],
      "metadata": {
        "id": "1XToXqLW_pzs"
      },
      "execution_count": 30,
      "outputs": []
    },
    {
      "cell_type": "code",
      "source": [
        "list_x2"
      ],
      "metadata": {
        "colab": {
          "base_uri": "https://localhost:8080/"
        },
        "id": "xVZ9cJFx_yxd",
        "outputId": "7989aa1c-6ce4-4d0c-b7b3-d39ceb69ea99"
      },
      "execution_count": 31,
      "outputs": [
        {
          "output_type": "execute_result",
          "data": {
            "text/plain": [
              "['ha', 'ha']"
            ]
          },
          "metadata": {},
          "execution_count": 31
        }
      ]
    },
    {
      "cell_type": "markdown",
      "source": [
        "### ลบสมาชิกจาก list"
      ],
      "metadata": {
        "id": "vtDtL0HQASvA"
      }
    },
    {
      "cell_type": "code",
      "source": [
        "list_x1.append('ha')"
      ],
      "metadata": {
        "id": "1cVkmmkwAXmp"
      },
      "execution_count": 32,
      "outputs": []
    },
    {
      "cell_type": "code",
      "source": [
        "list_x1"
      ],
      "metadata": {
        "colab": {
          "base_uri": "https://localhost:8080/"
        },
        "id": "Ihcr64kZAfAZ",
        "outputId": "43a8bf17-ee00-4928-f96d-e3dbc961bdd8"
      },
      "execution_count": 33,
      "outputs": [
        {
          "output_type": "execute_result",
          "data": {
            "text/plain": [
              "[2, 4, 'ha', 'ha']"
            ]
          },
          "metadata": {},
          "execution_count": 33
        }
      ]
    },
    {
      "cell_type": "code",
      "source": [
        "list_x1.pop()"
      ],
      "metadata": {
        "colab": {
          "base_uri": "https://localhost:8080/",
          "height": 34
        },
        "id": "DlLSs-CUAioq",
        "outputId": "734fbea6-f7f1-44a4-a0eb-894468c8bdd6"
      },
      "execution_count": 34,
      "outputs": [
        {
          "output_type": "execute_result",
          "data": {
            "application/vnd.google.colaboratory.intrinsic+json": {
              "type": "string"
            },
            "text/plain": [
              "'ha'"
            ]
          },
          "metadata": {},
          "execution_count": 34
        }
      ]
    },
    {
      "cell_type": "code",
      "source": [
        "list_x1"
      ],
      "metadata": {
        "colab": {
          "base_uri": "https://localhost:8080/"
        },
        "id": "8SOq8NjTApQU",
        "outputId": "636dc028-d4ce-4766-c794-fbba11aef97d"
      },
      "execution_count": 35,
      "outputs": [
        {
          "output_type": "execute_result",
          "data": {
            "text/plain": [
              "[2, 4, 'ha']"
            ]
          },
          "metadata": {},
          "execution_count": 35
        }
      ]
    },
    {
      "cell_type": "code",
      "source": [
        "list_x1.pop()\n",
        "print(list_x1)"
      ],
      "metadata": {
        "colab": {
          "base_uri": "https://localhost:8080/"
        },
        "id": "-ni2aA49Au1s",
        "outputId": "7df8e01b-eb84-474d-ad92-d1f1b292ed6d"
      },
      "execution_count": 36,
      "outputs": [
        {
          "output_type": "stream",
          "name": "stdout",
          "text": [
            "[2, 4]\n"
          ]
        }
      ]
    },
    {
      "cell_type": "code",
      "source": [
        ""
      ],
      "metadata": {
        "id": "A0GKEJ3ZBB6t"
      },
      "execution_count": null,
      "outputs": []
    },
    {
      "cell_type": "markdown",
      "source": [
        "### `len()` ตรวจสอบจำนวนสมาชิกของ list"
      ],
      "metadata": {
        "id": "kDJksMYVB8Aq"
      }
    },
    {
      "cell_type": "code",
      "source": [
        "print(list_b)\n",
        "print(len(list_b))"
      ],
      "metadata": {
        "colab": {
          "base_uri": "https://localhost:8080/"
        },
        "id": "afBmAPuDCIke",
        "outputId": "91db91a2-93e2-440f-dd3c-c85bdbc5d347"
      },
      "execution_count": 37,
      "outputs": [
        {
          "output_type": "stream",
          "name": "stdout",
          "text": [
            "['ab', 2, 3.14, [1, 2, 3, 4, 5, 6]]\n",
            "4\n"
          ]
        }
      ]
    },
    {
      "cell_type": "code",
      "source": [
        "len(list_a)"
      ],
      "metadata": {
        "colab": {
          "base_uri": "https://localhost:8080/"
        },
        "id": "c5nxIhfoCVKg",
        "outputId": "c908a30f-a7eb-43b8-c06d-988ba0cfff74"
      },
      "execution_count": 38,
      "outputs": [
        {
          "output_type": "execute_result",
          "data": {
            "text/plain": [
              "6"
            ]
          },
          "metadata": {},
          "execution_count": 38
        }
      ]
    },
    {
      "cell_type": "markdown",
      "source": [
        "### String is a list of characters"
      ],
      "metadata": {
        "id": "zyWbhH-XCgYs"
      }
    },
    {
      "cell_type": "code",
      "source": [
        "st_stat = 'Department of Statistics, Facalty of Science' # นับจำนวนตัวอักษร 0 1 2...."
      ],
      "metadata": {
        "id": "4NGyhW8DCppN"
      },
      "execution_count": 39,
      "outputs": []
    },
    {
      "cell_type": "code",
      "source": [
        "st_stat[10]"
      ],
      "metadata": {
        "colab": {
          "base_uri": "https://localhost:8080/",
          "height": 34
        },
        "id": "9OfESvHZDH2X",
        "outputId": "4ac778b9-3dd2-4035-b66f-451b8a7b2d6a"
      },
      "execution_count": 40,
      "outputs": [
        {
          "output_type": "execute_result",
          "data": {
            "application/vnd.google.colaboratory.intrinsic+json": {
              "type": "string"
            },
            "text/plain": [
              "' '"
            ]
          },
          "metadata": {},
          "execution_count": 40
        }
      ]
    },
    {
      "cell_type": "code",
      "source": [
        "len(st_stat)"
      ],
      "metadata": {
        "colab": {
          "base_uri": "https://localhost:8080/"
        },
        "id": "RhpkOJKLDRXQ",
        "outputId": "c82e4c03-b746-4211-804f-7b26d4fcd1ac"
      },
      "execution_count": 41,
      "outputs": [
        {
          "output_type": "execute_result",
          "data": {
            "text/plain": [
              "44"
            ]
          },
          "metadata": {},
          "execution_count": 41
        }
      ]
    },
    {
      "cell_type": "markdown",
      "source": [
        "### List Slicing การเฉือน list"
      ],
      "metadata": {
        "id": "WBtuLCcDDbIr"
      }
    },
    {
      "cell_type": "markdown",
      "source": [
        "`list [จุดเริ่มต้น: จุดสุดท้าย]`\n",
        "\n",
        "`list [จุดเริ่มต้น: จุดสุดท้าย:step]`\n",
        "![qq.jpg](data:image/jpeg;base64,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)"
      ],
      "metadata": {
        "id": "wuIjeWqJEXL8"
      }
    },
    {
      "cell_type": "code",
      "source": [
        "list_a"
      ],
      "metadata": {
        "colab": {
          "base_uri": "https://localhost:8080/"
        },
        "id": "gz__2vsHDsZ5",
        "outputId": "7f328351-7549-414a-9dac-176a60d2475e"
      },
      "execution_count": 42,
      "outputs": [
        {
          "output_type": "execute_result",
          "data": {
            "text/plain": [
              "[1, 2, 3, 4, 5, 6]"
            ]
          },
          "metadata": {},
          "execution_count": 42
        }
      ]
    },
    {
      "cell_type": "code",
      "source": [
        "list_a[2]"
      ],
      "metadata": {
        "colab": {
          "base_uri": "https://localhost:8080/"
        },
        "id": "eXFad6ijD410",
        "outputId": "7a824660-bdfa-4abc-f3d4-c6747af230cb"
      },
      "execution_count": 43,
      "outputs": [
        {
          "output_type": "execute_result",
          "data": {
            "text/plain": [
              "3"
            ]
          },
          "metadata": {},
          "execution_count": 43
        }
      ]
    },
    {
      "cell_type": "code",
      "source": [
        "list_a[-3:] # : colon"
      ],
      "metadata": {
        "colab": {
          "base_uri": "https://localhost:8080/"
        },
        "id": "NQTimWzdEHVI",
        "outputId": "c73a0940-a17c-40e8-e214-3e72d532f7db"
      },
      "execution_count": 44,
      "outputs": [
        {
          "output_type": "execute_result",
          "data": {
            "text/plain": [
              "[4, 5, 6]"
            ]
          },
          "metadata": {},
          "execution_count": 44
        }
      ]
    },
    {
      "cell_type": "code",
      "source": [
        "list_a[:4] # : colon"
      ],
      "metadata": {
        "colab": {
          "base_uri": "https://localhost:8080/"
        },
        "id": "iZRBPGg8GbDM",
        "outputId": "86a4e8ae-72a9-44db-8216-5155ff0e4197"
      },
      "execution_count": 46,
      "outputs": [
        {
          "output_type": "execute_result",
          "data": {
            "text/plain": [
              "[1, 2, 3, 4]"
            ]
          },
          "metadata": {},
          "execution_count": 46
        }
      ]
    },
    {
      "cell_type": "code",
      "source": [
        "list_a[1:4]"
      ],
      "metadata": {
        "colab": {
          "base_uri": "https://localhost:8080/"
        },
        "id": "Eh7JmcGlFqMo",
        "outputId": "c2ba9f16-bfb5-41d8-d74e-1ec6f8018c3d"
      },
      "execution_count": 45,
      "outputs": [
        {
          "output_type": "execute_result",
          "data": {
            "text/plain": [
              "[2, 3, 4]"
            ]
          },
          "metadata": {},
          "execution_count": 45
        }
      ]
    },
    {
      "cell_type": "code",
      "source": [
        "list_a[:]"
      ],
      "metadata": {
        "colab": {
          "base_uri": "https://localhost:8080/"
        },
        "id": "YXrHmxD4Gjns",
        "outputId": "67538460-2679-4a53-cdd8-2d9743ffa437"
      },
      "execution_count": 47,
      "outputs": [
        {
          "output_type": "execute_result",
          "data": {
            "text/plain": [
              "[1, 2, 3, 4, 5, 6]"
            ]
          },
          "metadata": {},
          "execution_count": 47
        }
      ]
    },
    {
      "cell_type": "markdown",
      "source": [
        "####step"
      ],
      "metadata": {
        "id": "ZkxLTEtkGxg8"
      }
    },
    {
      "cell_type": "code",
      "source": [
        "list_c = [1,2,3,4,5,6,7,8,9,10,11,12,13]"
      ],
      "metadata": {
        "id": "LBAwWKbuG1C9"
      },
      "execution_count": 48,
      "outputs": []
    },
    {
      "cell_type": "code",
      "source": [
        "list_c[:10:]"
      ],
      "metadata": {
        "colab": {
          "base_uri": "https://localhost:8080/"
        },
        "id": "msojydHnHDWo",
        "outputId": "4c373c33-fed8-4f6a-aadb-8e3bdbbd84d0"
      },
      "execution_count": 49,
      "outputs": [
        {
          "output_type": "execute_result",
          "data": {
            "text/plain": [
              "[1, 2, 3, 4, 5, 6, 7, 8, 9, 10]"
            ]
          },
          "metadata": {},
          "execution_count": 49
        }
      ]
    },
    {
      "cell_type": "code",
      "source": [
        "list_c[:10:2] # การกระโดด 2 ไปข้างหน้า"
      ],
      "metadata": {
        "colab": {
          "base_uri": "https://localhost:8080/"
        },
        "id": "qe4gRLP6HTYg",
        "outputId": "291be3e7-1dfa-4b61-b5db-e8696ab669f7"
      },
      "execution_count": 50,
      "outputs": [
        {
          "output_type": "execute_result",
          "data": {
            "text/plain": [
              "[1, 3, 5, 7, 9]"
            ]
          },
          "metadata": {},
          "execution_count": 50
        }
      ]
    },
    {
      "cell_type": "code",
      "source": [
        "list_c[: :-1] # ถอยหลังทีละ1 กลับหลัง"
      ],
      "metadata": {
        "colab": {
          "base_uri": "https://localhost:8080/"
        },
        "id": "RSRhNJHgHgZI",
        "outputId": "a9059938-774a-4233-a782-4554df332343"
      },
      "execution_count": 51,
      "outputs": [
        {
          "output_type": "execute_result",
          "data": {
            "text/plain": [
              "[13, 12, 11, 10, 9, 8, 7, 6, 5, 4, 3, 2, 1]"
            ]
          },
          "metadata": {},
          "execution_count": 51
        }
      ]
    },
    {
      "cell_type": "markdown",
      "source": [
        "### `range()`\n",
        "\n"
      ],
      "metadata": {
        "id": "IywabHbmH339"
      }
    },
    {
      "cell_type": "code",
      "source": [
        "range(21) # อยากได้เลข 21 ตัวตั้งแต่ 0-20"
      ],
      "metadata": {
        "colab": {
          "base_uri": "https://localhost:8080/"
        },
        "id": "GaFhm7LWIQsK",
        "outputId": "32119555-8b83-47c9-dc61-13c2eb55c40e"
      },
      "execution_count": 54,
      "outputs": [
        {
          "output_type": "execute_result",
          "data": {
            "text/plain": [
              "range(0, 21)"
            ]
          },
          "metadata": {},
          "execution_count": 54
        }
      ]
    },
    {
      "cell_type": "code",
      "source": [
        "a = list(range(21)) "
      ],
      "metadata": {
        "id": "2fsaPjeBHxAU"
      },
      "execution_count": 52,
      "outputs": []
    },
    {
      "cell_type": "code",
      "source": [
        "a"
      ],
      "metadata": {
        "colab": {
          "base_uri": "https://localhost:8080/"
        },
        "id": "8ESmD61ZISx4",
        "outputId": "fd2f32a1-8c21-45dd-d7a5-f63de71bd564"
      },
      "execution_count": 53,
      "outputs": [
        {
          "output_type": "execute_result",
          "data": {
            "text/plain": [
              "[0, 1, 2, 3, 4, 5, 6, 7, 8, 9, 10, 11, 12, 13, 14, 15, 16, 17, 18, 19, 20]"
            ]
          },
          "metadata": {},
          "execution_count": 53
        }
      ]
    },
    {
      "cell_type": "code",
      "source": [
        "list(range(1,21))"
      ],
      "metadata": {
        "colab": {
          "base_uri": "https://localhost:8080/"
        },
        "id": "ksNeIj6KIdWB",
        "outputId": "46493ca1-a310-4203-f5ea-d9869176b06f"
      },
      "execution_count": 55,
      "outputs": [
        {
          "output_type": "execute_result",
          "data": {
            "text/plain": [
              "[1, 2, 3, 4, 5, 6, 7, 8, 9, 10, 11, 12, 13, 14, 15, 16, 17, 18, 19, 20]"
            ]
          },
          "metadata": {},
          "execution_count": 55
        }
      ]
    },
    {
      "cell_type": "markdown",
      "source": [
        "HW2 คำนวณเวลาเป็นวินาทีของเวลาต่อไปนี้โดยใช้คำสั่ง split() ช่วย (print ออกมาให้สวยงาม)\n",
        "- 12:30:15\n",
        "- 13:41:07\n",
        "- 09:11:50\n",
        "- 21:30:15\n",
        "- 03:10:15\n"
      ],
      "metadata": {
        "id": "KSSYChDwJBJG"
      }
    },
    {
      "cell_type": "code",
      "source": [
        "#01:02:03\n",
        "\n",
        "a = (1*60*60)+(2*60)+3\n",
        "print(f'01:02:03 แปลงเป็นวินาที ได้ {a} วินาที')"
      ],
      "metadata": {
        "colab": {
          "base_uri": "https://localhost:8080/"
        },
        "id": "JDpj3ED1JnJF",
        "outputId": "d51b47c5-2dbc-4817-a4c9-3ac465e76b55"
      },
      "execution_count": 58,
      "outputs": [
        {
          "output_type": "stream",
          "name": "stdout",
          "text": [
            "01:02:03 แปลงเป็นวินาที ได้ 3723 วินาที\n"
          ]
        }
      ]
    }
  ]
}