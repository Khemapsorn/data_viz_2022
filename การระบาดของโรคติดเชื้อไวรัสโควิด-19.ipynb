{
  "nbformat": 4,
  "nbformat_minor": 0,
  "metadata": {
    "colab": {
      "name": "Untitled2.ipynb",
      "provenance": [],
      "authorship_tag": "ABX9TyMYNotQiU/QRtwGm3HZXk3e",
      "include_colab_link": true
    },
    "kernelspec": {
      "name": "python3",
      "display_name": "Python 3"
    },
    "language_info": {
      "name": "python"
    }
  },
  "cells": [
    {
      "cell_type": "markdown",
      "metadata": {
        "id": "view-in-github",
        "colab_type": "text"
      },
      "source": [
        "<a href=\"https://colab.research.google.com/github/Khemapsorn/data_viz_2022/blob/main/%E0%B8%81%E0%B8%B2%E0%B8%A3%E0%B8%A3%E0%B8%B0%E0%B8%9A%E0%B8%B2%E0%B8%94%E0%B8%82%E0%B8%AD%E0%B8%87%E0%B9%82%E0%B8%A3%E0%B8%84%E0%B8%95%E0%B8%B4%E0%B8%94%E0%B9%80%E0%B8%8A%E0%B8%B7%E0%B9%89%E0%B8%AD%E0%B9%84%E0%B8%A7%E0%B8%A3%E0%B8%B1%E0%B8%AA%E0%B9%82%E0%B8%84%E0%B8%A7%E0%B8%B4%E0%B8%94-19.ipynb\" target=\"_parent\"><img src=\"https://colab.research.google.com/assets/colab-badge.svg\" alt=\"Open In Colab\"/></a>"
      ]
    },
    {
      "cell_type": "code",
      "execution_count": 1,
      "metadata": {
        "id": "H0QeN-GMdT8j"
      },
      "outputs": [],
      "source": [
        "#import libralies\n",
        "import pandas as pd # ใช้จัดการข้อมูลต่าง ๆ ที่เป็นตาราง พวกexcel ,CSV\n",
        "import numpy as np\n",
        "import seaborn as sns\n",
        "import matplotlib.pyplot as plt # พล็อตกราฟต่างๆ \n",
        "\n",
        "from scipy.integrate import odeint #Integrate a system of ordinary differential equations.\n",
        "                                                # func(y, t0, ...) \n",
        "\n",
        "%config InlineBackend.figure_format = 'retina'"
      ]
    },
    {
      "cell_type": "markdown",
      "source": [
        "# SIR model"
      ],
      "metadata": {
        "id": "8OEWybs_de8Z"
      }
    },
    {
      "cell_type": "code",
      "source": [
        "# SIR model\n",
        "# Differential equation สมการเชิงอนุพันธ์\n",
        "def deriv(y, t, N, beta, gamma): # ตัวแปร\n",
        "    S, I, R = y\n",
        "    dSdt =(-beta*S*I) / N\n",
        "    dIdt = ((beta*S*I) / N) - gamma*I\n",
        "    dRdt = gamma*I\n",
        "    return dSdt, dIdt, dRdt"
      ],
      "metadata": {
        "id": "kTd3ndUhdVJw"
      },
      "execution_count": 2,
      "outputs": []
    },
    {
      "cell_type": "markdown",
      "source": [
        "# กำหนดค่าต่าง ๆ (เตรียมข้อมูลแบบจำลอง)"
      ],
      "metadata": {
        "id": "hsSJMPWWdqQE"
      }
    },
    {
      "cell_type": "code",
      "source": [
        "# Number of population\n",
        "N = 1000\n",
        "\n",
        "# Time period (100 days)\n",
        "t = np.arange(0,100,1)\n",
        "\n",
        "# Initial number of infected and recoverd\n",
        "I0 = 1\n",
        "R0 = 0\n",
        "\n",
        "#Initial susceptible to infection (Start with 1)\n",
        "S0 = N - I0 - R0\n",
        "\n",
        "# Set Beta and Gamma\n",
        "beta = 0.25\n",
        "gamma = 0.1\n",
        "\n",
        "# Constant rate beta and gamma rates\n",
        "#b = 1 / beta\n",
        "#g = 1 / gamma\n",
        "\n",
        "#Integration SIR model\n",
        "simulationresult = odeint(deriv, (S0, I0, R0), t, args = (N,beta,gamma))\n",
        "\n",
        "#Summary\n",
        "simulationResult = pd.DataFrame(simulationresult, columns = ['Susceptible', 'Infectious','Recovery'])\n",
        "simulationResult = simulationResult.astype(np.int32)"
      ],
      "metadata": {
        "id": "vhhqWa-VdpLd"
      },
      "execution_count": 10,
      "outputs": []
    },
    {
      "cell_type": "code",
      "source": [
        "t = np.arange(0,100,1)\n",
        "t"
      ],
      "metadata": {
        "colab": {
          "base_uri": "https://localhost:8080/"
        },
        "id": "EWFJf5vDdVGU",
        "outputId": "ac0f8317-07dd-4c0b-fe92-2f808686b844"
      },
      "execution_count": 11,
      "outputs": [
        {
          "output_type": "execute_result",
          "data": {
            "text/plain": [
              "array([ 0,  1,  2,  3,  4,  5,  6,  7,  8,  9, 10, 11, 12, 13, 14, 15, 16,\n",
              "       17, 18, 19, 20, 21, 22, 23, 24, 25, 26, 27, 28, 29, 30, 31, 32, 33,\n",
              "       34, 35, 36, 37, 38, 39, 40, 41, 42, 43, 44, 45, 46, 47, 48, 49, 50,\n",
              "       51, 52, 53, 54, 55, 56, 57, 58, 59, 60, 61, 62, 63, 64, 65, 66, 67,\n",
              "       68, 69, 70, 71, 72, 73, 74, 75, 76, 77, 78, 79, 80, 81, 82, 83, 84,\n",
              "       85, 86, 87, 88, 89, 90, 91, 92, 93, 94, 95, 96, 97, 98, 99])"
            ]
          },
          "metadata": {},
          "execution_count": 11
        }
      ]
    },
    {
      "cell_type": "code",
      "source": [
        "S0 = N - I0 - R0 # 1000-1-0\n",
        "S0"
      ],
      "metadata": {
        "colab": {
          "base_uri": "https://localhost:8080/"
        },
        "id": "C0Plq663dVDS",
        "outputId": "d9a05a10-d5d4-4583-e11b-acb26570c208"
      },
      "execution_count": 12,
      "outputs": [
        {
          "output_type": "execute_result",
          "data": {
            "text/plain": [
              "999"
            ]
          },
          "metadata": {},
          "execution_count": 12
        }
      ]
    },
    {
      "cell_type": "code",
      "source": [
        "simulationresult = odeint(deriv, (S0, I0, R0), t, args = (N,beta,gamma)) # คำสั่งใช้หา Differential equation\n",
        "simulationresult"
      ],
      "metadata": {
        "colab": {
          "base_uri": "https://localhost:8080/"
        },
        "id": "rvCVCedKdVAc",
        "outputId": "03b67fa2-ac74-488f-bb91-86200d5a6fbd"
      },
      "execution_count": 13,
      "outputs": [
        {
          "output_type": "execute_result",
          "data": {
            "text/plain": [
              "array([[9.99000000e+02, 1.00000000e+00, 0.00000000e+00],\n",
              "       [9.98730620e+02, 1.16150567e+00, 1.07874456e-01],\n",
              "       [9.98417836e+02, 1.34899746e+00, 2.33166716e-01],\n",
              "       [9.98054700e+02, 1.56662228e+00, 3.78677665e-01],\n",
              "       [9.97633168e+02, 1.81917696e+00, 5.47654670e-01],\n",
              "       [9.97143933e+02, 2.11220591e+00, 7.43861285e-01],\n",
              "       [9.96576231e+02, 2.45211183e+00, 9.71657342e-01],\n",
              "       [9.95917627e+02, 2.84628145e+00, 1.23609117e+00],\n",
              "       [9.95153769e+02, 3.30322634e+00, 1.54300472e+00],\n",
              "       [9.94268105e+02, 3.83274068e+00, 1.89915382e+00],\n",
              "       [9.93241579e+02, 4.44607637e+00, 2.31234509e+00],\n",
              "       [9.92052273e+02, 5.15613548e+00, 2.79159117e+00],\n",
              "       [9.90675034e+02, 5.97767964e+00, 3.34728604e+00],\n",
              "       [9.89081044e+02, 6.92755420e+00, 3.99140218e+00],\n",
              "       [9.87237366e+02, 8.02492396e+00, 4.73771052e+00],\n",
              "       [9.85106461e+02, 9.29151461e+00, 5.60202454e+00],\n",
              "       [9.82645681e+02, 1.07518512e+01, 6.60246826e+00],\n",
              "       [9.79806751e+02, 1.24334810e+01, 7.75976761e+00],\n",
              "       [9.76535274e+02, 1.43671634e+01, 9.09756245e+00],\n",
              "       [9.72770262e+02, 1.65870029e+01, 1.06427350e+01],\n",
              "       [9.68443758e+02, 1.91304944e+01, 1.24257477e+01],\n",
              "       [9.63480580e+02, 2.20384413e+01, 1.44809789e+01],\n",
              "       [9.57798260e+02, 2.53546971e+01, 1.68470432e+01],\n",
              "       [9.51307254e+02, 2.91256728e+01, 1.95670735e+01],\n",
              "       [9.43911516e+02, 3.33995439e+01, 2.26889401e+01],\n",
              "       [9.35509545e+02, 3.82250832e+01, 2.62653722e+01],\n",
              "       [9.25996011e+02, 4.36500486e+01, 3.03539409e+01],\n",
              "       [9.15264081e+02, 4.97190623e+01, 3.50168564e+01],\n",
              "       [9.03208537e+02, 5.64709381e+01, 4.03205253e+01],\n",
              "       [8.89729732e+02, 6.39354553e+01, 4.63348128e+01],\n",
              "       [8.74738411e+02, 7.21296318e+01, 5.31319571e+01],\n",
              "       [8.58161277e+02, 8.10536328e+01, 6.07850901e+01],\n",
              "       [8.39947105e+02, 9.06865529e+01, 6.93663423e+01],\n",
              "       [8.20073073e+02, 1.00982397e+02, 7.89445302e+01],\n",
              "       [7.98550808e+02, 1.11866720e+02, 8.95824723e+01],\n",
              "       [7.75431556e+02, 1.23234422e+02, 1.01334022e+02],\n",
              "       [7.50809814e+02, 1.34949226e+02, 1.14240960e+02],\n",
              "       [7.24824772e+02, 1.46845290e+02, 1.28329938e+02],\n",
              "       [6.97659054e+02, 1.58731243e+02, 1.43609703e+02],\n",
              "       [6.69534477e+02, 1.70396675e+02, 1.60068848e+02],\n",
              "       [6.40704892e+02, 1.81620781e+02, 1.77674327e+02],\n",
              "       [6.11446522e+02, 1.92182564e+02, 1.96370914e+02],\n",
              "       [5.82046572e+02, 2.01871701e+02, 2.16081727e+02],\n",
              "       [5.52791124e+02, 2.10499050e+02, 2.36709827e+02],\n",
              "       [5.23953406e+02, 2.17905786e+02, 2.58140808e+02],\n",
              "       [4.95783472e+02, 2.23970330e+02, 2.80246197e+02],\n",
              "       [4.68500065e+02, 2.28612521e+02, 3.02887414e+02],\n",
              "       [4.42285140e+02, 2.31794866e+02, 3.25919994e+02],\n",
              "       [4.17281166e+02, 2.33521027e+02, 3.49197806e+02],\n",
              "       [3.93590998e+02, 2.33832010e+02, 3.72576992e+02],\n",
              "       [3.71279886e+02, 2.32800678e+02, 3.95919436e+02],\n",
              "       [3.50379092e+02, 2.30525271e+02, 4.19095637e+02],\n",
              "       [3.30890508e+02, 2.27122590e+02, 4.41986901e+02],\n",
              "       [3.12791746e+02, 2.22721389e+02, 4.64486865e+02],\n",
              "       [2.96041256e+02, 2.17456360e+02, 4.86502384e+02],\n",
              "       [2.80583153e+02, 2.11462984e+02, 5.07953862e+02],\n",
              "       [2.66351536e+02, 2.04873351e+02, 5.28775113e+02],\n",
              "       [2.53274189e+02, 1.97812961e+02, 5.48912850e+02],\n",
              "       [2.41275635e+02, 1.90398453e+02, 5.68325912e+02],\n",
              "       [2.30279558e+02, 1.82736150e+02, 5.86984293e+02],\n",
              "       [2.20210652e+02, 1.74921280e+02, 6.04868069e+02],\n",
              "       [2.10995981e+02, 1.67037747e+02, 6.21966273e+02],\n",
              "       [2.02565916e+02, 1.59158317e+02, 6.38275767e+02],\n",
              "       [1.94854744e+02, 1.51345102e+02, 6.53800154e+02],\n",
              "       [1.87801002e+02, 1.43650254e+02, 6.68548743e+02],\n",
              "       [1.81347627e+02, 1.36116780e+02, 6.82535594e+02],\n",
              "       [1.75441938e+02, 1.28779417e+02, 6.95778645e+02],\n",
              "       [1.70035532e+02, 1.21665533e+02, 7.08298934e+02],\n",
              "       [1.65084095e+02, 1.14796002e+02, 7.20119904e+02],\n",
              "       [1.60547169e+02, 1.08186038e+02, 7.31266793e+02],\n",
              "       [1.56387905e+02, 1.01845982e+02, 7.41766113e+02],\n",
              "       [1.52572789e+02, 9.57820146e+01, 7.51645196e+02],\n",
              "       [1.49071380e+02, 8.99968082e+01, 7.60931812e+02],\n",
              "       [1.45856049e+02, 8.44901062e+01, 7.69653844e+02],\n",
              "       [1.42901733e+02, 7.92592375e+01, 7.77839030e+02],\n",
              "       [1.40185697e+02, 7.42995690e+01, 7.85514734e+02],\n",
              "       [1.37687324e+02, 6.96048984e+01, 7.92707778e+02],\n",
              "       [1.35387907e+02, 6.51677935e+01, 7.99444300e+02],\n",
              "       [1.33270471e+02, 6.09798849e+01, 8.05749644e+02],\n",
              "       [1.31319605e+02, 5.70321129e+01, 8.11648282e+02],\n",
              "       [1.29521308e+02, 5.33149385e+01, 8.17163753e+02],\n",
              "       [1.27862852e+02, 4.98185197e+01, 8.22318628e+02],\n",
              "       [1.26332660e+02, 4.65328575e+01, 8.27134482e+02],\n",
              "       [1.24920192e+02, 4.34479180e+01, 8.31631890e+02],\n",
              "       [1.23615845e+02, 4.05537307e+01, 8.35830424e+02],\n",
              "       [1.22410864e+02, 3.78404688e+01, 8.39748667e+02],\n",
              "       [1.21297260e+02, 3.52985125e+01, 8.43404228e+02],\n",
              "       [1.20267734e+02, 3.29184987e+01, 8.46813767e+02],\n",
              "       [1.19315618e+02, 3.06913588e+01, 8.49993023e+02],\n",
              "       [1.18434810e+02, 2.86083468e+01, 8.52956843e+02],\n",
              "       [1.17619725e+02, 2.66610586e+01, 8.55719216e+02],\n",
              "       [1.16865245e+02, 2.48414451e+01, 8.58293310e+02],\n",
              "       [1.16166677e+02, 2.31418185e+01, 8.60691504e+02],\n",
              "       [1.15519717e+02, 2.15548548e+01, 8.62925429e+02],\n",
              "       [1.14920410e+02, 2.00735923e+01, 8.65005998e+02],\n",
              "       [1.14365124e+02, 1.86914265e+01, 8.66943450e+02],\n",
              "       [1.13850519e+02, 1.74021034e+01, 8.68747378e+02],\n",
              "       [1.13373522e+02, 1.61997100e+01, 8.70426768e+02],\n",
              "       [1.12931305e+02, 1.50786637e+01, 8.71990031e+02],\n",
              "       [1.12521262e+02, 1.40337013e+01, 8.73445036e+02]])"
            ]
          },
          "metadata": {},
          "execution_count": 13
        }
      ]
    },
    {
      "cell_type": "code",
      "source": [
        "simulationResult = pd.DataFrame(simulationresult, columns = ['Susceptible', 'Infectious','Recovery'])\n",
        "simulationResult"
      ],
      "metadata": {
        "colab": {
          "base_uri": "https://localhost:8080/",
          "height": 424
        },
        "id": "0CVeqltvdU9h",
        "outputId": "dca9953e-8c6f-4a4f-ac8b-682eac4fae7f"
      },
      "execution_count": 14,
      "outputs": [
        {
          "output_type": "execute_result",
          "data": {
            "text/plain": [
              "    Susceptible  Infectious    Recovery\n",
              "0    999.000000    1.000000    0.000000\n",
              "1    998.730620    1.161506    0.107874\n",
              "2    998.417836    1.348997    0.233167\n",
              "3    998.054700    1.566622    0.378678\n",
              "4    997.633168    1.819177    0.547655\n",
              "..          ...         ...         ...\n",
              "95   114.365124   18.691427  866.943450\n",
              "96   113.850519   17.402103  868.747378\n",
              "97   113.373522   16.199710  870.426768\n",
              "98   112.931305   15.078664  871.990031\n",
              "99   112.521262   14.033701  873.445036\n",
              "\n",
              "[100 rows x 3 columns]"
            ],
            "text/html": [
              "\n",
              "  <div id=\"df-9d712b13-bd9c-4998-8a6f-5edd27d8a943\">\n",
              "    <div class=\"colab-df-container\">\n",
              "      <div>\n",
              "<style scoped>\n",
              "    .dataframe tbody tr th:only-of-type {\n",
              "        vertical-align: middle;\n",
              "    }\n",
              "\n",
              "    .dataframe tbody tr th {\n",
              "        vertical-align: top;\n",
              "    }\n",
              "\n",
              "    .dataframe thead th {\n",
              "        text-align: right;\n",
              "    }\n",
              "</style>\n",
              "<table border=\"1\" class=\"dataframe\">\n",
              "  <thead>\n",
              "    <tr style=\"text-align: right;\">\n",
              "      <th></th>\n",
              "      <th>Susceptible</th>\n",
              "      <th>Infectious</th>\n",
              "      <th>Recovery</th>\n",
              "    </tr>\n",
              "  </thead>\n",
              "  <tbody>\n",
              "    <tr>\n",
              "      <th>0</th>\n",
              "      <td>999.000000</td>\n",
              "      <td>1.000000</td>\n",
              "      <td>0.000000</td>\n",
              "    </tr>\n",
              "    <tr>\n",
              "      <th>1</th>\n",
              "      <td>998.730620</td>\n",
              "      <td>1.161506</td>\n",
              "      <td>0.107874</td>\n",
              "    </tr>\n",
              "    <tr>\n",
              "      <th>2</th>\n",
              "      <td>998.417836</td>\n",
              "      <td>1.348997</td>\n",
              "      <td>0.233167</td>\n",
              "    </tr>\n",
              "    <tr>\n",
              "      <th>3</th>\n",
              "      <td>998.054700</td>\n",
              "      <td>1.566622</td>\n",
              "      <td>0.378678</td>\n",
              "    </tr>\n",
              "    <tr>\n",
              "      <th>4</th>\n",
              "      <td>997.633168</td>\n",
              "      <td>1.819177</td>\n",
              "      <td>0.547655</td>\n",
              "    </tr>\n",
              "    <tr>\n",
              "      <th>...</th>\n",
              "      <td>...</td>\n",
              "      <td>...</td>\n",
              "      <td>...</td>\n",
              "    </tr>\n",
              "    <tr>\n",
              "      <th>95</th>\n",
              "      <td>114.365124</td>\n",
              "      <td>18.691427</td>\n",
              "      <td>866.943450</td>\n",
              "    </tr>\n",
              "    <tr>\n",
              "      <th>96</th>\n",
              "      <td>113.850519</td>\n",
              "      <td>17.402103</td>\n",
              "      <td>868.747378</td>\n",
              "    </tr>\n",
              "    <tr>\n",
              "      <th>97</th>\n",
              "      <td>113.373522</td>\n",
              "      <td>16.199710</td>\n",
              "      <td>870.426768</td>\n",
              "    </tr>\n",
              "    <tr>\n",
              "      <th>98</th>\n",
              "      <td>112.931305</td>\n",
              "      <td>15.078664</td>\n",
              "      <td>871.990031</td>\n",
              "    </tr>\n",
              "    <tr>\n",
              "      <th>99</th>\n",
              "      <td>112.521262</td>\n",
              "      <td>14.033701</td>\n",
              "      <td>873.445036</td>\n",
              "    </tr>\n",
              "  </tbody>\n",
              "</table>\n",
              "<p>100 rows × 3 columns</p>\n",
              "</div>\n",
              "      <button class=\"colab-df-convert\" onclick=\"convertToInteractive('df-9d712b13-bd9c-4998-8a6f-5edd27d8a943')\"\n",
              "              title=\"Convert this dataframe to an interactive table.\"\n",
              "              style=\"display:none;\">\n",
              "        \n",
              "  <svg xmlns=\"http://www.w3.org/2000/svg\" height=\"24px\"viewBox=\"0 0 24 24\"\n",
              "       width=\"24px\">\n",
              "    <path d=\"M0 0h24v24H0V0z\" fill=\"none\"/>\n",
              "    <path d=\"M18.56 5.44l.94 2.06.94-2.06 2.06-.94-2.06-.94-.94-2.06-.94 2.06-2.06.94zm-11 1L8.5 8.5l.94-2.06 2.06-.94-2.06-.94L8.5 2.5l-.94 2.06-2.06.94zm10 10l.94 2.06.94-2.06 2.06-.94-2.06-.94-.94-2.06-.94 2.06-2.06.94z\"/><path d=\"M17.41 7.96l-1.37-1.37c-.4-.4-.92-.59-1.43-.59-.52 0-1.04.2-1.43.59L10.3 9.45l-7.72 7.72c-.78.78-.78 2.05 0 2.83L4 21.41c.39.39.9.59 1.41.59.51 0 1.02-.2 1.41-.59l7.78-7.78 2.81-2.81c.8-.78.8-2.07 0-2.86zM5.41 20L4 18.59l7.72-7.72 1.47 1.35L5.41 20z\"/>\n",
              "  </svg>\n",
              "      </button>\n",
              "      \n",
              "  <style>\n",
              "    .colab-df-container {\n",
              "      display:flex;\n",
              "      flex-wrap:wrap;\n",
              "      gap: 12px;\n",
              "    }\n",
              "\n",
              "    .colab-df-convert {\n",
              "      background-color: #E8F0FE;\n",
              "      border: none;\n",
              "      border-radius: 50%;\n",
              "      cursor: pointer;\n",
              "      display: none;\n",
              "      fill: #1967D2;\n",
              "      height: 32px;\n",
              "      padding: 0 0 0 0;\n",
              "      width: 32px;\n",
              "    }\n",
              "\n",
              "    .colab-df-convert:hover {\n",
              "      background-color: #E2EBFA;\n",
              "      box-shadow: 0px 1px 2px rgba(60, 64, 67, 0.3), 0px 1px 3px 1px rgba(60, 64, 67, 0.15);\n",
              "      fill: #174EA6;\n",
              "    }\n",
              "\n",
              "    [theme=dark] .colab-df-convert {\n",
              "      background-color: #3B4455;\n",
              "      fill: #D2E3FC;\n",
              "    }\n",
              "\n",
              "    [theme=dark] .colab-df-convert:hover {\n",
              "      background-color: #434B5C;\n",
              "      box-shadow: 0px 1px 3px 1px rgba(0, 0, 0, 0.15);\n",
              "      filter: drop-shadow(0px 1px 2px rgba(0, 0, 0, 0.3));\n",
              "      fill: #FFFFFF;\n",
              "    }\n",
              "  </style>\n",
              "\n",
              "      <script>\n",
              "        const buttonEl =\n",
              "          document.querySelector('#df-9d712b13-bd9c-4998-8a6f-5edd27d8a943 button.colab-df-convert');\n",
              "        buttonEl.style.display =\n",
              "          google.colab.kernel.accessAllowed ? 'block' : 'none';\n",
              "\n",
              "        async function convertToInteractive(key) {\n",
              "          const element = document.querySelector('#df-9d712b13-bd9c-4998-8a6f-5edd27d8a943');\n",
              "          const dataTable =\n",
              "            await google.colab.kernel.invokeFunction('convertToInteractive',\n",
              "                                                     [key], {});\n",
              "          if (!dataTable) return;\n",
              "\n",
              "          const docLinkHtml = 'Like what you see? Visit the ' +\n",
              "            '<a target=\"_blank\" href=https://colab.research.google.com/notebooks/data_table.ipynb>data table notebook</a>'\n",
              "            + ' to learn more about interactive tables.';\n",
              "          element.innerHTML = '';\n",
              "          dataTable['output_type'] = 'display_data';\n",
              "          await google.colab.output.renderOutput(dataTable, element);\n",
              "          const docLink = document.createElement('div');\n",
              "          docLink.innerHTML = docLinkHtml;\n",
              "          element.appendChild(docLink);\n",
              "        }\n",
              "      </script>\n",
              "    </div>\n",
              "  </div>\n",
              "  "
            ]
          },
          "metadata": {},
          "execution_count": 14
        }
      ]
    },
    {
      "cell_type": "code",
      "source": [
        "simulationResult = simulationResult.astype(np.int32) # ปรับตัวเลขเป็นจำนวนเต็มของตารางข้างบน\n",
        "simulationResult"
      ],
      "metadata": {
        "colab": {
          "base_uri": "https://localhost:8080/",
          "height": 424
        },
        "id": "jC5H-3K0dU5k",
        "outputId": "d19dece5-b046-4b2b-e52b-46002ca350c8"
      },
      "execution_count": 15,
      "outputs": [
        {
          "output_type": "execute_result",
          "data": {
            "text/plain": [
              "    Susceptible  Infectious  Recovery\n",
              "0           999           1         0\n",
              "1           998           1         0\n",
              "2           998           1         0\n",
              "3           998           1         0\n",
              "4           997           1         0\n",
              "..          ...         ...       ...\n",
              "95          114          18       866\n",
              "96          113          17       868\n",
              "97          113          16       870\n",
              "98          112          15       871\n",
              "99          112          14       873\n",
              "\n",
              "[100 rows x 3 columns]"
            ],
            "text/html": [
              "\n",
              "  <div id=\"df-67a5cb7e-e67f-49ea-8745-1e600ae88b8d\">\n",
              "    <div class=\"colab-df-container\">\n",
              "      <div>\n",
              "<style scoped>\n",
              "    .dataframe tbody tr th:only-of-type {\n",
              "        vertical-align: middle;\n",
              "    }\n",
              "\n",
              "    .dataframe tbody tr th {\n",
              "        vertical-align: top;\n",
              "    }\n",
              "\n",
              "    .dataframe thead th {\n",
              "        text-align: right;\n",
              "    }\n",
              "</style>\n",
              "<table border=\"1\" class=\"dataframe\">\n",
              "  <thead>\n",
              "    <tr style=\"text-align: right;\">\n",
              "      <th></th>\n",
              "      <th>Susceptible</th>\n",
              "      <th>Infectious</th>\n",
              "      <th>Recovery</th>\n",
              "    </tr>\n",
              "  </thead>\n",
              "  <tbody>\n",
              "    <tr>\n",
              "      <th>0</th>\n",
              "      <td>999</td>\n",
              "      <td>1</td>\n",
              "      <td>0</td>\n",
              "    </tr>\n",
              "    <tr>\n",
              "      <th>1</th>\n",
              "      <td>998</td>\n",
              "      <td>1</td>\n",
              "      <td>0</td>\n",
              "    </tr>\n",
              "    <tr>\n",
              "      <th>2</th>\n",
              "      <td>998</td>\n",
              "      <td>1</td>\n",
              "      <td>0</td>\n",
              "    </tr>\n",
              "    <tr>\n",
              "      <th>3</th>\n",
              "      <td>998</td>\n",
              "      <td>1</td>\n",
              "      <td>0</td>\n",
              "    </tr>\n",
              "    <tr>\n",
              "      <th>4</th>\n",
              "      <td>997</td>\n",
              "      <td>1</td>\n",
              "      <td>0</td>\n",
              "    </tr>\n",
              "    <tr>\n",
              "      <th>...</th>\n",
              "      <td>...</td>\n",
              "      <td>...</td>\n",
              "      <td>...</td>\n",
              "    </tr>\n",
              "    <tr>\n",
              "      <th>95</th>\n",
              "      <td>114</td>\n",
              "      <td>18</td>\n",
              "      <td>866</td>\n",
              "    </tr>\n",
              "    <tr>\n",
              "      <th>96</th>\n",
              "      <td>113</td>\n",
              "      <td>17</td>\n",
              "      <td>868</td>\n",
              "    </tr>\n",
              "    <tr>\n",
              "      <th>97</th>\n",
              "      <td>113</td>\n",
              "      <td>16</td>\n",
              "      <td>870</td>\n",
              "    </tr>\n",
              "    <tr>\n",
              "      <th>98</th>\n",
              "      <td>112</td>\n",
              "      <td>15</td>\n",
              "      <td>871</td>\n",
              "    </tr>\n",
              "    <tr>\n",
              "      <th>99</th>\n",
              "      <td>112</td>\n",
              "      <td>14</td>\n",
              "      <td>873</td>\n",
              "    </tr>\n",
              "  </tbody>\n",
              "</table>\n",
              "<p>100 rows × 3 columns</p>\n",
              "</div>\n",
              "      <button class=\"colab-df-convert\" onclick=\"convertToInteractive('df-67a5cb7e-e67f-49ea-8745-1e600ae88b8d')\"\n",
              "              title=\"Convert this dataframe to an interactive table.\"\n",
              "              style=\"display:none;\">\n",
              "        \n",
              "  <svg xmlns=\"http://www.w3.org/2000/svg\" height=\"24px\"viewBox=\"0 0 24 24\"\n",
              "       width=\"24px\">\n",
              "    <path d=\"M0 0h24v24H0V0z\" fill=\"none\"/>\n",
              "    <path d=\"M18.56 5.44l.94 2.06.94-2.06 2.06-.94-2.06-.94-.94-2.06-.94 2.06-2.06.94zm-11 1L8.5 8.5l.94-2.06 2.06-.94-2.06-.94L8.5 2.5l-.94 2.06-2.06.94zm10 10l.94 2.06.94-2.06 2.06-.94-2.06-.94-.94-2.06-.94 2.06-2.06.94z\"/><path d=\"M17.41 7.96l-1.37-1.37c-.4-.4-.92-.59-1.43-.59-.52 0-1.04.2-1.43.59L10.3 9.45l-7.72 7.72c-.78.78-.78 2.05 0 2.83L4 21.41c.39.39.9.59 1.41.59.51 0 1.02-.2 1.41-.59l7.78-7.78 2.81-2.81c.8-.78.8-2.07 0-2.86zM5.41 20L4 18.59l7.72-7.72 1.47 1.35L5.41 20z\"/>\n",
              "  </svg>\n",
              "      </button>\n",
              "      \n",
              "  <style>\n",
              "    .colab-df-container {\n",
              "      display:flex;\n",
              "      flex-wrap:wrap;\n",
              "      gap: 12px;\n",
              "    }\n",
              "\n",
              "    .colab-df-convert {\n",
              "      background-color: #E8F0FE;\n",
              "      border: none;\n",
              "      border-radius: 50%;\n",
              "      cursor: pointer;\n",
              "      display: none;\n",
              "      fill: #1967D2;\n",
              "      height: 32px;\n",
              "      padding: 0 0 0 0;\n",
              "      width: 32px;\n",
              "    }\n",
              "\n",
              "    .colab-df-convert:hover {\n",
              "      background-color: #E2EBFA;\n",
              "      box-shadow: 0px 1px 2px rgba(60, 64, 67, 0.3), 0px 1px 3px 1px rgba(60, 64, 67, 0.15);\n",
              "      fill: #174EA6;\n",
              "    }\n",
              "\n",
              "    [theme=dark] .colab-df-convert {\n",
              "      background-color: #3B4455;\n",
              "      fill: #D2E3FC;\n",
              "    }\n",
              "\n",
              "    [theme=dark] .colab-df-convert:hover {\n",
              "      background-color: #434B5C;\n",
              "      box-shadow: 0px 1px 3px 1px rgba(0, 0, 0, 0.15);\n",
              "      filter: drop-shadow(0px 1px 2px rgba(0, 0, 0, 0.3));\n",
              "      fill: #FFFFFF;\n",
              "    }\n",
              "  </style>\n",
              "\n",
              "      <script>\n",
              "        const buttonEl =\n",
              "          document.querySelector('#df-67a5cb7e-e67f-49ea-8745-1e600ae88b8d button.colab-df-convert');\n",
              "        buttonEl.style.display =\n",
              "          google.colab.kernel.accessAllowed ? 'block' : 'none';\n",
              "\n",
              "        async function convertToInteractive(key) {\n",
              "          const element = document.querySelector('#df-67a5cb7e-e67f-49ea-8745-1e600ae88b8d');\n",
              "          const dataTable =\n",
              "            await google.colab.kernel.invokeFunction('convertToInteractive',\n",
              "                                                     [key], {});\n",
              "          if (!dataTable) return;\n",
              "\n",
              "          const docLinkHtml = 'Like what you see? Visit the ' +\n",
              "            '<a target=\"_blank\" href=https://colab.research.google.com/notebooks/data_table.ipynb>data table notebook</a>'\n",
              "            + ' to learn more about interactive tables.';\n",
              "          element.innerHTML = '';\n",
              "          dataTable['output_type'] = 'display_data';\n",
              "          await google.colab.output.renderOutput(dataTable, element);\n",
              "          const docLink = document.createElement('div');\n",
              "          docLink.innerHTML = docLinkHtml;\n",
              "          element.appendChild(docLink);\n",
              "        }\n",
              "      </script>\n",
              "    </div>\n",
              "  </div>\n",
              "  "
            ]
          },
          "metadata": {},
          "execution_count": 15
        }
      ]
    },
    {
      "cell_type": "code",
      "source": [
        "# plot the simulation\n",
        "plt.figure (figsize = (14, 7)) #กำหนดขนาด\n",
        "with plt.style.context('seaborn'): # พล็อตเนื้อหา สไตล์ต่าง ๆ\n",
        "    plt.title('COVID-19 SIR simulation') # ชื่อกราฟ\n",
        "    plt.xlabel('Time') # แกน X\n",
        "    plt.ylabel('Number of population') # แกน Y\n",
        "    plt.plot(simulationResult['Susceptible'], c = 'royalblue', linestyle = '--',label = 'Susceptible') # S\n",
        "    plt.plot(simulationResult['Infectious'], c = 'firebrick', linewidth = 2.5,label = 'Infectious') #I\n",
        "    plt.plot(simulationResult['Recovery'], c = 'forestgreen', linestyle = '--' ,label = 'Recovery') # R\n",
        "    plt.annotate(simulationResult['Infectious'].max(),\n",
        "                    (simulationResult['Infectious'].idxmax(), simulationResult['Infectious'].max()),\n",
        "                    textcoords = 'offset points', xytext = (5,5),ha = 'center')\n",
        "    plt.legend(frameon = True, facecolor = 'white') # โชว์เส้นกริด ทำเป็นสีขาว\n",
        "    plt.show()"
      ],
      "metadata": {
        "colab": {
          "base_uri": "https://localhost:8080/",
          "height": 457
        },
        "id": "tUKX5MEteOTi",
        "outputId": "7e4139d5-9009-427a-851e-6d221a9af779"
      },
      "execution_count": 16,
      "outputs": [
        {
          "output_type": "display_data",
          "data": {
            "text/plain": [
              "<Figure size 1008x504 with 1 Axes>"
            ],
            "image/png": "[encoded data removed]"
          },
          "metadata": {
            "image/png": {
              "width": 839,
              "height": 440
            },
            "needs_background": "light"
          }
        }
      ]
    },
    {
      "cell_type": "code",
      "source": [
        ""
      ],
      "metadata": {
        "id": "t9_aWIDWeOPt"
      },
      "execution_count": null,
      "outputs": []
    },
    {
      "cell_type": "code",
      "source": [
        ""
      ],
      "metadata": {
        "id": "4nY6ohDidU2F"
      },
      "execution_count": null,
      "outputs": []
    }
  ]
}