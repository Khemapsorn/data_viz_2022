{
  "nbformat": 4,
  "nbformat_minor": 0,
  "metadata": {
    "colab": {
      "name": "Basic Programing Concepts.ipynb",
      "provenance": [],
      "authorship_tag": "ABX9TyOxComSaX0ZJnR5Bo7Y1oQM",
      "include_colab_link": true
    },
    "kernelspec": {
      "name": "python3",
      "display_name": "Python 3"
    },
    "language_info": {
      "name": "python"
    }
  },
  "cells": [
    {
      "cell_type": "markdown",
      "metadata": {
        "id": "view-in-github",
        "colab_type": "text"
      },
      "source": [
        "<a href=\"https://colab.research.google.com/github/Khemapsorn/data_viz_2022/blob/main/Basic_Programing_Concepts.ipynb\" target=\"_parent\"><img src=\"https://colab.research.google.com/assets/colab-badge.svg\" alt=\"Open In Colab\"/></a>"
      ]
    },
    {
      "cell_type": "markdown",
      "source": [
        "#Function ($f(x)$ = y)"
      ],
      "metadata": {
        "id": "CxC5IrzrDhvf"
      }
    },
    {
      "cell_type": "markdown",
      "source": [
        "\n",
        "\n",
        "```python\n",
        "def function_name(inputa) :  ;deffinition คำนิยาม จะตั้งชื่อว่าไร\n",
        "      #do somethimg with input_x to get output_y กระทำบางอย่างกับฟังก์ชันโดยใส่ค่าx เข้าไป เพื่อให้ได้ค่า y ออกมา\n",
        "return output_y  ; ค่าoutput ออกมา\n",
        "```\n",
        "\n"
      ],
      "metadata": {
        "id": "89NzO4u5ELyz"
      }
    },
    {
      "cell_type": "markdown",
      "source": [
        "#ตัวอย่าง Function ที่มีส่วนประกอบ"
      ],
      "metadata": {
        "id": "QoBc1ZuILB2Y"
      }
    },
    {
      "cell_type": "markdown",
      "source": [
        "($f_1(x)$ = x**2+75)"
      ],
      "metadata": {
        "id": "BisGuRiyGFQ7"
      }
    },
    {
      "cell_type": "code",
      "execution_count": 21,
      "metadata": {
        "id": "9soy0EDQDfrt"
      },
      "outputs": [],
      "source": [
        "def function_f1(x) :\n",
        "    a = x**2\n",
        "    y=a+75\n",
        "    return y\n",
        "\n",
        "    print( 'done!' )"
      ]
    },
    {
      "cell_type": "code",
      "source": [
        "function_f1(3)"
      ],
      "metadata": {
        "colab": {
          "base_uri": "https://localhost:8080/"
        },
        "id": "sDrHaFpwGhiU",
        "outputId": "6fc814e4-94c6-4ff9-9812-cdcd7360da70"
      },
      "execution_count": 19,
      "outputs": [
        {
          "output_type": "execute_result",
          "data": {
            "text/plain": [
              "84"
            ]
          },
          "metadata": {},
          "execution_count": 19
        }
      ]
    },
    {
      "cell_type": "markdown",
      "source": [
        "function มีส่วนสำคัญทั้งหมด 4 ส่วน\n",
        "1. บอก python ว่าเราจะเขียนฟังก์ชัน ชื่ออะไร `def function_name()` : (ขาดไม่ได้)\n",
        "2. กำหนดตัวแปรที่จะเป็น input *input* (ขาดได้)\n",
        "3. ส่วนประมวลผล do_something with input to get Output (ขาดไม่ได้)\n",
        "4. ส่วน output `return` Output (ขาดได้)"
      ],
      "metadata": {
        "id": "tygPHsvcHVYM"
      }
    },
    {
      "cell_type": "markdown",
      "source": [
        "### ตัวอย่าง Function ที่มีส่วนประกอบ"
      ],
      "metadata": {
        "id": "wE6XAO09NC5z"
      }
    },
    {
      "cell_type": "code",
      "source": [
        "def function_f1(x) :\n",
        "    a = x**2\n",
        "    y=a+75\n",
        "    return y"
      ],
      "metadata": {
        "id": "llnM_P19NJfV"
      },
      "execution_count": 22,
      "outputs": []
    },
    {
      "cell_type": "markdown",
      "source": [
        "### ตัวอย่าง function ที่ไม่มี input"
      ],
      "metadata": {
        "id": "fEN7U8EsILkS"
      }
    },
    {
      "cell_type": "code",
      "source": [
        "def pi_v() :\n",
        "    y=3.14159\n",
        "    return y\n"
      ],
      "metadata": {
        "id": "ITxAb8gQIUmm"
      },
      "execution_count": 6,
      "outputs": []
    },
    {
      "cell_type": "code",
      "source": [
        "piv = pi_v()\n",
        "circle_area_r2 = piv*(2**2)\n",
        "print(circle_area_r2)"
      ],
      "metadata": {
        "colab": {
          "base_uri": "https://localhost:8080/"
        },
        "id": "0uJQa7T0IpCG",
        "outputId": "87890d20-c61f-4de4-e8f3-7226965dd9a7"
      },
      "execution_count": 8,
      "outputs": [
        {
          "output_type": "stream",
          "name": "stdout",
          "text": [
            "12.56636\n"
          ]
        }
      ]
    },
    {
      "cell_type": "markdown",
      "source": [
        "### Function ไม่มี process ไม่ได้"
      ],
      "metadata": {
        "id": "n8DWyo8fJRM2"
      }
    },
    {
      "cell_type": "code",
      "source": [
        "def function_a() : #ไม่มี process Run ไม่ได้ ตัว : คือจะบอกมาจะมีตัวเยื้องเข้ามานะ\n"
      ],
      "metadata": {
        "colab": {
          "base_uri": "https://localhost:8080/",
          "height": 131
        },
        "id": "ptJua5IHJF9_",
        "outputId": "ae7f746d-9f1a-4f5d-a10c-d35c4ca3c4c7"
      },
      "execution_count": 9,
      "outputs": [
        {
          "output_type": "error",
          "ename": "SyntaxError",
          "evalue": "ignored",
          "traceback": [
            "\u001b[0;36m  File \u001b[0;32m\"<ipython-input-9-69da0470bfd4>\"\u001b[0;36m, line \u001b[0;32m2\u001b[0m\n\u001b[0;31m    \u001b[0m\n\u001b[0m    ^\u001b[0m\n\u001b[0;31mSyntaxError\u001b[0m\u001b[0;31m:\u001b[0m unexpected EOF while parsing\n"
          ]
        }
      ]
    },
    {
      "cell_type": "markdown",
      "source": [
        "###ตัวอย่าง function ที่ไม่มี Output"
      ],
      "metadata": {
        "id": "vRy5nqAPJbMH"
      }
    },
    {
      "cell_type": "code",
      "source": [
        "def print_name_id(name, id) :\n",
        "    print(f'ชื่อ  {name} รหัวประจำตัว {id}')"
      ],
      "metadata": {
        "id": "Yl01M1a_Jjf6"
      },
      "execution_count": 10,
      "outputs": []
    },
    {
      "cell_type": "code",
      "source": [
        " print_name_id('ณัฐธิดา' , '623020435-1')"
      ],
      "metadata": {
        "colab": {
          "base_uri": "https://localhost:8080/"
        },
        "id": "Q5wT1fhqJ56x",
        "outputId": "6afb95f8-6aa4-42d7-cab4-2ea8bf3b09cc"
      },
      "execution_count": 11,
      "outputs": [
        {
          "output_type": "stream",
          "name": "stdout",
          "text": [
            "ชื่อ  ณัฐธิดา รหัวประจำตัว 623020435-1\n"
          ]
        }
      ]
    },
    {
      "cell_type": "code",
      "source": [
        "a =  print_name_id('ณัฐธิดา' , '623020435-1')"
      ],
      "metadata": {
        "colab": {
          "base_uri": "https://localhost:8080/"
        },
        "id": "q_YkFzdXKhcK",
        "outputId": "e39d10c3-f319-470c-bbd7-fb2f314c01da"
      },
      "execution_count": 12,
      "outputs": [
        {
          "output_type": "stream",
          "name": "stdout",
          "text": [
            "ชื่อ  ณัฐธิดา รหัวประจำตัว 623020435-1\n"
          ]
        }
      ]
    },
    {
      "cell_type": "code",
      "source": [
        "a"
      ],
      "metadata": {
        "id": "aazEUiyFKnnS"
      },
      "execution_count": 13,
      "outputs": []
    },
    {
      "cell_type": "markdown",
      "source": [
        "ตัวอย่าง Function"
      ],
      "metadata": {
        "id": "T_56ESyBOyTn"
      }
    },
    {
      "cell_type": "markdown",
      "source": [
        "## input ของ function แบ่งเป็น 2 ชนิด (จำเป็นต้องใส่ กับ ไม่จำเป็นต้องใส่)"
      ],
      "metadata": {
        "id": "8xQjXfYhQIEv"
      }
    },
    {
      "cell_type": "markdown",
      "source": [
        "ตัวอย่าง Function print_grade() มี input 3 ตัว จำเป็นต้องใส่ 2 ตัว\n",
        "คือ name กับ id และไม่จำเป็นต้องใส่ 1 ตัว คือเกรด ซึ่งมีค่า default เป็น F"
      ],
      "metadata": {
        "id": "9z7Kq-pfRFYH"
      }
    },
    {
      "cell_type": "code",
      "source": [
        "def print_grade(name, id, grade = 'F')\n",
        "      print(f'รหัสประจำตัว {id}  ชื่อ {name} ')\n",
        "      print(f' ได้เกรด {grade} ')"
      ],
      "metadata": {
        "id": "ybMnPvv_GwxG"
      },
      "execution_count": null,
      "outputs": []
    },
    {
      "cell_type": "markdown",
      "source": [
        "Looping (for)"
      ],
      "metadata": {
        "id": "mJGM4cOHED6d"
      }
    },
    {
      "cell_type": "markdown",
      "source": [
        "## Conditional Statement (if)"
      ],
      "metadata": {
        "id": "faLrkkmXNp6k"
      }
    },
    {
      "cell_type": "code",
      "source": [
        ""
      ],
      "metadata": {
        "id": "H98cnmX2OUyk"
      },
      "execution_count": null,
      "outputs": []
    }
  ]
}