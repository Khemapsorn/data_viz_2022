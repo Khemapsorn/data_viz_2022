{
  "nbformat": 4,
  "nbformat_minor": 0,
  "metadata": {
    "colab": {
      "name": "Basic Programing Concepts.ipynb",
      "provenance": [],
      "authorship_tag": "ABX9TyMqLuFm/c7jE2/Kjjt8kcU6",
      "include_colab_link": true
    },
    "kernelspec": {
      "name": "python3",
      "display_name": "Python 3"
    },
    "language_info": {
      "name": "python"
    }
  },
  "cells": [
    {
      "cell_type": "markdown",
      "metadata": {
        "id": "view-in-github",
        "colab_type": "text"
      },
      "source": [
        "<a href=\"https://colab.research.google.com/github/Khemapsorn/data_viz_2022/blob/main/Basic_Programing_Concepts.ipynb\" target=\"_parent\"><img src=\"https://colab.research.google.com/assets/colab-badge.svg\" alt=\"Open In Colab\"/></a>"
      ]
    },
    {
      "cell_type": "markdown",
      "source": [
        "#Functions ($f(x)$ = y)"
      ],
      "metadata": {
        "id": "CxC5IrzrDhvf"
      }
    },
    {
      "cell_type": "markdown",
      "source": [
        "\n",
        "\n",
        "```python\n",
        "def function_name(inputa) :  ;deffinition คำนิยาม จะตั้งชื่อว่าไร\n",
        "      #do somethimg with input_x to get output_y กระทำบางอย่างกับฟังก์ชันโดยใส่ค่าx เข้าไป เพื่อให้ได้ค่า y ออกมา\n",
        "return output_y  ; ค่าoutput ออกมา\n",
        "```\n",
        "\n"
      ],
      "metadata": {
        "id": "89NzO4u5ELyz"
      }
    },
    {
      "cell_type": "markdown",
      "source": [
        "#ตัวอย่าง Function ที่มีส่วนประกอบ"
      ],
      "metadata": {
        "id": "QoBc1ZuILB2Y"
      }
    },
    {
      "cell_type": "markdown",
      "source": [
        "$f_1(x) = x^2+75$"
      ],
      "metadata": {
        "id": "BisGuRiyGFQ7"
      }
    },
    {
      "cell_type": "code",
      "execution_count": 1,
      "metadata": {
        "id": "9soy0EDQDfrt",
        "outputId": "2ea460bf-f273-462a-87f3-ae55e538008d",
        "colab": {
          "base_uri": "https://localhost:8080/"
        }
      },
      "outputs": [
        {
          "output_type": "stream",
          "name": "stdout",
          "text": [
            "done!\n"
          ]
        }
      ],
      "source": [
        "def function_f1(x) :\n",
        "    a = x**2\n",
        "    y=a+75\n",
        "    return y\n",
        "\n",
        "print( 'done!' ) #เราทำให้มันเท่ากันกับ def โดยไม่ต้องเยื้องเข้ามา มันจะรันแค่ตัวหนังสือที่เราพิมพ์ออกมา"
      ]
    },
    {
      "cell_type": "code",
      "source": [
        "function_f1(3)"
      ],
      "metadata": {
        "colab": {
          "base_uri": "https://localhost:8080/"
        },
        "id": "sDrHaFpwGhiU",
        "outputId": "6fc814e4-94c6-4ff9-9812-cdcd7360da70"
      },
      "execution_count": null,
      "outputs": [
        {
          "output_type": "execute_result",
          "data": {
            "text/plain": [
              "84"
            ]
          },
          "metadata": {},
          "execution_count": 19
        }
      ]
    },
    {
      "cell_type": "markdown",
      "source": [
        "function มีส่วนสำคัญทั้งหมด 4 ส่วน\n",
        "1. บอก python ว่าเราจะเขียนฟังก์ชัน ชื่ออะไร `def function_name()` : (ขาดไม่ได้)\n",
        "2. กำหนดตัวแปรที่จะเป็น input *input* (ขาดได้)\n",
        "3. ส่วนประมวลผล do_something with input to get Output (ขาดไม่ได้)\n",
        "4. ส่วน output `return` Output (ขาดได้)"
      ],
      "metadata": {
        "id": "tygPHsvcHVYM"
      }
    },
    {
      "cell_type": "markdown",
      "source": [
        "### ตัวอย่าง Function ที่มีส่วนประกอบ"
      ],
      "metadata": {
        "id": "wE6XAO09NC5z"
      }
    },
    {
      "cell_type": "code",
      "source": [
        "def function_f1(x) :\n",
        "    a = x**2\n",
        "    y=a+75\n",
        "    return y"
      ],
      "metadata": {
        "id": "llnM_P19NJfV"
      },
      "execution_count": null,
      "outputs": []
    },
    {
      "cell_type": "markdown",
      "source": [
        "### ตัวอย่าง function ที่ไม่มี input"
      ],
      "metadata": {
        "id": "fEN7U8EsILkS"
      }
    },
    {
      "cell_type": "code",
      "source": [
        "def pi_v() :\n",
        "    y=3.14159\n",
        "    return y\n"
      ],
      "metadata": {
        "id": "ITxAb8gQIUmm"
      },
      "execution_count": null,
      "outputs": []
    },
    {
      "cell_type": "code",
      "source": [
        "piv = pi_v()\n",
        "circle_area_r2 = piv*(2**2) #สูตร piv*R^2 เมื่อข้อนี้ r=2\n",
        "print(circle_area_r2)"
      ],
      "metadata": {
        "colab": {
          "base_uri": "https://localhost:8080/"
        },
        "id": "0uJQa7T0IpCG",
        "outputId": "87890d20-c61f-4de4-e8f3-7226965dd9a7"
      },
      "execution_count": null,
      "outputs": [
        {
          "output_type": "stream",
          "name": "stdout",
          "text": [
            "12.56636\n"
          ]
        }
      ]
    },
    {
      "cell_type": "markdown",
      "source": [
        "### Function ไม่มี process ไม่ได้"
      ],
      "metadata": {
        "id": "n8DWyo8fJRM2"
      }
    },
    {
      "cell_type": "code",
      "source": [
        "def function_a() : #ไม่มี process Run ไม่ได้ ตัว : คือจะบอกมาจะมีตัวเยื้องเข้ามานะ\n"
      ],
      "metadata": {
        "colab": {
          "base_uri": "https://localhost:8080/",
          "height": 131
        },
        "id": "ptJua5IHJF9_",
        "outputId": "ae7f746d-9f1a-4f5d-a10c-d35c4ca3c4c7"
      },
      "execution_count": null,
      "outputs": [
        {
          "output_type": "error",
          "ename": "SyntaxError",
          "evalue": "ignored",
          "traceback": [
            "\u001b[0;36m  File \u001b[0;32m\"<ipython-input-9-69da0470bfd4>\"\u001b[0;36m, line \u001b[0;32m2\u001b[0m\n\u001b[0;31m    \u001b[0m\n\u001b[0m    ^\u001b[0m\n\u001b[0;31mSyntaxError\u001b[0m\u001b[0;31m:\u001b[0m unexpected EOF while parsing\n"
          ]
        }
      ]
    },
    {
      "cell_type": "markdown",
      "source": [
        "###ตัวอย่าง function ที่ไม่มี Output"
      ],
      "metadata": {
        "id": "vRy5nqAPJbMH"
      }
    },
    {
      "cell_type": "code",
      "source": [
        "def print_name_id(name, id) :\n",
        "    print(f'ชื่อ  {name} รหัวประจำตัว {id}')"
      ],
      "metadata": {
        "id": "Yl01M1a_Jjf6"
      },
      "execution_count": null,
      "outputs": []
    },
    {
      "cell_type": "code",
      "source": [
        " print_name_id('ณัฐธิดา' , '623020435-1')"
      ],
      "metadata": {
        "colab": {
          "base_uri": "https://localhost:8080/"
        },
        "id": "Q5wT1fhqJ56x",
        "outputId": "6afb95f8-6aa4-42d7-cab4-2ea8bf3b09cc"
      },
      "execution_count": null,
      "outputs": [
        {
          "output_type": "stream",
          "name": "stdout",
          "text": [
            "ชื่อ  ณัฐธิดา รหัวประจำตัว 623020435-1\n"
          ]
        }
      ]
    },
    {
      "cell_type": "code",
      "source": [
        "a =  print_name_id('ณัฐธิดา' , '623020435-1')"
      ],
      "metadata": {
        "colab": {
          "base_uri": "https://localhost:8080/"
        },
        "id": "q_YkFzdXKhcK",
        "outputId": "e39d10c3-f319-470c-bbd7-fb2f314c01da"
      },
      "execution_count": null,
      "outputs": [
        {
          "output_type": "stream",
          "name": "stdout",
          "text": [
            "ชื่อ  ณัฐธิดา รหัวประจำตัว 623020435-1\n"
          ]
        }
      ]
    },
    {
      "cell_type": "code",
      "source": [
        "a"
      ],
      "metadata": {
        "id": "aazEUiyFKnnS"
      },
      "execution_count": null,
      "outputs": []
    },
    {
      "cell_type": "markdown",
      "source": [
        "ตัวอย่าง function print https://www.programiz.com/python-programming/methods/built-in/print\n",
        "![Screenshot (438).png](data:image/png;base64,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)"
      ],
      "metadata": {
        "id": "8EIgH2xm_pm3"
      }
    },
    {
      "cell_type": "code",
      "source": [
        "print('ณัฐธิดา')\n",
        "print('623020435-1')"
      ],
      "metadata": {
        "id": "Ba0qaJofBNQ_",
        "outputId": "ba370d42-88af-41b6-932e-d44aa4e0b3c0",
        "colab": {
          "base_uri": "https://localhost:8080/"
        }
      },
      "execution_count": 2,
      "outputs": [
        {
          "output_type": "stream",
          "name": "stdout",
          "text": [
            "ณัฐธิดา\n",
            "623020435-1\n"
          ]
        }
      ]
    },
    {
      "cell_type": "code",
      "source": [
        "print('ณัฐธิดา',end='->')\n",
        "print('623020435-1')"
      ],
      "metadata": {
        "id": "xwz53XCaBaD3",
        "outputId": "e710251f-6b8d-4898-870a-0ebbb652991e",
        "colab": {
          "base_uri": "https://localhost:8080/"
        }
      },
      "execution_count": 4,
      "outputs": [
        {
          "output_type": "stream",
          "name": "stdout",
          "text": [
            "ณัฐธิดา->623020435-1\n"
          ]
        }
      ]
    },
    {
      "cell_type": "code",
      "source": [
        "print('ณัฐธิดา','623020435-1')"
      ],
      "metadata": {
        "id": "6WMxGc-AB5Px",
        "outputId": "7557857d-419b-4b56-da4d-e35416beeee6",
        "colab": {
          "base_uri": "https://localhost:8080/"
        }
      },
      "execution_count": 5,
      "outputs": [
        {
          "output_type": "stream",
          "name": "stdout",
          "text": [
            "ณัฐธิดา 623020435-1\n"
          ]
        }
      ]
    },
    {
      "cell_type": "code",
      "source": [
        "print('ณัฐธิดา','623020435-1',sep=' & ')"
      ],
      "metadata": {
        "id": "5xmnPG6VCIVW",
        "outputId": "201c9ba5-a1dc-407e-f577-3c432e8a2787",
        "colab": {
          "base_uri": "https://localhost:8080/"
        }
      },
      "execution_count": 7,
      "outputs": [
        {
          "output_type": "stream",
          "name": "stdout",
          "text": [
            "ณัฐธิดา & 623020435-1\n"
          ]
        }
      ]
    },
    {
      "cell_type": "markdown",
      "source": [
        "## input ของ function แบ่งเป็น 2 ชนิด (จำเป็นต้องใส่ กับ ไม่จำเป็นต้องใส่)"
      ],
      "metadata": {
        "id": "8xQjXfYhQIEv"
      }
    },
    {
      "cell_type": "markdown",
      "source": [
        "ตัวอย่าง Function print_grade() มี input 3 ตัว จำเป็นต้องใส่ 2 ตัว\n",
        "คือ name กับ id และไม่จำเป็นต้องใส่ 1 ตัว คือเกรด ซึ่งมีค่า default เป็น F"
      ],
      "metadata": {
        "id": "9z7Kq-pfRFYH"
      }
    },
    {
      "cell_type": "code",
      "source": [
        "def print_grade(name, id, grade = 'F'):\n",
        "    print(f'รหัสประจำตัว {id} ชื่อ {name}')\n",
        "    print(f'ได้เกรด {grade}')"
      ],
      "metadata": {
        "id": "a55lYBAIC8t9"
      },
      "execution_count": 11,
      "outputs": []
    },
    {
      "cell_type": "code",
      "source": [
        "print_grade('นายสิทธัตกะ จรัสแสง','623020541-2') #เราไม่ได้ใส่เกรดให้โปรแกรมมันยึดตามที่เราเขียนโค้ดไว้"
      ],
      "metadata": {
        "id": "DDZ8PMwPD67O",
        "outputId": "8e0e4853-dc38-429a-821c-50aceeee3673",
        "colab": {
          "base_uri": "https://localhost:8080/"
        }
      },
      "execution_count": 12,
      "outputs": [
        {
          "output_type": "stream",
          "name": "stdout",
          "text": [
            "รหัสประจำตัว 623020541-2 ชื่อ นายสิทธัตกะ จรัสแสง\n",
            "ได้เกรด F\n"
          ]
        }
      ]
    },
    {
      "cell_type": "code",
      "source": [
        "print_grade('นายสิทธํตกะ จรัสแสง','623020451-2','A')#เราสามารถใส่ได้ว่าอยากเกรดอะไร"
      ],
      "metadata": {
        "id": "zd9NJ4V8ENOs",
        "outputId": "39439fd6-8cee-4419-9b60-411b72579127",
        "colab": {
          "base_uri": "https://localhost:8080/"
        }
      },
      "execution_count": 13,
      "outputs": [
        {
          "output_type": "stream",
          "name": "stdout",
          "text": [
            "รหัสประจำตัว 623020451-2 ชื่อ นายสิทธํตกะ จรัสแสง\n",
            "ได้เกรด A\n"
          ]
        }
      ]
    },
    {
      "cell_type": "code",
      "source": [
        "print_grade('นายสิทธํตกะ จรัสแสง','623020451-2','ฺB+')"
      ],
      "metadata": {
        "id": "fbFEJ3EyEvcV",
        "outputId": "e24f7d3f-797b-454e-d33b-89e0e3e36f9b",
        "colab": {
          "base_uri": "https://localhost:8080/"
        }
      },
      "execution_count": 14,
      "outputs": [
        {
          "output_type": "stream",
          "name": "stdout",
          "text": [
            "รหัสประจำตัว 623020451-2 ชื่อ นายสิทธํตกะ จรัสแสง\n",
            "ได้เกรด ฺB+\n"
          ]
        }
      ]
    },
    {
      "cell_type": "markdown",
      "source": [
        "# Looping (for)"
      ],
      "metadata": {
        "id": "mJGM4cOHED6d"
      }
    },
    {
      "cell_type": "markdown",
      "source": [
        "# Conditional Statement (if)"
      ],
      "metadata": {
        "id": "faLrkkmXNp6k"
      }
    },
    {
      "cell_type": "code",
      "source": [
        ""
      ],
      "metadata": {
        "id": "nE3VG4irFFPI"
      },
      "execution_count": null,
      "outputs": []
    }
  ]
}